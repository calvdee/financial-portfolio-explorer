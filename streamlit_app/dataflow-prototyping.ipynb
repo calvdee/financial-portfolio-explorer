{
 "cells": [
  {
   "cell_type": "code",
   "execution_count": 1,
   "id": "6f2f28c4-895a-4978-adc6-ef1dee47d056",
   "metadata": {},
   "outputs": [],
   "source": [
    "%load_ext autoreload\n",
    "%autoreload 2\n",
    "\n",
    "import sys, os\n",
    "sys.path.insert(1, os.path.join(sys.path[0], '.'))"
   ]
  },
  {
   "cell_type": "code",
   "execution_count": 3,
   "id": "15409340-97d5-4bb0-a777-87eea686c104",
   "metadata": {},
   "outputs": [],
   "source": [
    "from src import data\n",
    "from src.data import PortfolioData"
   ]
  },
  {
   "cell_type": "code",
   "execution_count": 18,
   "id": "2635a9c0-05b1-4bb2-a5e9-362f8531e75e",
   "metadata": {},
   "outputs": [
    {
     "name": "stdout",
     "output_type": "stream",
     "text": [
      "[*********************100%***********************]  4 of 4 completed\n"
     ]
    },
    {
     "name": "stderr",
     "output_type": "stream",
     "text": [
      "/Users/calvindelima/projects/investing/.venv/lib/python3.8/site-packages/pandas/core/generic.py:4153: PerformanceWarning: dropping on a non-lexsorted multi-index without a level parameter may impact performance.\n",
      "  obj = obj._drop_axis(labels, axis, level=level, errors=errors)\n"
     ]
    }
   ],
   "source": [
    "orders_df = data.load_orders('data/orders.csv')\n",
    "portfolio_data = PortfolioData(orders_df)"
   ]
  },
  {
   "cell_type": "code",
   "execution_count": 32,
   "id": "468b6fc3-3736-4da4-9606-64dd5003a563",
   "metadata": {},
   "outputs": [
    {
     "data": {
      "text/html": [
       "<div>\n",
       "<style scoped>\n",
       "    .dataframe tbody tr th:only-of-type {\n",
       "        vertical-align: middle;\n",
       "    }\n",
       "\n",
       "    .dataframe tbody tr th {\n",
       "        vertical-align: top;\n",
       "    }\n",
       "\n",
       "    .dataframe thead th {\n",
       "        text-align: right;\n",
       "    }\n",
       "</style>\n",
       "<table border=\"1\" class=\"dataframe\">\n",
       "  <thead>\n",
       "    <tr style=\"text-align: right;\">\n",
       "      <th></th>\n",
       "      <th>portfolio_cost_usd</th>\n",
       "      <th>portfolio_value_usd</th>\n",
       "    </tr>\n",
       "    <tr>\n",
       "      <th>snapshot_date</th>\n",
       "      <th></th>\n",
       "      <th></th>\n",
       "    </tr>\n",
       "  </thead>\n",
       "  <tbody>\n",
       "    <tr>\n",
       "      <th>2021-05-21</th>\n",
       "      <td>7809.18</td>\n",
       "      <td>7771.534966</td>\n",
       "    </tr>\n",
       "  </tbody>\n",
       "</table>\n",
       "</div>"
      ],
      "text/plain": [
       "               portfolio_cost_usd  portfolio_value_usd\n",
       "snapshot_date                                         \n",
       "2021-05-21                7809.18          7771.534966"
      ]
     },
     "execution_count": 32,
     "metadata": {},
     "output_type": "execute_result"
    }
   ],
   "source": [
    "portfolio_state = (\n",
    "  portfolio_data\n",
    "    .portfolio_snapshot\n",
    "    .sort_index()\n",
    "    .tail(1)\n",
    ")\n",
    "portfolio_state"
   ]
  },
  {
   "cell_type": "code",
   "execution_count": 35,
   "id": "60567408-102b-4b77-8776-4ef28341956c",
   "metadata": {},
   "outputs": [
    {
     "data": {
      "text/plain": [
       "7771.534965515137"
      ]
     },
     "execution_count": 35,
     "metadata": {},
     "output_type": "execute_result"
    }
   ],
   "source": [
    "portfolio_state['portfolio_value_usd'].values[0]"
   ]
  },
  {
   "cell_type": "code",
   "execution_count": 26,
   "id": "fa1cf66f-219d-419d-ad81-56e9c89fa512",
   "metadata": {},
   "outputs": [
    {
     "data": {
      "text/plain": [
       "-37.64503448486357"
      ]
     },
     "execution_count": 26,
     "metadata": {},
     "output_type": "execute_result"
    }
   ],
   "source": [
    "(\n",
    "  portfolio_data\n",
    "    .portfolio_snapshot\n",
    "    .sort_index()\n",
    "    .tail(1)\n",
    "    .diff(axis = 1)\n",
    "    .iloc[0, 1]\n",
    ")"
   ]
  },
  {
   "cell_type": "code",
   "execution_count": 27,
   "id": "05ed3417-043c-4e8a-b459-60fa9e9ae263",
   "metadata": {},
   "outputs": [
    {
     "data": {
      "text/html": [
       "<div>\n",
       "<style scoped>\n",
       "    .dataframe tbody tr th:only-of-type {\n",
       "        vertical-align: middle;\n",
       "    }\n",
       "\n",
       "    .dataframe tbody tr th {\n",
       "        vertical-align: top;\n",
       "    }\n",
       "\n",
       "    .dataframe thead th {\n",
       "        text-align: right;\n",
       "    }\n",
       "</style>\n",
       "<table border=\"1\" class=\"dataframe\">\n",
       "  <thead>\n",
       "    <tr style=\"text-align: right;\">\n",
       "      <th></th>\n",
       "      <th>portfolio_cost_usd</th>\n",
       "      <th>portfolio_value_usd</th>\n",
       "    </tr>\n",
       "    <tr>\n",
       "      <th>snapshot_date</th>\n",
       "      <th></th>\n",
       "      <th></th>\n",
       "    </tr>\n",
       "  </thead>\n",
       "  <tbody>\n",
       "    <tr>\n",
       "      <th>2021-05-21</th>\n",
       "      <td>7809.18</td>\n",
       "      <td>7771.534966</td>\n",
       "    </tr>\n",
       "  </tbody>\n",
       "</table>\n",
       "</div>"
      ],
      "text/plain": [
       "               portfolio_cost_usd  portfolio_value_usd\n",
       "snapshot_date                                         \n",
       "2021-05-21                7809.18          7771.534966"
      ]
     },
     "execution_count": 27,
     "metadata": {},
     "output_type": "execute_result"
    }
   ],
   "source": [
    "(\n",
    "  portfolio_data\n",
    "    .portfolio_snapshot\n",
    "    .sort_index()\n",
    "    .tail(1)\n",
    ")"
   ]
  },
  {
   "cell_type": "code",
   "execution_count": 38,
   "id": "0ae4a7f1-cd57-40be-9b9e-edc3cef117f0",
   "metadata": {},
   "outputs": [
    {
     "data": {
      "text/plain": [
       "PortfolioSummary(dollar_cost=7809.18, dollar_value=7771.534965515137, dollar_return=-37.64503448486357, percent_return=-0.00482061298175529)"
      ]
     },
     "execution_count": 38,
     "metadata": {},
     "output_type": "execute_result"
    }
   ],
   "source": [
    "portfolio_data.summarize()"
   ]
  }
 ],
 "metadata": {
  "kernelspec": {
   "display_name": "Python 3",
   "language": "python",
   "name": "python3"
  },
  "language_info": {
   "codemirror_mode": {
    "name": "ipython",
    "version": 3
   },
   "file_extension": ".py",
   "mimetype": "text/x-python",
   "name": "python",
   "nbconvert_exporter": "python",
   "pygments_lexer": "ipython3",
   "version": "3.8.3"
  }
 },
 "nbformat": 4,
 "nbformat_minor": 5
}
