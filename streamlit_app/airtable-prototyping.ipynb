{
 "cells": [
  {
   "cell_type": "code",
   "execution_count": 77,
   "id": "6a5a575a-b2e6-464f-b082-d9a1ac03dded",
   "metadata": {},
   "outputs": [
    {
     "name": "stdout",
     "output_type": "stream",
     "text": [
      "The autoreload extension is already loaded. To reload it, use:\n",
      "  %reload_ext autoreload\n"
     ]
    }
   ],
   "source": [
    "%load_ext autoreload\n",
    "%autoreload 2\n",
    "\n",
    "import sys, os\n",
    "sys.path.insert(1, os.path.join(sys.path[0], '.'))"
   ]
  },
  {
   "cell_type": "code",
   "execution_count": 78,
   "id": "c844b5fb-e9bb-484b-a119-dcf874ee4eaa",
   "metadata": {},
   "outputs": [],
   "source": [
    "import pandas as pd\n",
    "from airtable import Airtable\n",
    "from os import environ\n",
    "from src.data import load_orders, load_orders_from_firebase\n",
    "# from src.\n",
    "\n",
    "%config Completer.use_jedi = False"
   ]
  },
  {
   "cell_type": "code",
   "execution_count": 79,
   "id": "4e9cdad2-00f4-4898-9026-fec7b342b7f2",
   "metadata": {},
   "outputs": [],
   "source": [
    "from src.portfolio import PortfolioData"
   ]
  },
  {
   "cell_type": "code",
   "execution_count": 93,
   "id": "f23611cf-57d0-441a-be4b-677ca49ad393",
   "metadata": {},
   "outputs": [],
   "source": [
    "DATA_API_KEY =  environ['DATA_API_KEY']\n",
    "DB_ID = environ['DB_ID']\n",
    "DATA_TABLE_NAME = 'S&P500-1'"
   ]
  },
  {
   "cell_type": "code",
   "execution_count": 96,
   "id": "9b00e6ff-d16f-4004-9352-f1541c4a760a",
   "metadata": {},
   "outputs": [
    {
     "name": "stdout",
     "output_type": "stream",
     "text": [
      "[*********************100%***********************]  1 of 1 completed\n"
     ]
    },
    {
     "data": {
      "text/html": [
       "<div>\n",
       "<style scoped>\n",
       "    .dataframe tbody tr th:only-of-type {\n",
       "        vertical-align: middle;\n",
       "    }\n",
       "\n",
       "    .dataframe tbody tr th {\n",
       "        vertical-align: top;\n",
       "    }\n",
       "\n",
       "    .dataframe thead th {\n",
       "        text-align: right;\n",
       "    }\n",
       "</style>\n",
       "<table border=\"1\" class=\"dataframe\">\n",
       "  <thead>\n",
       "    <tr style=\"text-align: right;\">\n",
       "      <th></th>\n",
       "      <th>asset</th>\n",
       "      <th>price_date</th>\n",
       "      <th>order_id</th>\n",
       "      <th>order_units</th>\n",
       "      <th>unit_price_usd</th>\n",
       "      <th>order_cost_usd</th>\n",
       "      <th>order_value_usd</th>\n",
       "    </tr>\n",
       "    <tr>\n",
       "      <th>order_date</th>\n",
       "      <th></th>\n",
       "      <th></th>\n",
       "      <th></th>\n",
       "      <th></th>\n",
       "      <th></th>\n",
       "      <th></th>\n",
       "      <th></th>\n",
       "    </tr>\n",
       "  </thead>\n",
       "  <tbody>\n",
       "    <tr>\n",
       "      <th>2021-04-06</th>\n",
       "      <td>SPY</td>\n",
       "      <td>2021-04-06</td>\n",
       "      <td>1</td>\n",
       "      <td>19.627204</td>\n",
       "      <td>405.277847</td>\n",
       "      <td>7971.0</td>\n",
       "      <td>7954.470897</td>\n",
       "    </tr>\n",
       "    <tr>\n",
       "      <th>2021-04-06</th>\n",
       "      <td>SPY</td>\n",
       "      <td>2021-04-07</td>\n",
       "      <td>1</td>\n",
       "      <td>19.627204</td>\n",
       "      <td>405.602066</td>\n",
       "      <td>7971.0</td>\n",
       "      <td>7960.834405</td>\n",
       "    </tr>\n",
       "    <tr>\n",
       "      <th>2021-04-06</th>\n",
       "      <td>SPY</td>\n",
       "      <td>2021-04-08</td>\n",
       "      <td>1</td>\n",
       "      <td>19.627204</td>\n",
       "      <td>407.558914</td>\n",
       "      <td>7971.0</td>\n",
       "      <td>7999.241862</td>\n",
       "    </tr>\n",
       "    <tr>\n",
       "      <th>2021-04-06</th>\n",
       "      <td>SPY</td>\n",
       "      <td>2021-04-09</td>\n",
       "      <td>1</td>\n",
       "      <td>19.627204</td>\n",
       "      <td>409.269089</td>\n",
       "      <td>7971.0</td>\n",
       "      <td>8032.807807</td>\n",
       "    </tr>\n",
       "    <tr>\n",
       "      <th>2021-04-06</th>\n",
       "      <td>SPY</td>\n",
       "      <td>2021-04-12</td>\n",
       "      <td>1</td>\n",
       "      <td>19.627204</td>\n",
       "      <td>410.573853</td>\n",
       "      <td>7971.0</td>\n",
       "      <td>8058.416671</td>\n",
       "    </tr>\n",
       "    <tr>\n",
       "      <th>...</th>\n",
       "      <td>...</td>\n",
       "      <td>...</td>\n",
       "      <td>...</td>\n",
       "      <td>...</td>\n",
       "      <td>...</td>\n",
       "      <td>...</td>\n",
       "      <td>...</td>\n",
       "    </tr>\n",
       "    <tr>\n",
       "      <th>2021-04-06</th>\n",
       "      <td>SPY</td>\n",
       "      <td>2021-08-02</td>\n",
       "      <td>1</td>\n",
       "      <td>19.627204</td>\n",
       "      <td>438.964996</td>\n",
       "      <td>7971.0</td>\n",
       "      <td>8615.655436</td>\n",
       "    </tr>\n",
       "    <tr>\n",
       "      <th>2021-04-06</th>\n",
       "      <td>SPY</td>\n",
       "      <td>2021-08-03</td>\n",
       "      <td>1</td>\n",
       "      <td>19.627204</td>\n",
       "      <td>439.794998</td>\n",
       "      <td>7971.0</td>\n",
       "      <td>8631.946051</td>\n",
       "    </tr>\n",
       "    <tr>\n",
       "      <th>2021-04-06</th>\n",
       "      <td>SPY</td>\n",
       "      <td>2021-08-04</td>\n",
       "      <td>1</td>\n",
       "      <td>19.627204</td>\n",
       "      <td>439.380005</td>\n",
       "      <td>7971.0</td>\n",
       "      <td>8623.800894</td>\n",
       "    </tr>\n",
       "    <tr>\n",
       "      <th>2021-04-06</th>\n",
       "      <td>SPY</td>\n",
       "      <td>2021-08-05</td>\n",
       "      <td>1</td>\n",
       "      <td>19.627204</td>\n",
       "      <td>440.990005</td>\n",
       "      <td>7971.0</td>\n",
       "      <td>8655.400704</td>\n",
       "    </tr>\n",
       "    <tr>\n",
       "      <th>2021-04-06</th>\n",
       "      <td>SPY</td>\n",
       "      <td>2021-08-06</td>\n",
       "      <td>1</td>\n",
       "      <td>19.627204</td>\n",
       "      <td>442.335052</td>\n",
       "      <td>7971.0</td>\n",
       "      <td>8681.800215</td>\n",
       "    </tr>\n",
       "  </tbody>\n",
       "</table>\n",
       "<p>87 rows × 7 columns</p>\n",
       "</div>"
      ],
      "text/plain": [
       "           asset price_date  order_id  order_units  unit_price_usd  \\\n",
       "order_date                                                           \n",
       "2021-04-06   SPY 2021-04-06         1    19.627204      405.277847   \n",
       "2021-04-06   SPY 2021-04-07         1    19.627204      405.602066   \n",
       "2021-04-06   SPY 2021-04-08         1    19.627204      407.558914   \n",
       "2021-04-06   SPY 2021-04-09         1    19.627204      409.269089   \n",
       "2021-04-06   SPY 2021-04-12         1    19.627204      410.573853   \n",
       "...          ...        ...       ...          ...             ...   \n",
       "2021-04-06   SPY 2021-08-02         1    19.627204      438.964996   \n",
       "2021-04-06   SPY 2021-08-03         1    19.627204      439.794998   \n",
       "2021-04-06   SPY 2021-08-04         1    19.627204      439.380005   \n",
       "2021-04-06   SPY 2021-08-05         1    19.627204      440.990005   \n",
       "2021-04-06   SPY 2021-08-06         1    19.627204      442.335052   \n",
       "\n",
       "            order_cost_usd  order_value_usd  \n",
       "order_date                                   \n",
       "2021-04-06          7971.0      7954.470897  \n",
       "2021-04-06          7971.0      7960.834405  \n",
       "2021-04-06          7971.0      7999.241862  \n",
       "2021-04-06          7971.0      8032.807807  \n",
       "2021-04-06          7971.0      8058.416671  \n",
       "...                    ...              ...  \n",
       "2021-04-06          7971.0      8615.655436  \n",
       "2021-04-06          7971.0      8631.946051  \n",
       "2021-04-06          7971.0      8623.800894  \n",
       "2021-04-06          7971.0      8655.400704  \n",
       "2021-04-06          7971.0      8681.800215  \n",
       "\n",
       "[87 rows x 7 columns]"
      ]
     },
     "execution_count": 96,
     "metadata": {},
     "output_type": "execute_result"
    }
   ],
   "source": [
    "orders_df = load_orders_from_firebase(DATA_API_KEY, DB_ID, DATA_TABLE_NAME, is_spy = True)\n",
    "portfolio = PortfolioData(orders_df)\n",
    "portfolio.order_snapshot"
   ]
  },
  {
   "cell_type": "code",
   "execution_count": 91,
   "id": "d4081d1a-5536-4015-9c13-2248221a9123",
   "metadata": {},
   "outputs": [
    {
     "data": {
      "image/png": "[encoded data removed]",
      "text/plain": [
       "<Figure size 432x288 with 1 Axes>"
      ]
     },
     "metadata": {
      "needs_background": "light"
     },
     "output_type": "display_data"
    }
   ],
   "source": [
    "portfolio.order_snapshot['order_value_usd'].plot();"
   ]
  }
 ],
 "metadata": {
  "kernelspec": {
   "display_name": "Python 3",
   "language": "python",
   "name": "python3"
  },
  "language_info": {
   "codemirror_mode": {
    "name": "ipython",
    "version": 3
   },
   "file_extension": ".py",
   "mimetype": "text/x-python",
   "name": "python",
   "nbconvert_exporter": "python",
   "pygments_lexer": "ipython3",
   "version": "3.8.3"
  }
 },
 "nbformat": 4,
 "nbformat_minor": 5
}
