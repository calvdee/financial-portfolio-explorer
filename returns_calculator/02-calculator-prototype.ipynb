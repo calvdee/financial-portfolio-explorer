{
 "cells": [
  {
   "cell_type": "code",
   "execution_count": null,
   "id": "miniature-province",
   "metadata": {},
   "outputs": [],
   "source": [
    "%load_ext autoreload\n",
    "%autoreload 2\n",
    "\n",
    "import sys, os\n",
    "sys.path.insert(1, os.path.join(sys.path[0], '..'))\n",
    "sys.path.insert(1, os.path.join(sys.path[0], '.'))"
   ]
  },
  {
   "cell_type": "code",
   "execution_count": null,
   "id": "extreme-officer",
   "metadata": {},
   "outputs": [],
   "source": [
    "import pandas as pd\n",
    "import seaborn as sns\n",
    "import matplotlib.pyplot as plt\n",
    "\n",
    "from src import data\n",
    "from datetime import date\n",
    "from io import StringIO"
   ]
  },
  {
   "cell_type": "markdown",
   "id": "third-croatia",
   "metadata": {},
   "source": [
    "# Load Data"
   ]
  },
  {
   "cell_type": "code",
   "execution_count": null,
   "id": "alert-drain",
   "metadata": {},
   "outputs": [],
   "source": [
    "orders_df = (\n",
    "  pd\n",
    "    .read_csv('../streamlit_app/data/orders.csv', parse_dates = ['order_date'])\n",
    "    .reset_index()\n",
    "    .rename(columns = {'index': 'order_id'})\n",
    "    .assign(\n",
    "      order_id = lambda df: df['order_id']+1,\n",
    "      order_date = lambda df: pd.to_datetime(df['order_date'].dt.date)\n",
    "    )\n",
    ")\n",
    "orders_df"
   ]
  },
  {
   "cell_type": "markdown",
   "id": "c959f617-ff08-49bb-848b-c693a63c633d",
   "metadata": {},
   "source": [
    "Total portfolio cost"
   ]
  },
  {
   "cell_type": "code",
   "execution_count": 4,
   "id": "5582c4e2-6b8b-4930-9f14-5982cfe53670",
   "metadata": {},
   "outputs": [
    {
     "data": {
      "text/plain": [
       "7809.18"
      ]
     },
     "execution_count": 4,
     "metadata": {},
     "output_type": "execute_result"
    }
   ],
   "source": [
    "orders_df['order_cost_usd'].sum()"
   ]
  },
  {
   "cell_type": "code",
   "execution_count": 5,
   "id": "automotive-breed",
   "metadata": {},
   "outputs": [],
   "source": [
    "# orders = [\n",
    "#   #COST\t2021-04-06, 09:30:01\t360.12\t2\t720.24\n",
    "#   {\n",
    "#     'asset': 'COST',\n",
    "#     'order_date': date(2021, 4, 6),\n",
    "#     'order_id': 1,\n",
    "#     'order_units': 2,\n",
    "#     'unit_cost_usd': 360.12,\n",
    "#   },\n",
    "# ]"
   ]
  },
  {
   "cell_type": "code",
   "execution_count": 6,
   "id": "improving-cricket",
   "metadata": {},
   "outputs": [
    {
     "name": "stdout",
     "output_type": "stream",
     "text": [
      "[*********************100%***********************]  4 of 4 completed\n"
     ]
    },
    {
     "name": "stderr",
     "output_type": "stream",
     "text": [
      "/Users/calvindelima/projects/investing/.venv/lib/python3.8/site-packages/pandas/core/generic.py:4153: PerformanceWarning: dropping on a non-lexsorted multi-index without a level parameter may impact performance.\n",
      "  obj = obj._drop_axis(labels, axis, level=level, errors=errors)\n"
     ]
    }
   ],
   "source": [
    "# orders_df = data.make_orders_df(orders)\n",
    "assets = list(orders_df['asset'].unique())\n",
    "prices_df = data.make_prices_df(assets)"
   ]
  },
  {
   "cell_type": "code",
   "execution_count": 7,
   "id": "whole-magnitude",
   "metadata": {},
   "outputs": [],
   "source": [
    "order_value_snapshot_df = data.make_order_value_snapshot_df(\n",
    "  prices_df,\n",
    "  orders_df\n",
    ")\n",
    "asset_value_snapshot_df = data.make_asset_value_snapshot_df(\n",
    "  order_value_snapshot_df\n",
    ")\n",
    "portfolio_value_snapshot_df = data.make_portfolio_value_snapshot_df(\n",
    "  asset_value_snapshot_df\n",
    ")"
   ]
  },
  {
   "cell_type": "code",
   "execution_count": 8,
   "id": "twelve-fashion",
   "metadata": {},
   "outputs": [
    {
     "data": {
      "text/html": [
       "<div>\n",
       "<style scoped>\n",
       "    .dataframe tbody tr th:only-of-type {\n",
       "        vertical-align: middle;\n",
       "    }\n",
       "\n",
       "    .dataframe tbody tr th {\n",
       "        vertical-align: top;\n",
       "    }\n",
       "\n",
       "    .dataframe thead th {\n",
       "        text-align: right;\n",
       "    }\n",
       "</style>\n",
       "<table border=\"1\" class=\"dataframe\">\n",
       "  <thead>\n",
       "    <tr style=\"text-align: right;\">\n",
       "      <th></th>\n",
       "      <th>order_id</th>\n",
       "      <th>asset</th>\n",
       "      <th>order_date</th>\n",
       "      <th>unit_cost_usd</th>\n",
       "      <th>order_units</th>\n",
       "      <th>order_cost_usd</th>\n",
       "    </tr>\n",
       "  </thead>\n",
       "  <tbody>\n",
       "    <tr>\n",
       "      <th>0</th>\n",
       "      <td>1</td>\n",
       "      <td>COST</td>\n",
       "      <td>2021-04-06</td>\n",
       "      <td>360.12</td>\n",
       "      <td>2</td>\n",
       "      <td>720.24</td>\n",
       "    </tr>\n",
       "    <tr>\n",
       "      <th>1</th>\n",
       "      <td>2</td>\n",
       "      <td>COST</td>\n",
       "      <td>2021-04-09</td>\n",
       "      <td>363.21</td>\n",
       "      <td>1</td>\n",
       "      <td>363.21</td>\n",
       "    </tr>\n",
       "    <tr>\n",
       "      <th>2</th>\n",
       "      <td>3</td>\n",
       "      <td>COST</td>\n",
       "      <td>2021-04-13</td>\n",
       "      <td>365.21</td>\n",
       "      <td>3</td>\n",
       "      <td>1095.63</td>\n",
       "    </tr>\n",
       "    <tr>\n",
       "      <th>3</th>\n",
       "      <td>4</td>\n",
       "      <td>COUR</td>\n",
       "      <td>2021-04-05</td>\n",
       "      <td>49.61</td>\n",
       "      <td>16</td>\n",
       "      <td>793.76</td>\n",
       "    </tr>\n",
       "    <tr>\n",
       "      <th>4</th>\n",
       "      <td>5</td>\n",
       "      <td>DHR</td>\n",
       "      <td>2021-04-09</td>\n",
       "      <td>232.36</td>\n",
       "      <td>5</td>\n",
       "      <td>1161.80</td>\n",
       "    </tr>\n",
       "    <tr>\n",
       "      <th>5</th>\n",
       "      <td>6</td>\n",
       "      <td>DHR</td>\n",
       "      <td>2021-04-13</td>\n",
       "      <td>242.84</td>\n",
       "      <td>6</td>\n",
       "      <td>1457.04</td>\n",
       "    </tr>\n",
       "    <tr>\n",
       "      <th>6</th>\n",
       "      <td>7</td>\n",
       "      <td>SOXX</td>\n",
       "      <td>2021-04-09</td>\n",
       "      <td>446.80</td>\n",
       "      <td>2</td>\n",
       "      <td>893.60</td>\n",
       "    </tr>\n",
       "    <tr>\n",
       "      <th>7</th>\n",
       "      <td>8</td>\n",
       "      <td>SOXX</td>\n",
       "      <td>2021-04-13</td>\n",
       "      <td>441.30</td>\n",
       "      <td>3</td>\n",
       "      <td>1323.90</td>\n",
       "    </tr>\n",
       "  </tbody>\n",
       "</table>\n",
       "</div>"
      ],
      "text/plain": [
       "   order_id asset order_date  unit_cost_usd  order_units  order_cost_usd\n",
       "0         1  COST 2021-04-06         360.12            2          720.24\n",
       "1         2  COST 2021-04-09         363.21            1          363.21\n",
       "2         3  COST 2021-04-13         365.21            3         1095.63\n",
       "3         4  COUR 2021-04-05          49.61           16          793.76\n",
       "4         5   DHR 2021-04-09         232.36            5         1161.80\n",
       "5         6   DHR 2021-04-13         242.84            6         1457.04\n",
       "6         7  SOXX 2021-04-09         446.80            2          893.60\n",
       "7         8  SOXX 2021-04-13         441.30            3         1323.90"
      ]
     },
     "execution_count": 8,
     "metadata": {},
     "output_type": "execute_result"
    }
   ],
   "source": [
    "orders_df"
   ]
  },
  {
   "cell_type": "code",
   "execution_count": 9,
   "id": "classical-state",
   "metadata": {},
   "outputs": [
    {
     "data": {
      "text/html": [
       "<div>\n",
       "<style scoped>\n",
       "    .dataframe tbody tr th:only-of-type {\n",
       "        vertical-align: middle;\n",
       "    }\n",
       "\n",
       "    .dataframe tbody tr th {\n",
       "        vertical-align: top;\n",
       "    }\n",
       "\n",
       "    .dataframe thead th {\n",
       "        text-align: right;\n",
       "    }\n",
       "</style>\n",
       "<table border=\"1\" class=\"dataframe\">\n",
       "  <thead>\n",
       "    <tr style=\"text-align: right;\">\n",
       "      <th></th>\n",
       "      <th>price_date</th>\n",
       "      <th>asset</th>\n",
       "      <th>unit_price_usd</th>\n",
       "    </tr>\n",
       "  </thead>\n",
       "  <tbody>\n",
       "    <tr>\n",
       "      <th>42759</th>\n",
       "      <td>2021-05-17</td>\n",
       "      <td>SOXX</td>\n",
       "      <td>401.030014</td>\n",
       "    </tr>\n",
       "    <tr>\n",
       "      <th>42760</th>\n",
       "      <td>2021-05-18</td>\n",
       "      <td>SOXX</td>\n",
       "      <td>401.410004</td>\n",
       "    </tr>\n",
       "    <tr>\n",
       "      <th>42761</th>\n",
       "      <td>2021-05-19</td>\n",
       "      <td>SOXX</td>\n",
       "      <td>397.935013</td>\n",
       "    </tr>\n",
       "    <tr>\n",
       "      <th>42762</th>\n",
       "      <td>2021-05-20</td>\n",
       "      <td>SOXX</td>\n",
       "      <td>412.520004</td>\n",
       "    </tr>\n",
       "    <tr>\n",
       "      <th>42763</th>\n",
       "      <td>2021-05-21</td>\n",
       "      <td>SOXX</td>\n",
       "      <td>416.660004</td>\n",
       "    </tr>\n",
       "  </tbody>\n",
       "</table>\n",
       "</div>"
      ],
      "text/plain": [
       "      price_date asset  unit_price_usd\n",
       "42759 2021-05-17  SOXX      401.030014\n",
       "42760 2021-05-18  SOXX      401.410004\n",
       "42761 2021-05-19  SOXX      397.935013\n",
       "42762 2021-05-20  SOXX      412.520004\n",
       "42763 2021-05-21  SOXX      416.660004"
      ]
     },
     "execution_count": 9,
     "metadata": {},
     "output_type": "execute_result"
    }
   ],
   "source": [
    "prices_df.tail(5)"
   ]
  },
  {
   "cell_type": "code",
   "execution_count": 10,
   "id": "selected-pipeline",
   "metadata": {},
   "outputs": [
    {
     "data": {
      "text/html": [
       "<div>\n",
       "<style scoped>\n",
       "    .dataframe tbody tr th:only-of-type {\n",
       "        vertical-align: middle;\n",
       "    }\n",
       "\n",
       "    .dataframe tbody tr th {\n",
       "        vertical-align: top;\n",
       "    }\n",
       "\n",
       "    .dataframe thead th {\n",
       "        text-align: right;\n",
       "    }\n",
       "</style>\n",
       "<table border=\"1\" class=\"dataframe\">\n",
       "  <thead>\n",
       "    <tr style=\"text-align: right;\">\n",
       "      <th></th>\n",
       "      <th>asset</th>\n",
       "      <th>price_date</th>\n",
       "      <th>order_date</th>\n",
       "      <th>order_id</th>\n",
       "      <th>order_units</th>\n",
       "      <th>unit_price_usd</th>\n",
       "      <th>order_cost_usd</th>\n",
       "      <th>order_value_usd</th>\n",
       "    </tr>\n",
       "  </thead>\n",
       "  <tbody>\n",
       "    <tr>\n",
       "      <th>31971</th>\n",
       "      <td>COST</td>\n",
       "      <td>2021-04-06</td>\n",
       "      <td>2021-04-06</td>\n",
       "      <td>1</td>\n",
       "      <td>2</td>\n",
       "      <td>359.575119</td>\n",
       "      <td>720.24</td>\n",
       "      <td>719.150238</td>\n",
       "    </tr>\n",
       "    <tr>\n",
       "      <th>31974</th>\n",
       "      <td>COST</td>\n",
       "      <td>2021-04-07</td>\n",
       "      <td>2021-04-06</td>\n",
       "      <td>1</td>\n",
       "      <td>2</td>\n",
       "      <td>359.456528</td>\n",
       "      <td>720.24</td>\n",
       "      <td>718.913055</td>\n",
       "    </tr>\n",
       "    <tr>\n",
       "      <th>31977</th>\n",
       "      <td>COST</td>\n",
       "      <td>2021-04-08</td>\n",
       "      <td>2021-04-06</td>\n",
       "      <td>1</td>\n",
       "      <td>2</td>\n",
       "      <td>361.623947</td>\n",
       "      <td>720.24</td>\n",
       "      <td>723.247894</td>\n",
       "    </tr>\n",
       "    <tr>\n",
       "      <th>31980</th>\n",
       "      <td>COST</td>\n",
       "      <td>2021-04-09</td>\n",
       "      <td>2021-04-06</td>\n",
       "      <td>1</td>\n",
       "      <td>2</td>\n",
       "      <td>361.671814</td>\n",
       "      <td>720.24</td>\n",
       "      <td>723.343628</td>\n",
       "    </tr>\n",
       "    <tr>\n",
       "      <th>31981</th>\n",
       "      <td>COST</td>\n",
       "      <td>2021-04-09</td>\n",
       "      <td>2021-04-09</td>\n",
       "      <td>2</td>\n",
       "      <td>1</td>\n",
       "      <td>361.671814</td>\n",
       "      <td>363.21</td>\n",
       "      <td>361.671814</td>\n",
       "    </tr>\n",
       "    <tr>\n",
       "      <th>...</th>\n",
       "      <td>...</td>\n",
       "      <td>...</td>\n",
       "      <td>...</td>\n",
       "      <td>...</td>\n",
       "      <td>...</td>\n",
       "      <td>...</td>\n",
       "      <td>...</td>\n",
       "      <td>...</td>\n",
       "    </tr>\n",
       "    <tr>\n",
       "      <th>85523</th>\n",
       "      <td>SOXX</td>\n",
       "      <td>2021-05-19</td>\n",
       "      <td>2021-04-13</td>\n",
       "      <td>8</td>\n",
       "      <td>3</td>\n",
       "      <td>397.935013</td>\n",
       "      <td>1323.90</td>\n",
       "      <td>1193.805038</td>\n",
       "    </tr>\n",
       "    <tr>\n",
       "      <th>85524</th>\n",
       "      <td>SOXX</td>\n",
       "      <td>2021-05-20</td>\n",
       "      <td>2021-04-09</td>\n",
       "      <td>7</td>\n",
       "      <td>2</td>\n",
       "      <td>412.520004</td>\n",
       "      <td>893.60</td>\n",
       "      <td>825.040009</td>\n",
       "    </tr>\n",
       "    <tr>\n",
       "      <th>85525</th>\n",
       "      <td>SOXX</td>\n",
       "      <td>2021-05-20</td>\n",
       "      <td>2021-04-13</td>\n",
       "      <td>8</td>\n",
       "      <td>3</td>\n",
       "      <td>412.520004</td>\n",
       "      <td>1323.90</td>\n",
       "      <td>1237.560013</td>\n",
       "    </tr>\n",
       "    <tr>\n",
       "      <th>85526</th>\n",
       "      <td>SOXX</td>\n",
       "      <td>2021-05-21</td>\n",
       "      <td>2021-04-09</td>\n",
       "      <td>7</td>\n",
       "      <td>2</td>\n",
       "      <td>416.660004</td>\n",
       "      <td>893.60</td>\n",
       "      <td>833.320007</td>\n",
       "    </tr>\n",
       "    <tr>\n",
       "      <th>85527</th>\n",
       "      <td>SOXX</td>\n",
       "      <td>2021-05-21</td>\n",
       "      <td>2021-04-13</td>\n",
       "      <td>8</td>\n",
       "      <td>3</td>\n",
       "      <td>416.660004</td>\n",
       "      <td>1323.90</td>\n",
       "      <td>1249.980011</td>\n",
       "    </tr>\n",
       "  </tbody>\n",
       "</table>\n",
       "<p>249 rows × 8 columns</p>\n",
       "</div>"
      ],
      "text/plain": [
       "      asset price_date order_date  order_id  order_units  unit_price_usd  \\\n",
       "31971  COST 2021-04-06 2021-04-06         1            2      359.575119   \n",
       "31974  COST 2021-04-07 2021-04-06         1            2      359.456528   \n",
       "31977  COST 2021-04-08 2021-04-06         1            2      361.623947   \n",
       "31980  COST 2021-04-09 2021-04-06         1            2      361.671814   \n",
       "31981  COST 2021-04-09 2021-04-09         2            1      361.671814   \n",
       "...     ...        ...        ...       ...          ...             ...   \n",
       "85523  SOXX 2021-05-19 2021-04-13         8            3      397.935013   \n",
       "85524  SOXX 2021-05-20 2021-04-09         7            2      412.520004   \n",
       "85525  SOXX 2021-05-20 2021-04-13         8            3      412.520004   \n",
       "85526  SOXX 2021-05-21 2021-04-09         7            2      416.660004   \n",
       "85527  SOXX 2021-05-21 2021-04-13         8            3      416.660004   \n",
       "\n",
       "       order_cost_usd  order_value_usd  \n",
       "31971          720.24       719.150238  \n",
       "31974          720.24       718.913055  \n",
       "31977          720.24       723.247894  \n",
       "31980          720.24       723.343628  \n",
       "31981          363.21       361.671814  \n",
       "...               ...              ...  \n",
       "85523         1323.90      1193.805038  \n",
       "85524          893.60       825.040009  \n",
       "85525         1323.90      1237.560013  \n",
       "85526          893.60       833.320007  \n",
       "85527         1323.90      1249.980011  \n",
       "\n",
       "[249 rows x 8 columns]"
      ]
     },
     "execution_count": 10,
     "metadata": {},
     "output_type": "execute_result"
    }
   ],
   "source": [
    "order_value_snapshot_df"
   ]
  },
  {
   "cell_type": "markdown",
   "id": "221989a0-1a79-410a-bc21-7bf207ac46fd",
   "metadata": {},
   "source": [
    "Portfolio value"
   ]
  },
  {
   "cell_type": "code",
   "execution_count": 11,
   "id": "25f656a4-46cb-4de3-9d15-a9bd07dd76ba",
   "metadata": {},
   "outputs": [
    {
     "data": {
      "text/plain": [
       "7771.534965515137"
      ]
     },
     "execution_count": 11,
     "metadata": {},
     "output_type": "execute_result"
    }
   ],
   "source": [
    "order_value_snapshot_df.groupby('price_date')['order_value_usd'].sum().tail(1).values[0]"
   ]
  },
  {
   "cell_type": "code",
   "execution_count": 12,
   "id": "dimensional-alfred",
   "metadata": {},
   "outputs": [
    {
     "name": "stderr",
     "output_type": "stream",
     "text": [
      "<ipython-input-12-b1c77f89d5a3>:22: UserWarning: FixedFormatter should only be used together with FixedLocator\n",
      "  ax.set_xticklabels(ax.get_xticklabels(), rotation=45);\n"
     ]
    },
    {
     "data": {
      "image/png": "[encoded data removed]",
      "text/plain": [
       "<Figure size 838x720 with 4 Axes>"
      ]
     },
     "metadata": {
      "needs_background": "light"
     },
     "output_type": "display_data"
    }
   ],
   "source": [
    "plot_df = (\n",
    "  asset_value_snapshot_df\n",
    "    .melt(\n",
    "      id_vars = ['asset', 'snapshot_date'],\n",
    "      var_name = 'price_type'\n",
    "    )\n",
    ")\n",
    "\n",
    "# plot_df\n",
    "\n",
    "g = sns.relplot(\n",
    "  data = plot_df,\n",
    "  col = 'asset',\n",
    "  col_wrap = 2,\n",
    "  x = 'snapshot_date',\n",
    "  y = 'value',\n",
    "  hue = 'price_type',\n",
    "  kind = 'line'\n",
    ");\n",
    "\n",
    "for ax in g.axes.ravel():\n",
    "  ax.set_xticklabels(ax.get_xticklabels(), rotation=45);"
   ]
  },
  {
   "cell_type": "code",
   "execution_count": 13,
   "id": "b984ebc9-0a83-4a7b-a17c-8d7864ad2c30",
   "metadata": {},
   "outputs": [
    {
     "data": {
      "text/html": [
       "<div>\n",
       "<style scoped>\n",
       "    .dataframe tbody tr th:only-of-type {\n",
       "        vertical-align: middle;\n",
       "    }\n",
       "\n",
       "    .dataframe tbody tr th {\n",
       "        vertical-align: top;\n",
       "    }\n",
       "\n",
       "    .dataframe thead th {\n",
       "        text-align: right;\n",
       "    }\n",
       "</style>\n",
       "<table border=\"1\" class=\"dataframe\">\n",
       "  <thead>\n",
       "    <tr style=\"text-align: right;\">\n",
       "      <th></th>\n",
       "      <th>snapshot_date</th>\n",
       "      <th>portfolio_cost_usd</th>\n",
       "      <th>portfolio_value_usd</th>\n",
       "    </tr>\n",
       "  </thead>\n",
       "  <tbody>\n",
       "    <tr>\n",
       "      <th>0</th>\n",
       "      <td>2021-04-05</td>\n",
       "      <td>793.76</td>\n",
       "      <td>789.360016</td>\n",
       "    </tr>\n",
       "    <tr>\n",
       "      <th>1</th>\n",
       "      <td>2021-04-06</td>\n",
       "      <td>1514.00</td>\n",
       "      <td>1581.070221</td>\n",
       "    </tr>\n",
       "    <tr>\n",
       "      <th>2</th>\n",
       "      <td>2021-04-07</td>\n",
       "      <td>1514.00</td>\n",
       "      <td>1641.313049</td>\n",
       "    </tr>\n",
       "    <tr>\n",
       "      <th>3</th>\n",
       "      <td>2021-04-08</td>\n",
       "      <td>1514.00</td>\n",
       "      <td>1635.247894</td>\n",
       "    </tr>\n",
       "    <tr>\n",
       "      <th>4</th>\n",
       "      <td>2021-04-09</td>\n",
       "      <td>3932.61</td>\n",
       "      <td>3993.915436</td>\n",
       "    </tr>\n",
       "  </tbody>\n",
       "</table>\n",
       "</div>"
      ],
      "text/plain": [
       "  snapshot_date  portfolio_cost_usd  portfolio_value_usd\n",
       "0    2021-04-05              793.76           789.360016\n",
       "1    2021-04-06             1514.00          1581.070221\n",
       "2    2021-04-07             1514.00          1641.313049\n",
       "3    2021-04-08             1514.00          1635.247894\n",
       "4    2021-04-09             3932.61          3993.915436"
      ]
     },
     "execution_count": 13,
     "metadata": {},
     "output_type": "execute_result"
    }
   ],
   "source": [
    "portfolio_value_snapshot_df.head()"
   ]
  },
  {
   "cell_type": "code",
   "execution_count": 93,
   "id": "silver-telephone",
   "metadata": {},
   "outputs": [
    {
     "data": {
      "image/png": "[encoded data removed]",
      "text/plain": [
       "<Figure size 1008x432 with 1 Axes>"
      ]
     },
     "metadata": {
      "needs_background": "light"
     },
     "output_type": "display_data"
    }
   ],
   "source": [
    "(\n",
    "  portfolio_value_snapshot_df\n",
    "    .set_index('snapshot_date')\n",
    "    .plot(figsize = (14, 6))\n",
    ");"
   ]
  },
  {
   "cell_type": "code",
   "execution_count": 94,
   "id": "d0fa63ba-42db-4b43-beaa-3da07c9c0e7f",
   "metadata": {},
   "outputs": [
    {
     "data": {
      "text/html": [
       "<div>\n",
       "<style scoped>\n",
       "    .dataframe tbody tr th:only-of-type {\n",
       "        vertical-align: middle;\n",
       "    }\n",
       "\n",
       "    .dataframe tbody tr th {\n",
       "        vertical-align: top;\n",
       "    }\n",
       "\n",
       "    .dataframe thead th {\n",
       "        text-align: right;\n",
       "    }\n",
       "</style>\n",
       "<table border=\"1\" class=\"dataframe\">\n",
       "  <thead>\n",
       "    <tr style=\"text-align: right;\">\n",
       "      <th></th>\n",
       "      <th>snapshot_date</th>\n",
       "      <th>portfolio_cost_usd</th>\n",
       "      <th>portfolio_value_usd</th>\n",
       "      <th>percent_return</th>\n",
       "    </tr>\n",
       "  </thead>\n",
       "  <tbody>\n",
       "    <tr>\n",
       "      <th>33</th>\n",
       "      <td>2021-05-21</td>\n",
       "      <td>4797.92</td>\n",
       "      <td>5091.91497</td>\n",
       "      <td>0.061276</td>\n",
       "    </tr>\n",
       "  </tbody>\n",
       "</table>\n",
       "</div>"
      ],
      "text/plain": [
       "   snapshot_date  portfolio_cost_usd  portfolio_value_usd  percent_return\n",
       "33    2021-05-21             4797.92           5091.91497        0.061276"
      ]
     },
     "execution_count": 94,
     "metadata": {},
     "output_type": "execute_result"
    }
   ],
   "source": [
    "subset_return_df = data.make_portfolio_value_snapshot_df(\n",
    "  asset_value_snapshot_df.query('asset in [\"COST\", \"DHR\"]')\n",
    ").assign(\n",
    "  percent_return = lambda df: df['portfolio_value_usd'] / df['portfolio_cost_usd'] - 1\n",
    ")\n",
    "subset_return_df.tail(1)"
   ]
  },
  {
   "cell_type": "code",
   "execution_count": 55,
   "id": "domestic-supplement",
   "metadata": {},
   "outputs": [
    {
     "data": {
      "image/png": "[encoded data removed]",
      "text/plain": [
       "<Figure size 1008x432 with 1 Axes>"
      ]
     },
     "metadata": {
      "needs_background": "light"
     },
     "output_type": "display_data"
    }
   ],
   "source": [
    "(\n",
    "  portfolio_value_snapshot_df\n",
    "    .set_index('snapshot_date')\n",
    "    .assign(percent_return = lambda df: df['portfolio_value_usd'] / df['portfolio_cost_usd'] - 1)\n",
    "    ['percent_return']\n",
    "    .plot(figsize = (14, 6), ls = '-')\n",
    ");"
   ]
  },
  {
   "cell_type": "code",
   "execution_count": 56,
   "id": "exempt-taxation",
   "metadata": {},
   "outputs": [],
   "source": [
    "portfolio_return_series = (\n",
    "  portfolio_value_snapshot_df\n",
    "    .assign(\n",
    "      percent_return = lambda df: df['portfolio_value_usd'] / df['portfolio_cost_usd'] - 1\n",
    "    )\n",
    "    .set_index('snapshot_date')\n",
    "    ['percent_return']\n",
    ")\n",
    "# portfolio_return_series"
   ]
  },
  {
   "cell_type": "code",
   "execution_count": 57,
   "id": "floating-nitrogen",
   "metadata": {},
   "outputs": [
    {
     "data": {
      "text/plain": [
       "<matplotlib.lines.Line2D at 0x1280b7310>"
      ]
     },
     "execution_count": 57,
     "metadata": {},
     "output_type": "execute_result"
    },
    {
     "data": {
      "image/png": "[encoded data removed]",
      "text/plain": [
       "<Figure size 432x288 with 1 Axes>"
      ]
     },
     "metadata": {
      "needs_background": "light"
     },
     "output_type": "display_data"
    }
   ],
   "source": [
    "portfolio_return_series.pct_change().plot();\n",
    "plt.axhline(0, color = 'red')"
   ]
  },
  {
   "cell_type": "code",
   "execution_count": 58,
   "id": "affiliated-signature",
   "metadata": {},
   "outputs": [
    {
     "data": {
      "text/plain": [
       "<AxesSubplot:xlabel='percent_return', ylabel='Count'>"
      ]
     },
     "execution_count": 58,
     "metadata": {},
     "output_type": "execute_result"
    },
    {
     "data": {
      "image/png": "[encoded data removed]",
      "text/plain": [
       "<Figure size 432x288 with 1 Axes>"
      ]
     },
     "metadata": {
      "needs_background": "light"
     },
     "output_type": "display_data"
    }
   ],
   "source": [
    "sns.histplot(portfolio_return_series.pct_change())"
   ]
  }
 ],
 "metadata": {
  "kernelspec": {
   "display_name": "Python 3",
   "language": "python",
   "name": "python3"
  },
  "language_info": {
   "codemirror_mode": {
    "name": "ipython",
    "version": 3
   },
   "file_extension": ".py",
   "mimetype": "text/x-python",
   "name": "python",
   "nbconvert_exporter": "python",
   "pygments_lexer": "ipython3",
   "version": "3.8.3"
  }
 },
 "nbformat": 4,
 "nbformat_minor": 5
}
