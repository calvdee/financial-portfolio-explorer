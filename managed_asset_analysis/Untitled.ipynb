{
 "cells": [
  {
   "cell_type": "code",
   "execution_count": 2,
   "id": "based-newton",
   "metadata": {},
   "outputs": [],
   "source": [
    "import re\n",
    "import pandas as pd\n",
    "from bs4 import BeautifulSoup"
   ]
  },
  {
   "cell_type": "markdown",
   "id": "c542643c-88d3-40b9-ace0-efb422bbdc5b",
   "metadata": {},
   "source": [
    "# Prices Data"
   ]
  },
  {
   "cell_type": "code",
   "execution_count": 4,
   "id": "corporate-tuesday",
   "metadata": {},
   "outputs": [],
   "source": [
    "with open('MAX1270.html', 'r') as f:\n",
    "  contents = f.read()\n",
    "  soup = BeautifulSoup(contents)"
   ]
  },
  {
   "cell_type": "markdown",
   "id": "137167ea-edef-4987-9cf2-94d89c48b7bc",
   "metadata": {},
   "source": [
    "# Preprocessing "
   ]
  },
  {
   "cell_type": "markdown",
   "id": "787c809d-58e8-4736-8f00-99bee61c94b4",
   "metadata": {},
   "source": [
    "## Dates"
   ]
  },
  {
   "cell_type": "code",
   "execution_count": 6,
   "id": "4465e541-3ca2-46ce-a764-aab62b7c0296",
   "metadata": {},
   "outputs": [],
   "source": [
    "def clean_date(date: str) -> str:\n",
    "  a = re.sub('\\n\\s{10}', '', date)\n",
    "  b = re.sub('\\n\\s{8}', '', a)\n",
    "  return b"
   ]
  },
  {
   "cell_type": "code",
   "execution_count": 5,
   "id": "surprising-advertising",
   "metadata": {},
   "outputs": [
    {
     "data": {
      "text/plain": [
       "3570"
      ]
     },
     "execution_count": 5,
     "metadata": {},
     "output_type": "execute_result"
    }
   ],
   "source": [
    "date_regex = re.compile(r'\\w{3} \\d{2}, \\d{4}')\n",
    "dates = soup.find_all(text = date_regex)\n",
    "len(dates)"
   ]
  },
  {
   "cell_type": "code",
   "execution_count": 81,
   "id": "011cdae0-2dae-4cf7-ab59-0952555e2923",
   "metadata": {},
   "outputs": [
    {
     "data": {
      "text/plain": [
       "[]"
      ]
     },
     "execution_count": 81,
     "metadata": {},
     "output_type": "execute_result"
    }
   ],
   "source": [
    "mobile_only_divs[0].find_all(text = date_regex)"
   ]
  },
  {
   "cell_type": "code",
   "execution_count": 133,
   "id": "efc3229b-a662-4245-9328-b9f1d318bcd3",
   "metadata": {},
   "outputs": [],
   "source": [
    "content = soup.select('#priceHistoryTable > panel > div > section > section > sortable-table-list > div > sortable-table-list-item > div > span > div.container.container-for-one-items.tabletDesktopOnly > p > span.attribute-value')"
   ]
  },
  {
   "cell_type": "code",
   "execution_count": 134,
   "id": "e2e448bd-bf17-44cf-aeb2-9f10f5c84670",
   "metadata": {},
   "outputs": [],
   "source": [
    "# content[0:5]"
   ]
  },
  {
   "cell_type": "code",
   "execution_count": 135,
   "id": "b5a72a05-ee61-4342-b6cd-81a3f1e00298",
   "metadata": {},
   "outputs": [],
   "source": [
    "dates = [x.find_all(text = date_regex) for x in content]\n",
    "dates = list(filter(lambda x: len(x) > 0, dates))\n",
    "dates = [item for sublist in dates for item in sublist]"
   ]
  },
  {
   "cell_type": "code",
   "execution_count": 136,
   "id": "colored-wages",
   "metadata": {},
   "outputs": [
    {
     "data": {
      "text/plain": [
       "0    May 10, 2011\n",
       "1    May 11, 2011\n",
       "2    May 12, 2011\n",
       "3    May 13, 2011\n",
       "4    May 16, 2011\n",
       "dtype: object"
      ]
     },
     "execution_count": 136,
     "metadata": {},
     "output_type": "execute_result"
    }
   ],
   "source": [
    "clean_dates = pd.Series(dates).apply(clean_date)\n",
    "clean_dates.head()"
   ]
  },
  {
   "cell_type": "code",
   "execution_count": 137,
   "id": "07dcec29-bf13-415d-b77c-1113f1c1b3bc",
   "metadata": {},
   "outputs": [
    {
     "data": {
      "text/plain": [
       "1784    Apr 30, 2021\n",
       "dtype: object"
      ]
     },
     "execution_count": 137,
     "metadata": {},
     "output_type": "execute_result"
    }
   ],
   "source": [
    "clean_dates.tail(1)"
   ]
  },
  {
   "cell_type": "code",
   "execution_count": 149,
   "id": "1e5c574f-fb54-45bf-b439-8d2becfb9f24",
   "metadata": {},
   "outputs": [
    {
     "data": {
      "text/plain": [
       "3570"
      ]
     },
     "execution_count": 149,
     "metadata": {},
     "output_type": "execute_result"
    }
   ],
   "source": [
    "len(clean_dates)"
   ]
  },
  {
   "cell_type": "markdown",
   "id": "76714109-55fa-4521-9429-3905d23f8c77",
   "metadata": {},
   "source": [
    "## Prices"
   ]
  },
  {
   "cell_type": "code",
   "execution_count": 139,
   "id": "32c31bd4-13b4-4e79-8d7c-5dc9e0835079",
   "metadata": {},
   "outputs": [],
   "source": [
    "def clean_price(price: str) -> str:\n",
    "  a = re.sub('\\n\\s{10}', '', price)\n",
    "  b = re.sub('\\n\\s{8}', '', a)\n",
    "  return b"
   ]
  },
  {
   "cell_type": "code",
   "execution_count": 140,
   "id": "fewer-pathology",
   "metadata": {},
   "outputs": [
    {
     "data": {
      "text/plain": [
       "5019"
      ]
     },
     "execution_count": 140,
     "metadata": {},
     "output_type": "execute_result"
    }
   ],
   "source": [
    "price_regex = re.compile(r'\\$\\d.*\\.\\d{4}')\n",
    "prices = soup.find_all(text = price_regex)\n",
    "prices = pd.Series(prices).apply(clean_price)\n",
    "len(prices)"
   ]
  },
  {
   "cell_type": "code",
   "execution_count": 141,
   "id": "3208b68b-c933-4833-9de2-516bc96875ca",
   "metadata": {},
   "outputs": [],
   "source": [
    "prices = [x.find_all(text = price_regex) for x in content]\n",
    "prices = list(filter(lambda x: len(x) > 0, prices))\n",
    "prices = [item for sublist in prices for item in sublist]"
   ]
  },
  {
   "cell_type": "code",
   "execution_count": 142,
   "id": "regional-trading",
   "metadata": {},
   "outputs": [
    {
     "data": {
      "text/plain": [
       "0    $11.4020\n",
       "1    $11.3745\n",
       "2    $11.3705\n",
       "3    $11.3779\n",
       "4    $11.3938\n",
       "5    $11.3967\n",
       "6    $11.3998\n",
       "7    $11.4087\n",
       "8    $11.4316\n",
       "9    $11.4231\n",
       "dtype: object"
      ]
     },
     "execution_count": 142,
     "metadata": {},
     "output_type": "execute_result"
    }
   ],
   "source": [
    "clean_prices = pd.Series(prices).apply(clean_price)\n",
    "clean_prices.head(10)"
   ]
  },
  {
   "cell_type": "code",
   "execution_count": 150,
   "id": "c9c2f3c7-56fc-47a0-b14b-58a5d5198981",
   "metadata": {},
   "outputs": [
    {
     "data": {
      "text/plain": [
       "5018"
      ]
     },
     "execution_count": 150,
     "metadata": {},
     "output_type": "execute_result"
    }
   ],
   "source": [
    "len(clean_prices)*2"
   ]
  },
  {
   "cell_type": "code",
   "execution_count": 144,
   "id": "23e9027f-99f2-4dfa-95fe-4fb629afe580",
   "metadata": {},
   "outputs": [
    {
     "data": {
      "text/html": [
       "<div>\n",
       "<style scoped>\n",
       "    .dataframe tbody tr th:only-of-type {\n",
       "        vertical-align: middle;\n",
       "    }\n",
       "\n",
       "    .dataframe tbody tr th {\n",
       "        vertical-align: top;\n",
       "    }\n",
       "\n",
       "    .dataframe thead th {\n",
       "        text-align: right;\n",
       "    }\n",
       "</style>\n",
       "<table border=\"1\" class=\"dataframe\">\n",
       "  <thead>\n",
       "    <tr style=\"text-align: right;\">\n",
       "      <th></th>\n",
       "      <th>date</th>\n",
       "      <th>price</th>\n",
       "    </tr>\n",
       "  </thead>\n",
       "  <tbody>\n",
       "    <tr>\n",
       "      <th>1785</th>\n",
       "      <td>NaN</td>\n",
       "      <td>$13.0745</td>\n",
       "    </tr>\n",
       "  </tbody>\n",
       "</table>\n",
       "</div>"
      ],
      "text/plain": [
       "     date     price\n",
       "1785  NaN  $13.0745"
      ]
     },
     "execution_count": 144,
     "metadata": {},
     "output_type": "execute_result"
    }
   ],
   "source": [
    "market_data = pd.concat([\n",
    "  clean_dates,\n",
    "  clean_prices\n",
    "], axis = 1, ignore_index = True).rename(columns = {\n",
    "  0: 'date',\n",
    "  1: 'price'\n",
    "})\n",
    "\n",
    "market_data.query('date.isnull()').head(1)"
   ]
  },
  {
   "cell_type": "code",
   "execution_count": 132,
   "id": "08f541c7-8fc5-4ec1-b1bf-351e89729cb7",
   "metadata": {},
   "outputs": [
    {
     "data": {
      "text/html": [
       "<div>\n",
       "<style scoped>\n",
       "    .dataframe tbody tr th:only-of-type {\n",
       "        vertical-align: middle;\n",
       "    }\n",
       "\n",
       "    .dataframe tbody tr th {\n",
       "        vertical-align: top;\n",
       "    }\n",
       "\n",
       "    .dataframe thead th {\n",
       "        text-align: right;\n",
       "    }\n",
       "</style>\n",
       "<table border=\"1\" class=\"dataframe\">\n",
       "  <thead>\n",
       "    <tr style=\"text-align: right;\">\n",
       "      <th></th>\n",
       "      <th>date</th>\n",
       "      <th>price</th>\n",
       "    </tr>\n",
       "  </thead>\n",
       "  <tbody>\n",
       "    <tr>\n",
       "      <th>1610</th>\n",
       "      <td>May 13, 2020</td>\n",
       "      <td>$12.7683</td>\n",
       "    </tr>\n",
       "  </tbody>\n",
       "</table>\n",
       "</div>"
      ],
      "text/plain": [
       "              date     price\n",
       "1610  May 13, 2020  $12.7683"
      ]
     },
     "execution_count": 132,
     "metadata": {},
     "output_type": "execute_result"
    }
   ],
   "source": [
    "market_data.sample(1)"
   ]
  },
  {
   "cell_type": "code",
   "execution_count": 146,
   "id": "7c83953e-4cb5-4b8b-8f77-817ffb6f95c8",
   "metadata": {},
   "outputs": [
    {
     "data": {
      "text/plain": [
       "date     Apr 26, 2021\n",
       "price        $12.9561\n",
       "Name: 1780, dtype: object"
      ]
     },
     "execution_count": 146,
     "metadata": {},
     "output_type": "execute_result"
    }
   ],
   "source": [
    "market_data.iloc[1780]"
   ]
  },
  {
   "cell_type": "code",
   "execution_count": 148,
   "id": "5f778712-9d12-421d-b332-3e2bec8eee14",
   "metadata": {},
   "outputs": [
    {
     "data": {
      "text/html": [
       "<div>\n",
       "<style scoped>\n",
       "    .dataframe tbody tr th:only-of-type {\n",
       "        vertical-align: middle;\n",
       "    }\n",
       "\n",
       "    .dataframe tbody tr th {\n",
       "        vertical-align: top;\n",
       "    }\n",
       "\n",
       "    .dataframe thead th {\n",
       "        text-align: right;\n",
       "    }\n",
       "</style>\n",
       "<table border=\"1\" class=\"dataframe\">\n",
       "  <thead>\n",
       "    <tr style=\"text-align: right;\">\n",
       "      <th></th>\n",
       "      <th>date</th>\n",
       "      <th>price</th>\n",
       "    </tr>\n",
       "  </thead>\n",
       "  <tbody>\n",
       "    <tr>\n",
       "      <th>2499</th>\n",
       "      <td>NaN</td>\n",
       "      <td>$13.5752</td>\n",
       "    </tr>\n",
       "  </tbody>\n",
       "</table>\n",
       "</div>"
      ],
      "text/plain": [
       "     date     price\n",
       "2499  NaN  $13.5752"
      ]
     },
     "execution_count": 148,
     "metadata": {},
     "output_type": "execute_result"
    }
   ],
   "source": [
    "market_data.query('price == \"$13.5752\"')"
   ]
  }
 ],
 "metadata": {
  "kernelspec": {
   "display_name": "Python 3",
   "language": "python",
   "name": "python3"
  },
  "language_info": {
   "codemirror_mode": {
    "name": "ipython",
    "version": 3
   },
   "file_extension": ".py",
   "mimetype": "text/x-python",
   "name": "python",
   "nbconvert_exporter": "python",
   "pygments_lexer": "ipython3",
   "version": "3.8.3"
  }
 },
 "nbformat": 4,
 "nbformat_minor": 5
}
