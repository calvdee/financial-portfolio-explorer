{
 "cells": [
  {
   "cell_type": "markdown",
   "id": "abbc1184-d97e-4939-998a-568dc5052519",
   "metadata": {},
   "source": [
    "# Libraries"
   ]
  },
  {
   "cell_type": "code",
   "execution_count": 316,
   "id": "6f2f28c4-895a-4978-adc6-ef1dee47d056",
   "metadata": {},
   "outputs": [
    {
     "name": "stdout",
     "output_type": "stream",
     "text": [
      "The autoreload extension is already loaded. To reload it, use:\n",
      "  %reload_ext autoreload\n"
     ]
    }
   ],
   "source": [
    "%load_ext autoreload\n",
    "%autoreload 2\n",
    "\n",
    "import sys, os\n",
    "sys.path.insert(1, os.path.join(sys.path[0], '.'))"
   ]
  },
  {
   "cell_type": "code",
   "execution_count": 317,
   "id": "15409340-97d5-4bb0-a777-87eea686c104",
   "metadata": {},
   "outputs": [],
   "source": [
    "import seaborn as sns\n",
    "import numpy as np\n",
    "import matplotlib.pyplot as plt\n",
    "\n",
    "from src import data, returns\n",
    "from src.portfolio import PortfolioData"
   ]
  },
  {
   "cell_type": "markdown",
   "id": "40aeadcf-87f4-465d-b082-8dd1aa10d873",
   "metadata": {},
   "source": [
    "# Orders and Porfolio Data"
   ]
  },
  {
   "cell_type": "code",
   "execution_count": 318,
   "id": "2635a9c0-05b1-4bb2-a5e9-362f8531e75e",
   "metadata": {},
   "outputs": [
    {
     "name": "stdout",
     "output_type": "stream",
     "text": [
      "[*********************100%***********************]  3 of 3 completed\n"
     ]
    },
    {
     "name": "stderr",
     "output_type": "stream",
     "text": [
      "/Users/calvindelima/projects/investing/.venv/lib/python3.8/site-packages/pandas/core/generic.py:4153: PerformanceWarning:\n",
      "\n",
      "dropping on a non-lexsorted multi-index without a level parameter may impact performance.\n",
      "\n"
     ]
    }
   ],
   "source": [
    "orders_df = data.load_orders('data/orders.csv')\n",
    "portfolio_data = PortfolioData(orders_df, assets = ['SOXX', 'DHR', 'COST'])"
   ]
  },
  {
   "cell_type": "markdown",
   "id": "66bad9a4-a593-450c-ad82-ffbfabff1f0b",
   "metadata": {},
   "source": [
    "# Portfolio State / Value"
   ]
  },
  {
   "cell_type": "code",
   "execution_count": 319,
   "id": "468b6fc3-3736-4da4-9606-64dd5003a563",
   "metadata": {},
   "outputs": [
    {
     "data": {
      "text/html": [
       "<div>\n",
       "<style scoped>\n",
       "    .dataframe tbody tr th:only-of-type {\n",
       "        vertical-align: middle;\n",
       "    }\n",
       "\n",
       "    .dataframe tbody tr th {\n",
       "        vertical-align: top;\n",
       "    }\n",
       "\n",
       "    .dataframe thead th {\n",
       "        text-align: right;\n",
       "    }\n",
       "</style>\n",
       "<table border=\"1\" class=\"dataframe\">\n",
       "  <thead>\n",
       "    <tr style=\"text-align: right;\">\n",
       "      <th></th>\n",
       "      <th>portfolio_cost_usd</th>\n",
       "      <th>portfolio_value_usd</th>\n",
       "    </tr>\n",
       "    <tr>\n",
       "      <th>snapshot_date</th>\n",
       "      <th></th>\n",
       "      <th></th>\n",
       "    </tr>\n",
       "  </thead>\n",
       "  <tbody>\n",
       "    <tr>\n",
       "      <th>2021-07-22</th>\n",
       "      <td>7015.42</td>\n",
       "      <td>7864.824951</td>\n",
       "    </tr>\n",
       "  </tbody>\n",
       "</table>\n",
       "</div>"
      ],
      "text/plain": [
       "               portfolio_cost_usd  portfolio_value_usd\n",
       "snapshot_date                                         \n",
       "2021-07-22                7015.42          7864.824951"
      ]
     },
     "execution_count": 319,
     "metadata": {},
     "output_type": "execute_result"
    }
   ],
   "source": [
    "portfolio_state = (\n",
    "  portfolio_data\n",
    "    .portfolio_snapshot\n",
    "    .sort_index()\n",
    "    .tail(1)\n",
    ")\n",
    "portfolio_state"
   ]
  },
  {
   "cell_type": "code",
   "execution_count": 5,
   "id": "60567408-102b-4b77-8776-4ef28341956c",
   "metadata": {},
   "outputs": [
    {
     "data": {
      "text/plain": [
       "7747.975082397461"
      ]
     },
     "execution_count": 5,
     "metadata": {},
     "output_type": "execute_result"
    }
   ],
   "source": [
    "portfolio_state['portfolio_value_usd'].values[0]"
   ]
  },
  {
   "cell_type": "code",
   "execution_count": 6,
   "id": "fa1cf66f-219d-419d-ad81-56e9c89fa512",
   "metadata": {},
   "outputs": [
    {
     "data": {
      "text/plain": [
       "732.5550823974609"
      ]
     },
     "execution_count": 6,
     "metadata": {},
     "output_type": "execute_result"
    }
   ],
   "source": [
    "(\n",
    "  portfolio_data\n",
    "    .portfolio_snapshot\n",
    "    .sort_index()\n",
    "    .tail(1)\n",
    "    .diff(axis = 1)\n",
    "    .iloc[0, 1]\n",
    ")"
   ]
  },
  {
   "cell_type": "code",
   "execution_count": 7,
   "id": "05ed3417-043c-4e8a-b459-60fa9e9ae263",
   "metadata": {},
   "outputs": [
    {
     "data": {
      "text/html": [
       "<div>\n",
       "<style scoped>\n",
       "    .dataframe tbody tr th:only-of-type {\n",
       "        vertical-align: middle;\n",
       "    }\n",
       "\n",
       "    .dataframe tbody tr th {\n",
       "        vertical-align: top;\n",
       "    }\n",
       "\n",
       "    .dataframe thead th {\n",
       "        text-align: right;\n",
       "    }\n",
       "</style>\n",
       "<table border=\"1\" class=\"dataframe\">\n",
       "  <thead>\n",
       "    <tr style=\"text-align: right;\">\n",
       "      <th></th>\n",
       "      <th>portfolio_cost_usd</th>\n",
       "      <th>portfolio_value_usd</th>\n",
       "    </tr>\n",
       "    <tr>\n",
       "      <th>snapshot_date</th>\n",
       "      <th></th>\n",
       "      <th></th>\n",
       "    </tr>\n",
       "  </thead>\n",
       "  <tbody>\n",
       "    <tr>\n",
       "      <th>2021-07-16</th>\n",
       "      <td>7015.42</td>\n",
       "      <td>7747.975082</td>\n",
       "    </tr>\n",
       "  </tbody>\n",
       "</table>\n",
       "</div>"
      ],
      "text/plain": [
       "               portfolio_cost_usd  portfolio_value_usd\n",
       "snapshot_date                                         \n",
       "2021-07-16                7015.42          7747.975082"
      ]
     },
     "execution_count": 7,
     "metadata": {},
     "output_type": "execute_result"
    }
   ],
   "source": [
    "(\n",
    "  portfolio_data\n",
    "    .portfolio_snapshot\n",
    "    .sort_index()\n",
    "    .tail(1)\n",
    ")"
   ]
  },
  {
   "cell_type": "code",
   "execution_count": 320,
   "id": "9175c24b-e860-4bb7-ace8-08154361d233",
   "metadata": {},
   "outputs": [
    {
     "ename": "TypeError",
     "evalue": "__init__() missing 1 required positional argument: 'annualized_return'",
     "output_type": "error",
     "traceback": [
      "\u001b[0;31m---------------------------------------------------------------------------\u001b[0m",
      "\u001b[0;31mTypeError\u001b[0m                                 Traceback (most recent call last)",
      "\u001b[0;32m<ipython-input-320-cf9f9507df5e>\u001b[0m in \u001b[0;36m<module>\u001b[0;34m\u001b[0m\n\u001b[0;32m----> 1\u001b[0;31m \u001b[0mperformance\u001b[0m \u001b[0;34m=\u001b[0m \u001b[0mportfolio_data\u001b[0m\u001b[0;34m.\u001b[0m\u001b[0msummarize\u001b[0m\u001b[0;34m(\u001b[0m\u001b[0;34m)\u001b[0m\u001b[0;34m\u001b[0m\u001b[0;34m\u001b[0m\u001b[0m\n\u001b[0m",
      "\u001b[0;32m~/projects/investing/streamlit_app/src/portfolio.py\u001b[0m in \u001b[0;36msummarize\u001b[0;34m(self)\u001b[0m\n\u001b[1;32m     73\u001b[0m     \u001b[0mportfolio_value\u001b[0m \u001b[0;34m=\u001b[0m \u001b[0mportfolio_state\u001b[0m\u001b[0;34m[\u001b[0m\u001b[0;34m'portfolio_value_usd'\u001b[0m\u001b[0;34m]\u001b[0m\u001b[0;34m.\u001b[0m\u001b[0mvalues\u001b[0m\u001b[0;34m[\u001b[0m\u001b[0;36m0\u001b[0m\u001b[0;34m]\u001b[0m\u001b[0;34m\u001b[0m\u001b[0;34m\u001b[0m\u001b[0m\n\u001b[1;32m     74\u001b[0m \u001b[0;34m\u001b[0m\u001b[0m\n\u001b[0;32m---> 75\u001b[0;31m     return PortfolioSummary(\n\u001b[0m\u001b[1;32m     76\u001b[0m       \u001b[0mdollar_cost\u001b[0m \u001b[0;34m=\u001b[0m \u001b[0mportfolio_cost\u001b[0m\u001b[0;34m,\u001b[0m\u001b[0;34m\u001b[0m\u001b[0;34m\u001b[0m\u001b[0m\n\u001b[1;32m     77\u001b[0m       \u001b[0mdollar_value\u001b[0m \u001b[0;34m=\u001b[0m \u001b[0mportfolio_value\u001b[0m\u001b[0;34m\u001b[0m\u001b[0;34m\u001b[0m\u001b[0m\n",
      "\u001b[0;31mTypeError\u001b[0m: __init__() missing 1 required positional argument: 'annualized_return'"
     ]
    }
   ],
   "source": [
    "performance = portfolio_data.summarize()"
   ]
  },
  {
   "cell_type": "code",
   "execution_count": null,
   "id": "4ec7825b-8613-43e9-8f8f-ba9203bd106c",
   "metadata": {},
   "outputs": [],
   "source": [
    "from src import returns"
   ]
  },
  {
   "cell_type": "markdown",
   "id": "21bc2f17-6aa8-4fa6-b92d-c8a4016f3ede",
   "metadata": {},
   "source": [
    "# Wide Data"
   ]
  },
  {
   "cell_type": "code",
   "execution_count": 321,
   "id": "49ac4d66-0f39-4b77-8401-da48a01ee897",
   "metadata": {},
   "outputs": [],
   "source": [
    "wide_prices_snapshot = (\n",
    "  portfolio_data\n",
    "    .prices_snapshot\n",
    "    .pivot(columns = 'asset', values = 'unit_price_usd')\n",
    ")\n",
    "\n",
    "# weighted_returns_snapshot = (returns.compute_period_returns(\n",
    "#   wide_prices_snapshot,\n",
    "#   30\n",
    "# ) * (1/wide_prices_snapshot.shape[1])).sum(axis = 1)\n",
    "\n",
    "# weighted_returns_snapshot"
   ]
  },
  {
   "cell_type": "code",
   "execution_count": 322,
   "id": "ad1767ee-dc2f-44b1-beb2-de3d8540f191",
   "metadata": {},
   "outputs": [
    {
     "data": {
      "text/html": [
       "<div>\n",
       "<style scoped>\n",
       "    .dataframe tbody tr th:only-of-type {\n",
       "        vertical-align: middle;\n",
       "    }\n",
       "\n",
       "    .dataframe tbody tr th {\n",
       "        vertical-align: top;\n",
       "    }\n",
       "\n",
       "    .dataframe thead th {\n",
       "        text-align: right;\n",
       "    }\n",
       "</style>\n",
       "<table border=\"1\" class=\"dataframe\">\n",
       "  <thead>\n",
       "    <tr style=\"text-align: right;\">\n",
       "      <th>asset</th>\n",
       "      <th>COST</th>\n",
       "      <th>DHR</th>\n",
       "      <th>SOXX</th>\n",
       "    </tr>\n",
       "    <tr>\n",
       "      <th>snapshot_date</th>\n",
       "      <th></th>\n",
       "      <th></th>\n",
       "      <th></th>\n",
       "    </tr>\n",
       "  </thead>\n",
       "  <tbody>\n",
       "    <tr>\n",
       "      <th>2021-04-06</th>\n",
       "      <td>720.24</td>\n",
       "      <td>NaN</td>\n",
       "      <td>NaN</td>\n",
       "    </tr>\n",
       "    <tr>\n",
       "      <th>2021-04-07</th>\n",
       "      <td>720.24</td>\n",
       "      <td>NaN</td>\n",
       "      <td>NaN</td>\n",
       "    </tr>\n",
       "    <tr>\n",
       "      <th>2021-04-08</th>\n",
       "      <td>720.24</td>\n",
       "      <td>NaN</td>\n",
       "      <td>NaN</td>\n",
       "    </tr>\n",
       "    <tr>\n",
       "      <th>2021-04-09</th>\n",
       "      <td>1083.45</td>\n",
       "      <td>1161.8</td>\n",
       "      <td>893.6</td>\n",
       "    </tr>\n",
       "    <tr>\n",
       "      <th>2021-04-12</th>\n",
       "      <td>1083.45</td>\n",
       "      <td>1161.8</td>\n",
       "      <td>893.6</td>\n",
       "    </tr>\n",
       "  </tbody>\n",
       "</table>\n",
       "</div>"
      ],
      "text/plain": [
       "asset             COST     DHR   SOXX\n",
       "snapshot_date                        \n",
       "2021-04-06      720.24     NaN    NaN\n",
       "2021-04-07      720.24     NaN    NaN\n",
       "2021-04-08      720.24     NaN    NaN\n",
       "2021-04-09     1083.45  1161.8  893.6\n",
       "2021-04-12     1083.45  1161.8  893.6"
      ]
     },
     "execution_count": 322,
     "metadata": {},
     "output_type": "execute_result"
    }
   ],
   "source": [
    "asset_snapshot_cost_wide = (\n",
    "  portfolio_data\n",
    "    .asset_snapshot\n",
    "    .pivot(columns = 'asset', values = 'asset_cost_usd')\n",
    ")\n",
    "asset_snapshot_cost_wide.head()"
   ]
  },
  {
   "cell_type": "code",
   "execution_count": 323,
   "id": "a5741293-66a6-4c89-9b24-0849e39572ef",
   "metadata": {},
   "outputs": [
    {
     "data": {
      "text/html": [
       "<div>\n",
       "<style scoped>\n",
       "    .dataframe tbody tr th:only-of-type {\n",
       "        vertical-align: middle;\n",
       "    }\n",
       "\n",
       "    .dataframe tbody tr th {\n",
       "        vertical-align: top;\n",
       "    }\n",
       "\n",
       "    .dataframe thead th {\n",
       "        text-align: right;\n",
       "    }\n",
       "</style>\n",
       "<table border=\"1\" class=\"dataframe\">\n",
       "  <thead>\n",
       "    <tr style=\"text-align: right;\">\n",
       "      <th>asset</th>\n",
       "      <th>COST</th>\n",
       "      <th>DHR</th>\n",
       "      <th>SOXX</th>\n",
       "    </tr>\n",
       "    <tr>\n",
       "      <th>snapshot_date</th>\n",
       "      <th></th>\n",
       "      <th></th>\n",
       "      <th></th>\n",
       "    </tr>\n",
       "  </thead>\n",
       "  <tbody>\n",
       "    <tr>\n",
       "      <th>2021-04-06</th>\n",
       "      <td>719.150238</td>\n",
       "      <td>NaN</td>\n",
       "      <td>NaN</td>\n",
       "    </tr>\n",
       "    <tr>\n",
       "      <th>2021-04-07</th>\n",
       "      <td>718.913055</td>\n",
       "      <td>NaN</td>\n",
       "      <td>NaN</td>\n",
       "    </tr>\n",
       "    <tr>\n",
       "      <th>2021-04-08</th>\n",
       "      <td>723.247894</td>\n",
       "      <td>NaN</td>\n",
       "      <td>NaN</td>\n",
       "    </tr>\n",
       "    <tr>\n",
       "      <th>2021-04-09</th>\n",
       "      <td>1085.015442</td>\n",
       "      <td>1155.795898</td>\n",
       "      <td>890.836761</td>\n",
       "    </tr>\n",
       "    <tr>\n",
       "      <th>2021-04-12</th>\n",
       "      <td>1090.305313</td>\n",
       "      <td>1165.541039</td>\n",
       "      <td>885.932495</td>\n",
       "    </tr>\n",
       "  </tbody>\n",
       "</table>\n",
       "</div>"
      ],
      "text/plain": [
       "asset                 COST          DHR        SOXX\n",
       "snapshot_date                                      \n",
       "2021-04-06      719.150238          NaN         NaN\n",
       "2021-04-07      718.913055          NaN         NaN\n",
       "2021-04-08      723.247894          NaN         NaN\n",
       "2021-04-09     1085.015442  1155.795898  890.836761\n",
       "2021-04-12     1090.305313  1165.541039  885.932495"
      ]
     },
     "execution_count": 323,
     "metadata": {},
     "output_type": "execute_result"
    }
   ],
   "source": [
    "asset_snapshot_value_wide = (\n",
    "  portfolio_data\n",
    "    .asset_snapshot\n",
    "    .pivot(columns = 'asset', values = 'asset_value_usd')\n",
    ")\n",
    "asset_snapshot_value_wide.head()"
   ]
  },
  {
   "cell_type": "markdown",
   "id": "a1845715-6faf-47e1-985c-914bb7ce7965",
   "metadata": {},
   "source": [
    "# Asset Allocation"
   ]
  },
  {
   "cell_type": "code",
   "execution_count": 324,
   "id": "31cd39e3-326f-4057-8dbf-d155363da07d",
   "metadata": {},
   "outputs": [],
   "source": [
    "assest_cost_allocation_snapshot_wide = asset_snapshot_cost_wide.div(\n",
    "  portfolio_data.portfolio_snapshot['portfolio_cost_usd'],\n",
    "  axis = 0\n",
    ")"
   ]
  },
  {
   "cell_type": "code",
   "execution_count": 325,
   "id": "e5c9dd40-c3b0-4e80-a21d-8000fb9e825a",
   "metadata": {},
   "outputs": [
    {
     "data": {
      "image/png": "[encoded data removed]",
      "text/plain": [
       "<Figure size 432x288 with 1 Axes>"
      ]
     },
     "metadata": {
      "needs_background": "light"
     },
     "output_type": "display_data"
    }
   ],
   "source": [
    "assest_cost_allocation_snapshot_wide.plot();"
   ]
  },
  {
   "cell_type": "code",
   "execution_count": 326,
   "id": "3f857493-082b-4e7a-bd7c-6c3a84895432",
   "metadata": {},
   "outputs": [],
   "source": [
    "assest_value_allocation_snapshot_wide = asset_snapshot_cost_wide.div(\n",
    "  portfolio_data.portfolio_snapshot['portfolio_value_usd'],\n",
    "  axis = 0\n",
    ")"
   ]
  },
  {
   "cell_type": "code",
   "execution_count": 327,
   "id": "50424176-7c5e-40f3-b4d7-32bfa9df07e5",
   "metadata": {},
   "outputs": [
    {
     "data": {
      "image/png": "[encoded data removed]",
      "text/plain": [
       "<Figure size 432x288 with 1 Axes>"
      ]
     },
     "metadata": {
      "needs_background": "light"
     },
     "output_type": "display_data"
    }
   ],
   "source": [
    "assest_value_allocation_snapshot_wide.plot();"
   ]
  },
  {
   "cell_type": "markdown",
   "id": "69354024-1ff9-4af2-a62a-5849e36428c3",
   "metadata": {},
   "source": [
    "# Returns Data"
   ]
  },
  {
   "cell_type": "code",
   "execution_count": 328,
   "id": "55022e23-490a-4a22-ab8b-817b1d884c9a",
   "metadata": {},
   "outputs": [
    {
     "data": {
      "text/html": [
       "<div>\n",
       "<style scoped>\n",
       "    .dataframe tbody tr th:only-of-type {\n",
       "        vertical-align: middle;\n",
       "    }\n",
       "\n",
       "    .dataframe tbody tr th {\n",
       "        vertical-align: top;\n",
       "    }\n",
       "\n",
       "    .dataframe thead th {\n",
       "        text-align: right;\n",
       "    }\n",
       "</style>\n",
       "<table border=\"1\" class=\"dataframe\">\n",
       "  <thead>\n",
       "    <tr style=\"text-align: right;\">\n",
       "      <th>asset</th>\n",
       "      <th>COST</th>\n",
       "      <th>DHR</th>\n",
       "      <th>SOXX</th>\n",
       "    </tr>\n",
       "    <tr>\n",
       "      <th>price_date</th>\n",
       "      <th></th>\n",
       "      <th></th>\n",
       "      <th></th>\n",
       "    </tr>\n",
       "  </thead>\n",
       "  <tbody>\n",
       "    <tr>\n",
       "      <th>2021-07-22</th>\n",
       "      <td>0.096518</td>\n",
       "      <td>0.18939</td>\n",
       "      <td>0.028921</td>\n",
       "    </tr>\n",
       "  </tbody>\n",
       "</table>\n",
       "</div>"
      ],
      "text/plain": [
       "asset           COST      DHR      SOXX\n",
       "price_date                             \n",
       "2021-07-22  0.096518  0.18939  0.028921"
      ]
     },
     "execution_count": 328,
     "metadata": {},
     "output_type": "execute_result"
    }
   ],
   "source": [
    "returns_snapshot_30d = returns.compute_period_returns(\n",
    "  wide_prices_snapshot,\n",
    "  30\n",
    ")\n",
    "returns_snapshot_30d.tail(1)"
   ]
  },
  {
   "cell_type": "code",
   "execution_count": 329,
   "id": "a02c99e8-b2d9-41cf-a054-8d2748bd4ffc",
   "metadata": {},
   "outputs": [
    {
     "data": {
      "text/plain": [
       "asset\n",
       "COST    0.277067\n",
       "DHR     0.332981\n",
       "SOXX    0.281952\n",
       "Name: 2021-07-22 00:00:00, dtype: float64"
      ]
     },
     "execution_count": 329,
     "metadata": {},
     "output_type": "execute_result"
    }
   ],
   "source": [
    "current_allocation = (\n",
    "  assest_value_allocation_snapshot_wide\n",
    "    .tail(1)\n",
    "    .squeeze()\n",
    ")\n",
    "current_allocation"
   ]
  },
  {
   "cell_type": "code",
   "execution_count": 330,
   "id": "fa7ba269-aa01-4303-b1bc-63739e85a628",
   "metadata": {},
   "outputs": [
    {
     "data": {
      "text/plain": [
       "price_date\n",
       "2021-07-22    0.097959\n",
       "dtype: float64"
      ]
     },
     "execution_count": 330,
     "metadata": {},
     "output_type": "execute_result"
    }
   ],
   "source": [
    "expected_returns_snapshot = (\n",
    "  returns_snapshot_30d\n",
    "    .multiply(current_allocation, axis = 1)\n",
    "    .sum(axis = 1)\n",
    ")\n",
    "expected_returns_snapshot.tail(1)"
   ]
  },
  {
   "cell_type": "code",
   "execution_count": 331,
   "id": "c15fd4bd-2a7a-4c99-8a02-1b26c7f33d0c",
   "metadata": {},
   "outputs": [
    {
     "data": {
      "text/plain": [
       "asset\n",
       "COST    0.277067\n",
       "DHR     0.332981\n",
       "SOXX    0.281952\n",
       "Name: 2021-07-22 00:00:00, dtype: float64"
      ]
     },
     "metadata": {},
     "output_type": "display_data"
    },
    {
     "data": {
      "text/html": [
       "<div>\n",
       "<style scoped>\n",
       "    .dataframe tbody tr th:only-of-type {\n",
       "        vertical-align: middle;\n",
       "    }\n",
       "\n",
       "    .dataframe tbody tr th {\n",
       "        vertical-align: top;\n",
       "    }\n",
       "\n",
       "    .dataframe thead th {\n",
       "        text-align: right;\n",
       "    }\n",
       "</style>\n",
       "<table border=\"1\" class=\"dataframe\">\n",
       "  <thead>\n",
       "    <tr style=\"text-align: right;\">\n",
       "      <th>asset</th>\n",
       "      <th>COST</th>\n",
       "      <th>DHR</th>\n",
       "      <th>SOXX</th>\n",
       "    </tr>\n",
       "    <tr>\n",
       "      <th>price_date</th>\n",
       "      <th></th>\n",
       "      <th></th>\n",
       "      <th></th>\n",
       "    </tr>\n",
       "  </thead>\n",
       "  <tbody>\n",
       "    <tr>\n",
       "      <th>2021-07-22</th>\n",
       "      <td>0.096518</td>\n",
       "      <td>0.18939</td>\n",
       "      <td>0.028921</td>\n",
       "    </tr>\n",
       "  </tbody>\n",
       "</table>\n",
       "</div>"
      ],
      "text/plain": [
       "asset           COST      DHR      SOXX\n",
       "price_date                             \n",
       "2021-07-22  0.096518  0.18939  0.028921"
      ]
     },
     "metadata": {},
     "output_type": "display_data"
    }
   ],
   "source": [
    "display(current_allocation)\n",
    "display(returns_snapshot_30d.tail(1))"
   ]
  },
  {
   "cell_type": "code",
   "execution_count": 332,
   "id": "d848f94b-6d5f-41fb-9662-4dfefb3d2922",
   "metadata": {},
   "outputs": [
    {
     "data": {
      "text/plain": [
       "array([[0.09651792, 0.18938952, 0.02892092]])"
      ]
     },
     "execution_count": 332,
     "metadata": {},
     "output_type": "execute_result"
    }
   ],
   "source": [
    "returns_snapshot_30d.tail(1).values"
   ]
  },
  {
   "cell_type": "code",
   "execution_count": 333,
   "id": "58211f09-8182-460a-ac49-79f3b04a3411",
   "metadata": {},
   "outputs": [
    {
     "data": {
      "text/plain": [
       "array([0.09795937])"
      ]
     },
     "execution_count": 333,
     "metadata": {},
     "output_type": "execute_result"
    }
   ],
   "source": [
    "np.dot(current_allocation.values, returns_snapshot_30d.tail(1).values.T)"
   ]
  },
  {
   "cell_type": "code",
   "execution_count": 335,
   "id": "730873c5-8d2b-4a6c-8d23-436820795f0e",
   "metadata": {},
   "outputs": [],
   "source": [
    "# assert np.isclose(\n",
    "#   np.dot(current_allocation.values, returns_snapshot_30d.tail(1).values.T)[0],\n",
    "#   0.034381\n",
    "# )"
   ]
  },
  {
   "cell_type": "code",
   "execution_count": 336,
   "id": "d650a5b3-b3a5-425a-ae5b-e19797fd4a4d",
   "metadata": {},
   "outputs": [
    {
     "name": "stdout",
     "output_type": "stream",
     "text": [
      "Days since inception: 107\n"
     ]
    }
   ],
   "source": [
    "portfolio_returns = returns.PortfolioReturns(portfolio_data)\n",
    "\n",
    "days_since_inception = portfolio_data.days_since_inception\n",
    "days_since_inception\n",
    "print('Days since inception:', days_since_inception)\n",
    "\n",
    "inception_returns_snapshot = returns.compute_period_returns(\n",
    "  periodic_snapshot = wide_prices_snapshot,\n",
    "  periods = days_since_inception\n",
    ")"
   ]
  },
  {
   "cell_type": "code",
   "execution_count": 337,
   "id": "66aaf532-cde8-438e-a780-dee1091cb56f",
   "metadata": {},
   "outputs": [
    {
     "data": {
      "text/html": [
       "<div>\n",
       "<style scoped>\n",
       "    .dataframe tbody tr th:only-of-type {\n",
       "        vertical-align: middle;\n",
       "    }\n",
       "\n",
       "    .dataframe tbody tr th {\n",
       "        vertical-align: top;\n",
       "    }\n",
       "\n",
       "    .dataframe thead th {\n",
       "        text-align: right;\n",
       "    }\n",
       "</style>\n",
       "<table border=\"1\" class=\"dataframe\">\n",
       "  <thead>\n",
       "    <tr style=\"text-align: right;\">\n",
       "      <th></th>\n",
       "      <th>order_id</th>\n",
       "      <th>asset</th>\n",
       "      <th>order_date</th>\n",
       "      <th>unit_cost_usd</th>\n",
       "      <th>order_units</th>\n",
       "      <th>order_cost_usd</th>\n",
       "    </tr>\n",
       "  </thead>\n",
       "  <tbody>\n",
       "    <tr>\n",
       "      <th>0</th>\n",
       "      <td>1</td>\n",
       "      <td>COST</td>\n",
       "      <td>2021-04-06</td>\n",
       "      <td>360.12</td>\n",
       "      <td>2</td>\n",
       "      <td>720.24</td>\n",
       "    </tr>\n",
       "    <tr>\n",
       "      <th>1</th>\n",
       "      <td>2</td>\n",
       "      <td>COST</td>\n",
       "      <td>2021-04-09</td>\n",
       "      <td>363.21</td>\n",
       "      <td>1</td>\n",
       "      <td>363.21</td>\n",
       "    </tr>\n",
       "    <tr>\n",
       "      <th>2</th>\n",
       "      <td>3</td>\n",
       "      <td>COST</td>\n",
       "      <td>2021-04-13</td>\n",
       "      <td>365.21</td>\n",
       "      <td>3</td>\n",
       "      <td>1095.63</td>\n",
       "    </tr>\n",
       "    <tr>\n",
       "      <th>3</th>\n",
       "      <td>4</td>\n",
       "      <td>COUR</td>\n",
       "      <td>2021-04-05</td>\n",
       "      <td>49.61</td>\n",
       "      <td>16</td>\n",
       "      <td>793.76</td>\n",
       "    </tr>\n",
       "    <tr>\n",
       "      <th>4</th>\n",
       "      <td>5</td>\n",
       "      <td>DHR</td>\n",
       "      <td>2021-04-09</td>\n",
       "      <td>232.36</td>\n",
       "      <td>5</td>\n",
       "      <td>1161.80</td>\n",
       "    </tr>\n",
       "    <tr>\n",
       "      <th>5</th>\n",
       "      <td>6</td>\n",
       "      <td>DHR</td>\n",
       "      <td>2021-04-13</td>\n",
       "      <td>242.84</td>\n",
       "      <td>6</td>\n",
       "      <td>1457.04</td>\n",
       "    </tr>\n",
       "    <tr>\n",
       "      <th>6</th>\n",
       "      <td>7</td>\n",
       "      <td>SOXX</td>\n",
       "      <td>2021-04-09</td>\n",
       "      <td>446.80</td>\n",
       "      <td>2</td>\n",
       "      <td>893.60</td>\n",
       "    </tr>\n",
       "    <tr>\n",
       "      <th>7</th>\n",
       "      <td>8</td>\n",
       "      <td>SOXX</td>\n",
       "      <td>2021-04-13</td>\n",
       "      <td>441.30</td>\n",
       "      <td>3</td>\n",
       "      <td>1323.90</td>\n",
       "    </tr>\n",
       "    <tr>\n",
       "      <th>8</th>\n",
       "      <td>9</td>\n",
       "      <td>POW.TO</td>\n",
       "      <td>2021-05-21</td>\n",
       "      <td>32.33</td>\n",
       "      <td>5</td>\n",
       "      <td>161.66</td>\n",
       "    </tr>\n",
       "  </tbody>\n",
       "</table>\n",
       "</div>"
      ],
      "text/plain": [
       "   order_id   asset order_date  unit_cost_usd  order_units  order_cost_usd\n",
       "0         1    COST 2021-04-06         360.12            2          720.24\n",
       "1         2    COST 2021-04-09         363.21            1          363.21\n",
       "2         3    COST 2021-04-13         365.21            3         1095.63\n",
       "3         4    COUR 2021-04-05          49.61           16          793.76\n",
       "4         5     DHR 2021-04-09         232.36            5         1161.80\n",
       "5         6     DHR 2021-04-13         242.84            6         1457.04\n",
       "6         7    SOXX 2021-04-09         446.80            2          893.60\n",
       "7         8    SOXX 2021-04-13         441.30            3         1323.90\n",
       "8         9  POW.TO 2021-05-21          32.33            5          161.66"
      ]
     },
     "execution_count": 337,
     "metadata": {},
     "output_type": "execute_result"
    }
   ],
   "source": [
    "orders_df"
   ]
  },
  {
   "cell_type": "code",
   "execution_count": 338,
   "id": "eb8d24df-3e73-44f6-873b-a2e95f079be1",
   "metadata": {
    "tags": []
   },
   "outputs": [
    {
     "name": "stdout",
     "output_type": "stream",
     "text": [
      "price_date\n",
      "2021-07-22    0.128348\n",
      "dtype: float64\n"
     ]
    },
    {
     "ename": "NameError",
     "evalue": "name 'performance' is not defined",
     "output_type": "error",
     "traceback": [
      "\u001b[0;31m---------------------------------------------------------------------------\u001b[0m",
      "\u001b[0;31mNameError\u001b[0m                                 Traceback (most recent call last)",
      "\u001b[0;32m<ipython-input-338-7069c475a44b>\u001b[0m in \u001b[0;36m<module>\u001b[0;34m\u001b[0m\n\u001b[1;32m      7\u001b[0m \u001b[0;34m\u001b[0m\u001b[0m\n\u001b[1;32m      8\u001b[0m \u001b[0msns\u001b[0m\u001b[0;34m.\u001b[0m\u001b[0mhistplot\u001b[0m\u001b[0;34m(\u001b[0m\u001b[0mexpected_returns_snapshot\u001b[0m\u001b[0;34m.\u001b[0m\u001b[0mloc\u001b[0m\u001b[0;34m[\u001b[0m\u001b[0;34m'2015-01-01'\u001b[0m\u001b[0;34m:\u001b[0m\u001b[0;34m]\u001b[0m\u001b[0;34m)\u001b[0m\u001b[0;34m\u001b[0m\u001b[0;34m\u001b[0m\u001b[0m\n\u001b[0;32m----> 9\u001b[0;31m \u001b[0mplt\u001b[0m\u001b[0;34m.\u001b[0m\u001b[0maxvline\u001b[0m\u001b[0;34m(\u001b[0m\u001b[0mperformance\u001b[0m\u001b[0;34m.\u001b[0m\u001b[0mpercent_return\u001b[0m\u001b[0;34m,\u001b[0m \u001b[0mcolor\u001b[0m\u001b[0;34m=\u001b[0m\u001b[0;34m'darkred'\u001b[0m\u001b[0;34m,\u001b[0m \u001b[0mls\u001b[0m\u001b[0;34m=\u001b[0m\u001b[0;34m'--'\u001b[0m\u001b[0;34m)\u001b[0m\u001b[0;34m\u001b[0m\u001b[0;34m\u001b[0m\u001b[0m\n\u001b[0m\u001b[1;32m     10\u001b[0m \u001b[0;34m\u001b[0m\u001b[0m\n\u001b[1;32m     11\u001b[0m \u001b[0mplt\u001b[0m\u001b[0;34m.\u001b[0m\u001b[0maxvline\u001b[0m\u001b[0;34m(\u001b[0m\u001b[0;36m0\u001b[0m\u001b[0;34m,\u001b[0m \u001b[0mcolor\u001b[0m\u001b[0;34m=\u001b[0m\u001b[0;34m'black'\u001b[0m\u001b[0;34m)\u001b[0m\u001b[0;34m;\u001b[0m\u001b[0;34m\u001b[0m\u001b[0;34m\u001b[0m\u001b[0m\n",
      "\u001b[0;31mNameError\u001b[0m: name 'performance' is not defined"
     ]
    },
    {
     "data": {
      "image/png": "[encoded data removed]",
      "text/plain": [
       "<Figure size 432x288 with 1 Axes>"
      ]
     },
     "metadata": {
      "needs_background": "light"
     },
     "output_type": "display_data"
    }
   ],
   "source": [
    "expected_returns_snapshot = (\n",
    "  inception_returns_snapshot\n",
    "    .multiply(current_allocation, axis = 1)\n",
    "    .sum(axis = 1)\n",
    ")\n",
    "print(expected_returns_snapshot.tail(1))\n",
    "\n",
    "sns.histplot(expected_returns_snapshot.loc['2015-01-01':])\n",
    "plt.axvline(performance.percent_return, color='darkred', ls='--')\n",
    "\n",
    "plt.axvline(0, color='black');\n",
    "\n",
    "expected_returns_snapshot.describe().to_frame().T"
   ]
  },
  {
   "cell_type": "code",
   "execution_count": 339,
   "id": "c45d04bd-6d57-43e4-a50a-b393c3831553",
   "metadata": {},
   "outputs": [
    {
     "data": {
      "text/html": [
       "<div>\n",
       "<style scoped>\n",
       "    .dataframe tbody tr th:only-of-type {\n",
       "        vertical-align: middle;\n",
       "    }\n",
       "\n",
       "    .dataframe tbody tr th {\n",
       "        vertical-align: top;\n",
       "    }\n",
       "\n",
       "    .dataframe thead th {\n",
       "        text-align: right;\n",
       "    }\n",
       "</style>\n",
       "<table border=\"1\" class=\"dataframe\">\n",
       "  <thead>\n",
       "    <tr style=\"text-align: right;\">\n",
       "      <th></th>\n",
       "      <th>count</th>\n",
       "      <th>mean</th>\n",
       "      <th>std</th>\n",
       "      <th>min</th>\n",
       "      <th>25%</th>\n",
       "      <th>50%</th>\n",
       "      <th>75%</th>\n",
       "      <th>max</th>\n",
       "    </tr>\n",
       "  </thead>\n",
       "  <tbody>\n",
       "    <tr>\n",
       "      <th>0</th>\n",
       "      <td>10669.0</td>\n",
       "      <td>0.058743</td>\n",
       "      <td>0.11168</td>\n",
       "      <td>-0.382249</td>\n",
       "      <td>-0.008494</td>\n",
       "      <td>0.054969</td>\n",
       "      <td>0.118392</td>\n",
       "      <td>0.874545</td>\n",
       "    </tr>\n",
       "  </tbody>\n",
       "</table>\n",
       "</div>"
      ],
      "text/plain": [
       "     count      mean      std       min       25%       50%       75%  \\\n",
       "0  10669.0  0.058743  0.11168 -0.382249 -0.008494  0.054969  0.118392   \n",
       "\n",
       "        max  \n",
       "0  0.874545  "
      ]
     },
     "execution_count": 339,
     "metadata": {},
     "output_type": "execute_result"
    }
   ],
   "source": [
    "portfolio_returns.expected_returns_snapshot.describe().to_frame().T"
   ]
  },
  {
   "cell_type": "code",
   "execution_count": 340,
   "id": "6d14ba2b-f20b-45cd-b021-3282649ee93b",
   "metadata": {
    "tags": []
   },
   "outputs": [
    {
     "data": {
      "text/plain": [
       "234.65019772566384"
      ]
     },
     "execution_count": 340,
     "metadata": {},
     "output_type": "execute_result"
    }
   ],
   "source": [
    "inception_returns_snapshot = returns.compute_period_returns(\n",
    "  periodic_snapshot = wide_prices_snapshot,\n",
    "  periods = days_since_inception - 1\n",
    ")\n",
    "\n",
    "# print(inception_returns_snapshot.tail(1))\n",
    "\n",
    "expected_returns_snapshot = returns.annualize_returns(\n",
    "  inception_returns_snapshot\n",
    "    .multiply(current_allocation, axis = 1)\n",
    "    .sum(axis = 1)\n",
    ", days_since_inception)\n",
    "expected_returns_snapshot\n",
    "# print(expected_returns_snapshot.tail(1))\n",
    "\n",
    "# sns.histplot(expected_returns_snapshot.loc['2015-01-01':])\n",
    "# plt.axvline(performance.percent_return, color='darkred', ls='--')\n",
    "\n",
    "# plt.axvline(0, color='black');\n",
    "\n",
    "# expected_returns_snapshot.describe().to_frame().T"
   ]
  },
  {
   "cell_type": "code",
   "execution_count": 341,
   "id": "ae05ae93-cbd2-4a5f-abee-c764a0985e35",
   "metadata": {
    "tags": []
   },
   "outputs": [
    {
     "name": "stdout",
     "output_type": "stream",
     "text": [
      "asset           COST       DHR      SOXX\n",
      "price_date                              \n",
      "2021-07-22  0.298899  0.323044  0.125579\n",
      "0.10854280271853524\n"
     ]
    },
    {
     "data": {
      "text/html": [
       "<div>\n",
       "<style scoped>\n",
       "    .dataframe tbody tr th:only-of-type {\n",
       "        vertical-align: middle;\n",
       "    }\n",
       "\n",
       "    .dataframe tbody tr th {\n",
       "        vertical-align: top;\n",
       "    }\n",
       "\n",
       "    .dataframe thead th {\n",
       "        text-align: right;\n",
       "    }\n",
       "</style>\n",
       "<table border=\"1\" class=\"dataframe\">\n",
       "  <thead>\n",
       "    <tr style=\"text-align: right;\">\n",
       "      <th></th>\n",
       "      <th>count</th>\n",
       "      <th>mean</th>\n",
       "      <th>std</th>\n",
       "      <th>min</th>\n",
       "      <th>25%</th>\n",
       "      <th>50%</th>\n",
       "      <th>75%</th>\n",
       "      <th>max</th>\n",
       "    </tr>\n",
       "  </thead>\n",
       "  <tbody>\n",
       "    <tr>\n",
       "      <th>0</th>\n",
       "      <td>10669.0</td>\n",
       "      <td>0.05319</td>\n",
       "      <td>0.105693</td>\n",
       "      <td>-0.364012</td>\n",
       "      <td>-0.01192</td>\n",
       "      <td>0.049064</td>\n",
       "      <td>0.112874</td>\n",
       "      <td>0.868879</td>\n",
       "    </tr>\n",
       "  </tbody>\n",
       "</table>\n",
       "</div>"
      ],
      "text/plain": [
       "     count     mean       std       min      25%       50%       75%       max\n",
       "0  10669.0  0.05319  0.105693 -0.364012 -0.01192  0.049064  0.112874  0.868879"
      ]
     },
     "execution_count": 341,
     "metadata": {},
     "output_type": "execute_result"
    },
    {
     "data": {
      "image/png": "[encoded data removed]",
      "text/plain": [
       "<Figure size 432x288 with 1 Axes>"
      ]
     },
     "metadata": {
      "needs_background": "light"
     },
     "output_type": "display_data"
    }
   ],
   "source": [
    "inception_returns_snapshot = returns.compute_period_returns(\n",
    "  periodic_snapshot = wide_prices_snapshot,\n",
    "  periods = days_since_inception - 10\n",
    ")\n",
    "\n",
    "print(inception_returns_snapshot.tail(1))\n",
    "\n",
    "expected_returns_snapshot = (\n",
    "  inception_returns_snapshot\n",
    "    .multiply(current_allocation, axis = 1)\n",
    "    .sum(axis = 1)\n",
    ")\n",
    "print(expected_returns_snapshot.iloc[-10])\n",
    "\n",
    "sns.histplot(expected_returns_snapshot.loc['2015-01-01':])\n",
    "plt.axvline(expected_returns_snapshot.iloc[-10], color='darkred', ls='--')\n",
    "\n",
    "plt.axvline(0, color='black');\n",
    "\n",
    "expected_returns_snapshot.describe().to_frame().T"
   ]
  },
  {
   "cell_type": "markdown",
   "id": "b557baa7-a345-4a6d-a5ff-c78799daef1e",
   "metadata": {
    "tags": []
   },
   "source": [
    "Tail statistics are probably stable but the mean and standard deviation likely change more over time."
   ]
  },
  {
   "cell_type": "code",
   "execution_count": 342,
   "id": "b593eba7-8983-4e06-9e6d-c67b5d955a06",
   "metadata": {},
   "outputs": [
    {
     "data": {
      "application/vnd.plotly.v1+json": {
       "config": {
        "plotlyServerURL": "https://plot.ly"
       },
       "data": [
        {
         "type": "bar",
         "y": [
          2,
          3,
          1
         ]
        }
       ],
       "layout": {
        "autosize": true,
        "template": {
         "data": {
          "bar": [
           {
            "error_x": {
             "color": "#2a3f5f"
            },
            "error_y": {
             "color": "#2a3f5f"
            },
            "marker": {
             "line": {
              "color": "#E5ECF6",
              "width": 0.5
             }
            },
            "type": "bar"
           }
          ],
          "barpolar": [
           {
            "marker": {
             "line": {
              "color": "#E5ECF6",
              "width": 0.5
             }
            },
            "type": "barpolar"
           }
          ],
          "carpet": [
           {
            "aaxis": {
             "endlinecolor": "#2a3f5f",
             "gridcolor": "white",
             "linecolor": "white",
             "minorgridcolor": "white",
             "startlinecolor": "#2a3f5f"
            },
            "baxis": {
             "endlinecolor": "#2a3f5f",
             "gridcolor": "white",
             "linecolor": "white",
             "minorgridcolor": "white",
             "startlinecolor": "#2a3f5f"
            },
            "type": "carpet"
           }
          ],
          "choropleth": [
           {
            "colorbar": {
             "outlinewidth": 0,
             "ticks": ""
            },
            "type": "choropleth"
           }
          ],
          "contour": [
           {
            "colorbar": {
             "outlinewidth": 0,
             "ticks": ""
            },
            "colorscale": [
             [
              0,
              "#0d0887"
             ],
             [
              0.1111111111111111,
              "#46039f"
             ],
             [
              0.2222222222222222,
              "#7201a8"
             ],
             [
              0.3333333333333333,
              "#9c179e"
             ],
             [
              0.4444444444444444,
              "#bd3786"
             ],
             [
              0.5555555555555556,
              "#d8576b"
             ],
             [
              0.6666666666666666,
              "#ed7953"
             ],
             [
              0.7777777777777778,
              "#fb9f3a"
             ],
             [
              0.8888888888888888,
              "#fdca26"
             ],
             [
              1,
              "#f0f921"
             ]
            ],
            "type": "contour"
           }
          ],
          "contourcarpet": [
           {
            "colorbar": {
             "outlinewidth": 0,
             "ticks": ""
            },
            "type": "contourcarpet"
           }
          ],
          "heatmap": [
           {
            "colorbar": {
             "outlinewidth": 0,
             "ticks": ""
            },
            "colorscale": [
             [
              0,
              "#0d0887"
             ],
             [
              0.1111111111111111,
              "#46039f"
             ],
             [
              0.2222222222222222,
              "#7201a8"
             ],
             [
              0.3333333333333333,
              "#9c179e"
             ],
             [
              0.4444444444444444,
              "#bd3786"
             ],
             [
              0.5555555555555556,
              "#d8576b"
             ],
             [
              0.6666666666666666,
              "#ed7953"
             ],
             [
              0.7777777777777778,
              "#fb9f3a"
             ],
             [
              0.8888888888888888,
              "#fdca26"
             ],
             [
              1,
              "#f0f921"
             ]
            ],
            "type": "heatmap"
           }
          ],
          "heatmapgl": [
           {
            "colorbar": {
             "outlinewidth": 0,
             "ticks": ""
            },
            "colorscale": [
             [
              0,
              "#0d0887"
             ],
             [
              0.1111111111111111,
              "#46039f"
             ],
             [
              0.2222222222222222,
              "#7201a8"
             ],
             [
              0.3333333333333333,
              "#9c179e"
             ],
             [
              0.4444444444444444,
              "#bd3786"
             ],
             [
              0.5555555555555556,
              "#d8576b"
             ],
             [
              0.6666666666666666,
              "#ed7953"
             ],
             [
              0.7777777777777778,
              "#fb9f3a"
             ],
             [
              0.8888888888888888,
              "#fdca26"
             ],
             [
              1,
              "#f0f921"
             ]
            ],
            "type": "heatmapgl"
           }
          ],
          "histogram": [
           {
            "marker": {
             "colorbar": {
              "outlinewidth": 0,
              "ticks": ""
             }
            },
            "type": "histogram"
           }
          ],
          "histogram2d": [
           {
            "colorbar": {
             "outlinewidth": 0,
             "ticks": ""
            },
            "colorscale": [
             [
              0,
              "#0d0887"
             ],
             [
              0.1111111111111111,
              "#46039f"
             ],
             [
              0.2222222222222222,
              "#7201a8"
             ],
             [
              0.3333333333333333,
              "#9c179e"
             ],
             [
              0.4444444444444444,
              "#bd3786"
             ],
             [
              0.5555555555555556,
              "#d8576b"
             ],
             [
              0.6666666666666666,
              "#ed7953"
             ],
             [
              0.7777777777777778,
              "#fb9f3a"
             ],
             [
              0.8888888888888888,
              "#fdca26"
             ],
             [
              1,
              "#f0f921"
             ]
            ],
            "type": "histogram2d"
           }
          ],
          "histogram2dcontour": [
           {
            "colorbar": {
             "outlinewidth": 0,
             "ticks": ""
            },
            "colorscale": [
             [
              0,
              "#0d0887"
             ],
             [
              0.1111111111111111,
              "#46039f"
             ],
             [
              0.2222222222222222,
              "#7201a8"
             ],
             [
              0.3333333333333333,
              "#9c179e"
             ],
             [
              0.4444444444444444,
              "#bd3786"
             ],
             [
              0.5555555555555556,
              "#d8576b"
             ],
             [
              0.6666666666666666,
              "#ed7953"
             ],
             [
              0.7777777777777778,
              "#fb9f3a"
             ],
             [
              0.8888888888888888,
              "#fdca26"
             ],
             [
              1,
              "#f0f921"
             ]
            ],
            "type": "histogram2dcontour"
           }
          ],
          "mesh3d": [
           {
            "colorbar": {
             "outlinewidth": 0,
             "ticks": ""
            },
            "type": "mesh3d"
           }
          ],
          "parcoords": [
           {
            "line": {
             "colorbar": {
              "outlinewidth": 0,
              "ticks": ""
             }
            },
            "type": "parcoords"
           }
          ],
          "pie": [
           {
            "automargin": true,
            "type": "pie"
           }
          ],
          "scatter": [
           {
            "marker": {
             "colorbar": {
              "outlinewidth": 0,
              "ticks": ""
             }
            },
            "type": "scatter"
           }
          ],
          "scatter3d": [
           {
            "line": {
             "colorbar": {
              "outlinewidth": 0,
              "ticks": ""
             }
            },
            "marker": {
             "colorbar": {
              "outlinewidth": 0,
              "ticks": ""
             }
            },
            "type": "scatter3d"
           }
          ],
          "scattercarpet": [
           {
            "marker": {
             "colorbar": {
              "outlinewidth": 0,
              "ticks": ""
             }
            },
            "type": "scattercarpet"
           }
          ],
          "scattergeo": [
           {
            "marker": {
             "colorbar": {
              "outlinewidth": 0,
              "ticks": ""
             }
            },
            "type": "scattergeo"
           }
          ],
          "scattergl": [
           {
            "marker": {
             "colorbar": {
              "outlinewidth": 0,
              "ticks": ""
             }
            },
            "type": "scattergl"
           }
          ],
          "scattermapbox": [
           {
            "marker": {
             "colorbar": {
              "outlinewidth": 0,
              "ticks": ""
             }
            },
            "type": "scattermapbox"
           }
          ],
          "scatterpolar": [
           {
            "marker": {
             "colorbar": {
              "outlinewidth": 0,
              "ticks": ""
             }
            },
            "type": "scatterpolar"
           }
          ],
          "scatterpolargl": [
           {
            "marker": {
             "colorbar": {
              "outlinewidth": 0,
              "ticks": ""
             }
            },
            "type": "scatterpolargl"
           }
          ],
          "scatterternary": [
           {
            "marker": {
             "colorbar": {
              "outlinewidth": 0,
              "ticks": ""
             }
            },
            "type": "scatterternary"
           }
          ],
          "surface": [
           {
            "colorbar": {
             "outlinewidth": 0,
             "ticks": ""
            },
            "colorscale": [
             [
              0,
              "#0d0887"
             ],
             [
              0.1111111111111111,
              "#46039f"
             ],
             [
              0.2222222222222222,
              "#7201a8"
             ],
             [
              0.3333333333333333,
              "#9c179e"
             ],
             [
              0.4444444444444444,
              "#bd3786"
             ],
             [
              0.5555555555555556,
              "#d8576b"
             ],
             [
              0.6666666666666666,
              "#ed7953"
             ],
             [
              0.7777777777777778,
              "#fb9f3a"
             ],
             [
              0.8888888888888888,
              "#fdca26"
             ],
             [
              1,
              "#f0f921"
             ]
            ],
            "type": "surface"
           }
          ],
          "table": [
           {
            "cells": {
             "fill": {
              "color": "#EBF0F8"
             },
             "line": {
              "color": "white"
             }
            },
            "header": {
             "fill": {
              "color": "#C8D4E3"
             },
             "line": {
              "color": "white"
             }
            },
            "type": "table"
           }
          ]
         },
         "layout": {
          "annotationdefaults": {
           "arrowcolor": "#2a3f5f",
           "arrowhead": 0,
           "arrowwidth": 1
          },
          "autotypenumbers": "strict",
          "coloraxis": {
           "colorbar": {
            "outlinewidth": 0,
            "ticks": ""
           }
          },
          "colorscale": {
           "diverging": [
            [
             0,
             "#8e0152"
            ],
            [
             0.1,
             "#c51b7d"
            ],
            [
             0.2,
             "#de77ae"
            ],
            [
             0.3,
             "#f1b6da"
            ],
            [
             0.4,
             "#fde0ef"
            ],
            [
             0.5,
             "#f7f7f7"
            ],
            [
             0.6,
             "#e6f5d0"
            ],
            [
             0.7,
             "#b8e186"
            ],
            [
             0.8,
             "#7fbc41"
            ],
            [
             0.9,
             "#4d9221"
            ],
            [
             1,
             "#276419"
            ]
           ],
           "sequential": [
            [
             0,
             "#0d0887"
            ],
            [
             0.1111111111111111,
             "#46039f"
            ],
            [
             0.2222222222222222,
             "#7201a8"
            ],
            [
             0.3333333333333333,
             "#9c179e"
            ],
            [
             0.4444444444444444,
             "#bd3786"
            ],
            [
             0.5555555555555556,
             "#d8576b"
            ],
            [
             0.6666666666666666,
             "#ed7953"
            ],
            [
             0.7777777777777778,
             "#fb9f3a"
            ],
            [
             0.8888888888888888,
             "#fdca26"
            ],
            [
             1,
             "#f0f921"
            ]
           ],
           "sequentialminus": [
            [
             0,
             "#0d0887"
            ],
            [
             0.1111111111111111,
             "#46039f"
            ],
            [
             0.2222222222222222,
             "#7201a8"
            ],
            [
             0.3333333333333333,
             "#9c179e"
            ],
            [
             0.4444444444444444,
             "#bd3786"
            ],
            [
             0.5555555555555556,
             "#d8576b"
            ],
            [
             0.6666666666666666,
             "#ed7953"
            ],
            [
             0.7777777777777778,
             "#fb9f3a"
            ],
            [
             0.8888888888888888,
             "#fdca26"
            ],
            [
             1,
             "#f0f921"
            ]
           ]
          },
          "colorway": [
           "#636efa",
           "#EF553B",
           "#00cc96",
           "#ab63fa",
           "#FFA15A",
           "#19d3f3",
           "#FF6692",
           "#B6E880",
           "#FF97FF",
           "#FECB52"
          ],
          "font": {
           "color": "#2a3f5f"
          },
          "geo": {
           "bgcolor": "white",
           "lakecolor": "white",
           "landcolor": "#E5ECF6",
           "showlakes": true,
           "showland": true,
           "subunitcolor": "white"
          },
          "hoverlabel": {
           "align": "left"
          },
          "hovermode": "closest",
          "mapbox": {
           "style": "light"
          },
          "paper_bgcolor": "white",
          "plot_bgcolor": "#E5ECF6",
          "polar": {
           "angularaxis": {
            "gridcolor": "white",
            "linecolor": "white",
            "ticks": ""
           },
           "bgcolor": "#E5ECF6",
           "radialaxis": {
            "gridcolor": "white",
            "linecolor": "white",
            "ticks": ""
           }
          },
          "scene": {
           "xaxis": {
            "backgroundcolor": "#E5ECF6",
            "gridcolor": "white",
            "gridwidth": 2,
            "linecolor": "white",
            "showbackground": true,
            "ticks": "",
            "zerolinecolor": "white"
           },
           "yaxis": {
            "backgroundcolor": "#E5ECF6",
            "gridcolor": "white",
            "gridwidth": 2,
            "linecolor": "white",
            "showbackground": true,
            "ticks": "",
            "zerolinecolor": "white"
           },
           "zaxis": {
            "backgroundcolor": "#E5ECF6",
            "gridcolor": "white",
            "gridwidth": 2,
            "linecolor": "white",
            "showbackground": true,
            "ticks": "",
            "zerolinecolor": "white"
           }
          },
          "shapedefaults": {
           "line": {
            "color": "#2a3f5f"
           }
          },
          "ternary": {
           "aaxis": {
            "gridcolor": "white",
            "linecolor": "white",
            "ticks": ""
           },
           "baxis": {
            "gridcolor": "white",
            "linecolor": "white",
            "ticks": ""
           },
           "bgcolor": "#E5ECF6",
           "caxis": {
            "gridcolor": "white",
            "linecolor": "white",
            "ticks": ""
           }
          },
          "title": {
           "x": 0.05
          },
          "xaxis": {
           "automargin": true,
           "gridcolor": "white",
           "linecolor": "white",
           "ticks": "",
           "title": {
            "standoff": 15
           },
           "zerolinecolor": "white",
           "zerolinewidth": 2
          },
          "yaxis": {
           "automargin": true,
           "gridcolor": "white",
           "linecolor": "white",
           "ticks": "",
           "title": {
            "standoff": 15
           },
           "zerolinecolor": "white",
           "zerolinewidth": 2
          }
         }
        },
        "xaxis": {
         "autorange": true,
         "range": [
          -0.5,
          2.5
         ]
        },
        "yaxis": {
         "autorange": true,
         "range": [
          0,
          3.1578947368421053
         ],
         "type": "linear"
        }
       }
      },
      "image/png": "[encoded data removed]",
      "text/html": [
       "<div>                            <div id=\"929bc58f-5c77-4b82-b3f1-572df8305eec\" class=\"plotly-graph-div\" style=\"height:525px; width:100%;\"></div>            <script type=\"text/javascript\">                require([\"plotly\"], function(Plotly) {                    window.PLOTLYENV=window.PLOTLYENV || {};                                    if (document.getElementById(\"929bc58f-5c77-4b82-b3f1-572df8305eec\")) {                    Plotly.newPlot(                        \"929bc58f-5c77-4b82-b3f1-572df8305eec\",                        [{\"type\": \"bar\", \"y\": [2, 3, 1]}],                        {\"template\": {\"data\": {\"bar\": [{\"error_x\": {\"color\": \"#2a3f5f\"}, \"error_y\": {\"color\": \"#2a3f5f\"}, \"marker\": {\"line\": {\"color\": \"#E5ECF6\", \"width\": 0.5}}, \"type\": \"bar\"}], \"barpolar\": [{\"marker\": {\"line\": {\"color\": \"#E5ECF6\", \"width\": 0.5}}, \"type\": \"barpolar\"}], \"carpet\": [{\"aaxis\": {\"endlinecolor\": \"#2a3f5f\", \"gridcolor\": \"white\", \"linecolor\": \"white\", \"minorgridcolor\": \"white\", \"startlinecolor\": \"#2a3f5f\"}, \"baxis\": {\"endlinecolor\": \"#2a3f5f\", \"gridcolor\": \"white\", \"linecolor\": \"white\", \"minorgridcolor\": \"white\", \"startlinecolor\": \"#2a3f5f\"}, \"type\": \"carpet\"}], \"choropleth\": [{\"colorbar\": {\"outlinewidth\": 0, \"ticks\": \"\"}, \"type\": \"choropleth\"}], \"contour\": [{\"colorbar\": {\"outlinewidth\": 0, \"ticks\": \"\"}, \"colorscale\": [[0.0, \"#0d0887\"], [0.1111111111111111, \"#46039f\"], [0.2222222222222222, \"#7201a8\"], [0.3333333333333333, \"#9c179e\"], [0.4444444444444444, \"#bd3786\"], [0.5555555555555556, \"#d8576b\"], [0.6666666666666666, \"#ed7953\"], [0.7777777777777778, \"#fb9f3a\"], [0.8888888888888888, \"#fdca26\"], [1.0, \"#f0f921\"]], \"type\": \"contour\"}], \"contourcarpet\": [{\"colorbar\": {\"outlinewidth\": 0, \"ticks\": \"\"}, \"type\": \"contourcarpet\"}], \"heatmap\": [{\"colorbar\": {\"outlinewidth\": 0, \"ticks\": \"\"}, \"colorscale\": [[0.0, \"#0d0887\"], [0.1111111111111111, \"#46039f\"], [0.2222222222222222, \"#7201a8\"], [0.3333333333333333, \"#9c179e\"], [0.4444444444444444, \"#bd3786\"], [0.5555555555555556, \"#d8576b\"], [0.6666666666666666, \"#ed7953\"], [0.7777777777777778, \"#fb9f3a\"], [0.8888888888888888, \"#fdca26\"], [1.0, \"#f0f921\"]], \"type\": \"heatmap\"}], \"heatmapgl\": [{\"colorbar\": {\"outlinewidth\": 0, \"ticks\": \"\"}, \"colorscale\": [[0.0, \"#0d0887\"], [0.1111111111111111, \"#46039f\"], [0.2222222222222222, \"#7201a8\"], [0.3333333333333333, \"#9c179e\"], [0.4444444444444444, \"#bd3786\"], [0.5555555555555556, \"#d8576b\"], [0.6666666666666666, \"#ed7953\"], [0.7777777777777778, \"#fb9f3a\"], [0.8888888888888888, \"#fdca26\"], [1.0, \"#f0f921\"]], \"type\": \"heatmapgl\"}], \"histogram\": [{\"marker\": {\"colorbar\": {\"outlinewidth\": 0, \"ticks\": \"\"}}, \"type\": \"histogram\"}], \"histogram2d\": [{\"colorbar\": {\"outlinewidth\": 0, \"ticks\": \"\"}, \"colorscale\": [[0.0, \"#0d0887\"], [0.1111111111111111, \"#46039f\"], [0.2222222222222222, \"#7201a8\"], [0.3333333333333333, \"#9c179e\"], [0.4444444444444444, \"#bd3786\"], [0.5555555555555556, \"#d8576b\"], [0.6666666666666666, \"#ed7953\"], [0.7777777777777778, \"#fb9f3a\"], [0.8888888888888888, \"#fdca26\"], [1.0, \"#f0f921\"]], \"type\": \"histogram2d\"}], \"histogram2dcontour\": [{\"colorbar\": {\"outlinewidth\": 0, \"ticks\": \"\"}, \"colorscale\": [[0.0, \"#0d0887\"], [0.1111111111111111, \"#46039f\"], [0.2222222222222222, \"#7201a8\"], [0.3333333333333333, \"#9c179e\"], [0.4444444444444444, \"#bd3786\"], [0.5555555555555556, \"#d8576b\"], [0.6666666666666666, \"#ed7953\"], [0.7777777777777778, \"#fb9f3a\"], [0.8888888888888888, \"#fdca26\"], [1.0, \"#f0f921\"]], \"type\": \"histogram2dcontour\"}], \"mesh3d\": [{\"colorbar\": {\"outlinewidth\": 0, \"ticks\": \"\"}, \"type\": \"mesh3d\"}], \"parcoords\": [{\"line\": {\"colorbar\": {\"outlinewidth\": 0, \"ticks\": \"\"}}, \"type\": \"parcoords\"}], \"pie\": [{\"automargin\": true, \"type\": \"pie\"}], \"scatter\": [{\"marker\": {\"colorbar\": {\"outlinewidth\": 0, \"ticks\": \"\"}}, \"type\": \"scatter\"}], \"scatter3d\": [{\"line\": {\"colorbar\": {\"outlinewidth\": 0, \"ticks\": \"\"}}, \"marker\": {\"colorbar\": {\"outlinewidth\": 0, \"ticks\": \"\"}}, \"type\": \"scatter3d\"}], \"scattercarpet\": [{\"marker\": {\"colorbar\": {\"outlinewidth\": 0, \"ticks\": \"\"}}, \"type\": \"scattercarpet\"}], \"scattergeo\": [{\"marker\": {\"colorbar\": {\"outlinewidth\": 0, \"ticks\": \"\"}}, \"type\": \"scattergeo\"}], \"scattergl\": [{\"marker\": {\"colorbar\": {\"outlinewidth\": 0, \"ticks\": \"\"}}, \"type\": \"scattergl\"}], \"scattermapbox\": [{\"marker\": {\"colorbar\": {\"outlinewidth\": 0, \"ticks\": \"\"}}, \"type\": \"scattermapbox\"}], \"scatterpolar\": [{\"marker\": {\"colorbar\": {\"outlinewidth\": 0, \"ticks\": \"\"}}, \"type\": \"scatterpolar\"}], \"scatterpolargl\": [{\"marker\": {\"colorbar\": {\"outlinewidth\": 0, \"ticks\": \"\"}}, \"type\": \"scatterpolargl\"}], \"scatterternary\": [{\"marker\": {\"colorbar\": {\"outlinewidth\": 0, \"ticks\": \"\"}}, \"type\": \"scatterternary\"}], \"surface\": [{\"colorbar\": {\"outlinewidth\": 0, \"ticks\": \"\"}, \"colorscale\": [[0.0, \"#0d0887\"], [0.1111111111111111, \"#46039f\"], [0.2222222222222222, \"#7201a8\"], [0.3333333333333333, \"#9c179e\"], [0.4444444444444444, \"#bd3786\"], [0.5555555555555556, \"#d8576b\"], [0.6666666666666666, \"#ed7953\"], [0.7777777777777778, \"#fb9f3a\"], [0.8888888888888888, \"#fdca26\"], [1.0, \"#f0f921\"]], \"type\": \"surface\"}], \"table\": [{\"cells\": {\"fill\": {\"color\": \"#EBF0F8\"}, \"line\": {\"color\": \"white\"}}, \"header\": {\"fill\": {\"color\": \"#C8D4E3\"}, \"line\": {\"color\": \"white\"}}, \"type\": \"table\"}]}, \"layout\": {\"annotationdefaults\": {\"arrowcolor\": \"#2a3f5f\", \"arrowhead\": 0, \"arrowwidth\": 1}, \"autotypenumbers\": \"strict\", \"coloraxis\": {\"colorbar\": {\"outlinewidth\": 0, \"ticks\": \"\"}}, \"colorscale\": {\"diverging\": [[0, \"#8e0152\"], [0.1, \"#c51b7d\"], [0.2, \"#de77ae\"], [0.3, \"#f1b6da\"], [0.4, \"#fde0ef\"], [0.5, \"#f7f7f7\"], [0.6, \"#e6f5d0\"], [0.7, \"#b8e186\"], [0.8, \"#7fbc41\"], [0.9, \"#4d9221\"], [1, \"#276419\"]], \"sequential\": [[0.0, \"#0d0887\"], [0.1111111111111111, \"#46039f\"], [0.2222222222222222, \"#7201a8\"], [0.3333333333333333, \"#9c179e\"], [0.4444444444444444, \"#bd3786\"], [0.5555555555555556, \"#d8576b\"], [0.6666666666666666, \"#ed7953\"], [0.7777777777777778, \"#fb9f3a\"], [0.8888888888888888, \"#fdca26\"], [1.0, \"#f0f921\"]], \"sequentialminus\": [[0.0, \"#0d0887\"], [0.1111111111111111, \"#46039f\"], [0.2222222222222222, \"#7201a8\"], [0.3333333333333333, \"#9c179e\"], [0.4444444444444444, \"#bd3786\"], [0.5555555555555556, \"#d8576b\"], [0.6666666666666666, \"#ed7953\"], [0.7777777777777778, \"#fb9f3a\"], [0.8888888888888888, \"#fdca26\"], [1.0, \"#f0f921\"]]}, \"colorway\": [\"#636efa\", \"#EF553B\", \"#00cc96\", \"#ab63fa\", \"#FFA15A\", \"#19d3f3\", \"#FF6692\", \"#B6E880\", \"#FF97FF\", \"#FECB52\"], \"font\": {\"color\": \"#2a3f5f\"}, \"geo\": {\"bgcolor\": \"white\", \"lakecolor\": \"white\", \"landcolor\": \"#E5ECF6\", \"showlakes\": true, \"showland\": true, \"subunitcolor\": \"white\"}, \"hoverlabel\": {\"align\": \"left\"}, \"hovermode\": \"closest\", \"mapbox\": {\"style\": \"light\"}, \"paper_bgcolor\": \"white\", \"plot_bgcolor\": \"#E5ECF6\", \"polar\": {\"angularaxis\": {\"gridcolor\": \"white\", \"linecolor\": \"white\", \"ticks\": \"\"}, \"bgcolor\": \"#E5ECF6\", \"radialaxis\": {\"gridcolor\": \"white\", \"linecolor\": \"white\", \"ticks\": \"\"}}, \"scene\": {\"xaxis\": {\"backgroundcolor\": \"#E5ECF6\", \"gridcolor\": \"white\", \"gridwidth\": 2, \"linecolor\": \"white\", \"showbackground\": true, \"ticks\": \"\", \"zerolinecolor\": \"white\"}, \"yaxis\": {\"backgroundcolor\": \"#E5ECF6\", \"gridcolor\": \"white\", \"gridwidth\": 2, \"linecolor\": \"white\", \"showbackground\": true, \"ticks\": \"\", \"zerolinecolor\": \"white\"}, \"zaxis\": {\"backgroundcolor\": \"#E5ECF6\", \"gridcolor\": \"white\", \"gridwidth\": 2, \"linecolor\": \"white\", \"showbackground\": true, \"ticks\": \"\", \"zerolinecolor\": \"white\"}}, \"shapedefaults\": {\"line\": {\"color\": \"#2a3f5f\"}}, \"ternary\": {\"aaxis\": {\"gridcolor\": \"white\", \"linecolor\": \"white\", \"ticks\": \"\"}, \"baxis\": {\"gridcolor\": \"white\", \"linecolor\": \"white\", \"ticks\": \"\"}, \"bgcolor\": \"#E5ECF6\", \"caxis\": {\"gridcolor\": \"white\", \"linecolor\": \"white\", \"ticks\": \"\"}}, \"title\": {\"x\": 0.05}, \"xaxis\": {\"automargin\": true, \"gridcolor\": \"white\", \"linecolor\": \"white\", \"ticks\": \"\", \"title\": {\"standoff\": 15}, \"zerolinecolor\": \"white\", \"zerolinewidth\": 2}, \"yaxis\": {\"automargin\": true, \"gridcolor\": \"white\", \"linecolor\": \"white\", \"ticks\": \"\", \"title\": {\"standoff\": 15}, \"zerolinecolor\": \"white\", \"zerolinewidth\": 2}}}},                        {\"responsive\": true}                    ).then(function(){\n",
       "                            \n",
       "var gd = document.getElementById('929bc58f-5c77-4b82-b3f1-572df8305eec');\n",
       "var x = new MutationObserver(function (mutations, observer) {{\n",
       "        var display = window.getComputedStyle(gd).display;\n",
       "        if (!display || display === 'none') {{\n",
       "            console.log([gd, 'removed!']);\n",
       "            Plotly.purge(gd);\n",
       "            observer.disconnect();\n",
       "        }}\n",
       "}});\n",
       "\n",
       "// Listen for the removal of the full notebook cells\n",
       "var notebookContainer = gd.closest('#notebook-container');\n",
       "if (notebookContainer) {{\n",
       "    x.observe(notebookContainer, {childList: true});\n",
       "}}\n",
       "\n",
       "// Listen for the clearing of the current output cell\n",
       "var outputEl = gd.closest('.output');\n",
       "if (outputEl) {{\n",
       "    x.observe(outputEl, {childList: true});\n",
       "}}\n",
       "\n",
       "                        })                };                });            </script>        </div>"
      ]
     },
     "metadata": {},
     "output_type": "display_data"
    }
   ],
   "source": [
    "import plotly.graph_objects as go\n",
    "fig = go.Figure(data=go.Bar(y=[2, 3, 1]))\n",
    "fig.show()"
   ]
  },
  {
   "cell_type": "code",
   "execution_count": 343,
   "id": "f7fa713b-0302-4828-9f34-0c28b86c5a54",
   "metadata": {},
   "outputs": [
    {
     "name": "stdout",
     "output_type": "stream",
     "text": [
      "[*********************100%***********************]  2 of 2 completed\n"
     ]
    },
    {
     "name": "stderr",
     "output_type": "stream",
     "text": [
      "/Users/calvindelima/projects/investing/.venv/lib/python3.8/site-packages/pandas/core/generic.py:4153: PerformanceWarning:\n",
      "\n",
      "dropping on a non-lexsorted multi-index without a level parameter may impact performance.\n",
      "\n"
     ]
    }
   ],
   "source": [
    "market_data_df = (\n",
    "  data.get_market_data(['POW.TO', 'COUR'], interval = '1d')\n",
    ")\n",
    "\n",
    "prices_df = (\n",
    "  ((market_data_df['adjusted_close'] + market_data_df['open']) / 2)\n",
    "    # Move date to columns\n",
    "    .reset_index()\n",
    "    .melt(\n",
    "      id_vars = ['date'],\n",
    "      value_name = 'unit_price_usd',\n",
    "      var_name = 'asset'\n",
    "    )\n",
    "    .rename(columns = {'date': 'price_date'})\n",
    ")"
   ]
  },
  {
   "cell_type": "code",
   "execution_count": 344,
   "id": "0a0040f1-ff0d-4c04-b823-be302c7a511b",
   "metadata": {},
   "outputs": [
    {
     "data": {
      "text/html": [
       "<div>\n",
       "<style scoped>\n",
       "    .dataframe tbody tr th:only-of-type {\n",
       "        vertical-align: middle;\n",
       "    }\n",
       "\n",
       "    .dataframe tbody tr th {\n",
       "        vertical-align: top;\n",
       "    }\n",
       "\n",
       "    .dataframe thead th {\n",
       "        text-align: right;\n",
       "    }\n",
       "</style>\n",
       "<table border=\"1\" class=\"dataframe\">\n",
       "  <thead>\n",
       "    <tr style=\"text-align: right;\">\n",
       "      <th></th>\n",
       "      <th>price_date</th>\n",
       "      <th>asset</th>\n",
       "      <th>unit_price_usd</th>\n",
       "    </tr>\n",
       "  </thead>\n",
       "  <tbody>\n",
       "    <tr>\n",
       "      <th>13335</th>\n",
       "      <td>2021-07-16</td>\n",
       "      <td>POW.TO</td>\n",
       "      <td>38.984999</td>\n",
       "    </tr>\n",
       "    <tr>\n",
       "      <th>13336</th>\n",
       "      <td>2021-07-19</td>\n",
       "      <td>POW.TO</td>\n",
       "      <td>38.475000</td>\n",
       "    </tr>\n",
       "    <tr>\n",
       "      <th>13337</th>\n",
       "      <td>2021-07-20</td>\n",
       "      <td>POW.TO</td>\n",
       "      <td>38.570002</td>\n",
       "    </tr>\n",
       "    <tr>\n",
       "      <th>13338</th>\n",
       "      <td>2021-07-21</td>\n",
       "      <td>POW.TO</td>\n",
       "      <td>39.120001</td>\n",
       "    </tr>\n",
       "    <tr>\n",
       "      <th>13339</th>\n",
       "      <td>2021-07-22</td>\n",
       "      <td>POW.TO</td>\n",
       "      <td>39.165001</td>\n",
       "    </tr>\n",
       "  </tbody>\n",
       "</table>\n",
       "</div>"
      ],
      "text/plain": [
       "      price_date   asset  unit_price_usd\n",
       "13335 2021-07-16  POW.TO       38.984999\n",
       "13336 2021-07-19  POW.TO       38.475000\n",
       "13337 2021-07-20  POW.TO       38.570002\n",
       "13338 2021-07-21  POW.TO       39.120001\n",
       "13339 2021-07-22  POW.TO       39.165001"
      ]
     },
     "execution_count": 344,
     "metadata": {},
     "output_type": "execute_result"
    }
   ],
   "source": [
    "prices_df.tail()"
   ]
  },
  {
   "cell_type": "code",
   "execution_count": 152,
   "id": "fba731ec-2abc-453f-bc57-79b689096f0f",
   "metadata": {},
   "outputs": [],
   "source": [
    "import pandas as pd"
   ]
  },
  {
   "cell_type": "code",
   "execution_count": 176,
   "id": "7b9326dd-2ad3-46c9-b676-d7f9e42197ab",
   "metadata": {},
   "outputs": [
    {
     "data": {
      "text/html": [
       "<div>\n",
       "<style scoped>\n",
       "    .dataframe tbody tr th:only-of-type {\n",
       "        vertical-align: middle;\n",
       "    }\n",
       "\n",
       "    .dataframe tbody tr th {\n",
       "        vertical-align: top;\n",
       "    }\n",
       "\n",
       "    .dataframe thead th {\n",
       "        text-align: right;\n",
       "    }\n",
       "</style>\n",
       "<table border=\"1\" class=\"dataframe\">\n",
       "  <thead>\n",
       "    <tr style=\"text-align: right;\">\n",
       "      <th></th>\n",
       "      <th>price_date</th>\n",
       "      <th>asset</th>\n",
       "      <th>unit_price_usd</th>\n",
       "    </tr>\n",
       "  </thead>\n",
       "  <tbody>\n",
       "    <tr>\n",
       "      <th>6632</th>\n",
       "      <td>2021-05-31</td>\n",
       "      <td>COUR</td>\n",
       "      <td>37.895000</td>\n",
       "    </tr>\n",
       "    <tr>\n",
       "      <th>13269</th>\n",
       "      <td>2021-05-31</td>\n",
       "      <td>POW.TO</td>\n",
       "      <td>39.429998</td>\n",
       "    </tr>\n",
       "  </tbody>\n",
       "</table>\n",
       "</div>"
      ],
      "text/plain": [
       "      price_date   asset  unit_price_usd\n",
       "6632  2021-05-31    COUR       37.895000\n",
       "13269 2021-05-31  POW.TO       39.429998"
      ]
     },
     "execution_count": 176,
     "metadata": {},
     "output_type": "execute_result"
    }
   ],
   "source": [
    "new_prices_df = (\n",
    "  prices_df\n",
    "    .assign(unit_price_usd = lambda df: \n",
    "      df.groupby('asset')['unit_price_usd'].transform(lambda grp: grp.ffill())\n",
    "    )    \n",
    ")\n",
    "new_prices_df.query('price_date == \"2021-05-31\"')"
   ]
  },
  {
   "cell_type": "code",
   "execution_count": 177,
   "id": "fe29c26b-55d8-41df-bb4c-ec17f8a5e09b",
   "metadata": {},
   "outputs": [
    {
     "data": {
      "text/html": [
       "<div>\n",
       "<style scoped>\n",
       "    .dataframe tbody tr th:only-of-type {\n",
       "        vertical-align: middle;\n",
       "    }\n",
       "\n",
       "    .dataframe tbody tr th {\n",
       "        vertical-align: top;\n",
       "    }\n",
       "\n",
       "    .dataframe thead th {\n",
       "        text-align: right;\n",
       "    }\n",
       "</style>\n",
       "<table border=\"1\" class=\"dataframe\">\n",
       "  <thead>\n",
       "    <tr style=\"text-align: right;\">\n",
       "      <th></th>\n",
       "      <th>price_date</th>\n",
       "      <th>asset</th>\n",
       "      <th>unit_price_usd</th>\n",
       "    </tr>\n",
       "  </thead>\n",
       "  <tbody>\n",
       "    <tr>\n",
       "      <th>6627</th>\n",
       "      <td>2021-05-24</td>\n",
       "      <td>COUR</td>\n",
       "      <td>37.510000</td>\n",
       "    </tr>\n",
       "    <tr>\n",
       "      <th>6628</th>\n",
       "      <td>2021-05-25</td>\n",
       "      <td>COUR</td>\n",
       "      <td>37.280001</td>\n",
       "    </tr>\n",
       "    <tr>\n",
       "      <th>6629</th>\n",
       "      <td>2021-05-26</td>\n",
       "      <td>COUR</td>\n",
       "      <td>37.670000</td>\n",
       "    </tr>\n",
       "    <tr>\n",
       "      <th>6630</th>\n",
       "      <td>2021-05-27</td>\n",
       "      <td>COUR</td>\n",
       "      <td>37.885000</td>\n",
       "    </tr>\n",
       "    <tr>\n",
       "      <th>6631</th>\n",
       "      <td>2021-05-28</td>\n",
       "      <td>COUR</td>\n",
       "      <td>37.895000</td>\n",
       "    </tr>\n",
       "  </tbody>\n",
       "</table>\n",
       "</div>"
      ],
      "text/plain": [
       "     price_date asset  unit_price_usd\n",
       "6627 2021-05-24  COUR       37.510000\n",
       "6628 2021-05-25  COUR       37.280001\n",
       "6629 2021-05-26  COUR       37.670000\n",
       "6630 2021-05-27  COUR       37.885000\n",
       "6631 2021-05-28  COUR       37.895000"
      ]
     },
     "execution_count": 177,
     "metadata": {},
     "output_type": "execute_result"
    }
   ],
   "source": [
    "prices_df.query('asset == \"COUR\" & price_date < \"2021-05-31\"').tail()"
   ]
  },
  {
   "cell_type": "code",
   "execution_count": 181,
   "id": "bc8ce66a-375c-4527-9332-226da54b321a",
   "metadata": {},
   "outputs": [
    {
     "data": {
      "text/html": [
       "<div>\n",
       "<style scoped>\n",
       "    .dataframe tbody tr th:only-of-type {\n",
       "        vertical-align: middle;\n",
       "    }\n",
       "\n",
       "    .dataframe tbody tr th {\n",
       "        vertical-align: top;\n",
       "    }\n",
       "\n",
       "    .dataframe thead th {\n",
       "        text-align: right;\n",
       "    }\n",
       "</style>\n",
       "<table border=\"1\" class=\"dataframe\">\n",
       "  <thead>\n",
       "    <tr style=\"text-align: right;\">\n",
       "      <th></th>\n",
       "      <th>portfolio_cost_usd</th>\n",
       "      <th>portfolio_value_usd</th>\n",
       "    </tr>\n",
       "    <tr>\n",
       "      <th>snapshot_date</th>\n",
       "      <th></th>\n",
       "      <th></th>\n",
       "    </tr>\n",
       "  </thead>\n",
       "  <tbody>\n",
       "    <tr>\n",
       "      <th>2021-05-18</th>\n",
       "      <td>7015.42</td>\n",
       "      <td>7070.164970</td>\n",
       "    </tr>\n",
       "    <tr>\n",
       "      <th>2021-05-19</th>\n",
       "      <td>7015.42</td>\n",
       "      <td>6994.375053</td>\n",
       "    </tr>\n",
       "    <tr>\n",
       "      <th>2021-05-20</th>\n",
       "      <td>7015.42</td>\n",
       "      <td>7129.479942</td>\n",
       "    </tr>\n",
       "    <tr>\n",
       "      <th>2021-05-21</th>\n",
       "      <td>7015.42</td>\n",
       "      <td>7175.214989</td>\n",
       "    </tr>\n",
       "    <tr>\n",
       "      <th>2021-05-24</th>\n",
       "      <td>7015.42</td>\n",
       "      <td>7205.032211</td>\n",
       "    </tr>\n",
       "  </tbody>\n",
       "</table>\n",
       "</div>"
      ],
      "text/plain": [
       "               portfolio_cost_usd  portfolio_value_usd\n",
       "snapshot_date                                         \n",
       "2021-05-18                7015.42          7070.164970\n",
       "2021-05-19                7015.42          6994.375053\n",
       "2021-05-20                7015.42          7129.479942\n",
       "2021-05-21                7015.42          7175.214989\n",
       "2021-05-24                7015.42          7205.032211"
      ]
     },
     "execution_count": 181,
     "metadata": {},
     "output_type": "execute_result"
    }
   ],
   "source": [
    "portfolio_data.portfolio_snapshot.tail()"
   ]
  },
  {
   "cell_type": "code",
   "execution_count": 185,
   "id": "c7977305-3c94-4642-b79a-f25539ffd9a7",
   "metadata": {},
   "outputs": [
    {
     "data": {
      "text/html": [
       "<div>\n",
       "<style scoped>\n",
       "    .dataframe tbody tr th:only-of-type {\n",
       "        vertical-align: middle;\n",
       "    }\n",
       "\n",
       "    .dataframe tbody tr th {\n",
       "        vertical-align: top;\n",
       "    }\n",
       "\n",
       "    .dataframe thead th {\n",
       "        text-align: right;\n",
       "    }\n",
       "</style>\n",
       "<table border=\"1\" class=\"dataframe\">\n",
       "  <thead>\n",
       "    <tr style=\"text-align: right;\">\n",
       "      <th></th>\n",
       "      <th>asset</th>\n",
       "      <th>price_date</th>\n",
       "      <th>order_id</th>\n",
       "      <th>order_units</th>\n",
       "      <th>unit_price_usd</th>\n",
       "      <th>order_cost_usd</th>\n",
       "      <th>order_value_usd</th>\n",
       "    </tr>\n",
       "    <tr>\n",
       "      <th>order_date</th>\n",
       "      <th></th>\n",
       "      <th></th>\n",
       "      <th></th>\n",
       "      <th></th>\n",
       "      <th></th>\n",
       "      <th></th>\n",
       "      <th></th>\n",
       "    </tr>\n",
       "  </thead>\n",
       "  <tbody>\n",
       "    <tr>\n",
       "      <th>2021-04-13</th>\n",
       "      <td>DHR</td>\n",
       "      <td>2021-04-15</td>\n",
       "      <td>6</td>\n",
       "      <td>6</td>\n",
       "      <td>240.354996</td>\n",
       "      <td>1457.04</td>\n",
       "      <td>1442.129974</td>\n",
       "    </tr>\n",
       "    <tr>\n",
       "      <th>2021-04-13</th>\n",
       "      <td>DHR</td>\n",
       "      <td>2021-04-14</td>\n",
       "      <td>6</td>\n",
       "      <td>6</td>\n",
       "      <td>239.485001</td>\n",
       "      <td>1457.04</td>\n",
       "      <td>1436.910004</td>\n",
       "    </tr>\n",
       "    <tr>\n",
       "      <th>2021-04-13</th>\n",
       "      <td>DHR</td>\n",
       "      <td>2021-04-13</td>\n",
       "      <td>6</td>\n",
       "      <td>6</td>\n",
       "      <td>240.629997</td>\n",
       "      <td>1457.04</td>\n",
       "      <td>1443.779984</td>\n",
       "    </tr>\n",
       "    <tr>\n",
       "      <th>2021-04-13</th>\n",
       "      <td>DHR</td>\n",
       "      <td>2021-05-24</td>\n",
       "      <td>6</td>\n",
       "      <td>6</td>\n",
       "      <td>254.044998</td>\n",
       "      <td>1457.04</td>\n",
       "      <td>1524.269989</td>\n",
       "    </tr>\n",
       "    <tr>\n",
       "      <th>2021-04-13</th>\n",
       "      <td>SOXX</td>\n",
       "      <td>2021-05-24</td>\n",
       "      <td>8</td>\n",
       "      <td>3</td>\n",
       "      <td>421.434998</td>\n",
       "      <td>1323.90</td>\n",
       "      <td>1264.304993</td>\n",
       "    </tr>\n",
       "  </tbody>\n",
       "</table>\n",
       "</div>"
      ],
      "text/plain": [
       "           asset price_date  order_id  order_units  unit_price_usd  \\\n",
       "order_date                                                           \n",
       "2021-04-13   DHR 2021-04-15         6            6      240.354996   \n",
       "2021-04-13   DHR 2021-04-14         6            6      239.485001   \n",
       "2021-04-13   DHR 2021-04-13         6            6      240.629997   \n",
       "2021-04-13   DHR 2021-05-24         6            6      254.044998   \n",
       "2021-04-13  SOXX 2021-05-24         8            3      421.434998   \n",
       "\n",
       "            order_cost_usd  order_value_usd  \n",
       "order_date                                   \n",
       "2021-04-13         1457.04      1442.129974  \n",
       "2021-04-13         1457.04      1436.910004  \n",
       "2021-04-13         1457.04      1443.779984  \n",
       "2021-04-13         1457.04      1524.269989  \n",
       "2021-04-13         1323.90      1264.304993  "
      ]
     },
     "execution_count": 185,
     "metadata": {},
     "output_type": "execute_result"
    }
   ],
   "source": [
    "portfolio_data.order_snapshot.tail()"
   ]
  },
  {
   "cell_type": "code",
   "execution_count": 199,
   "id": "75561fe9-2c83-43a5-aa20-2524acb861eb",
   "metadata": {},
   "outputs": [
    {
     "data": {
      "image/png": "[encoded data removed]",
      "text/plain": [
       "<Figure size 432x288 with 1 Axes>"
      ]
     },
     "metadata": {
      "needs_background": "light"
     },
     "output_type": "display_data"
    }
   ],
   "source": [
    "wide_asset_snapshot = (\n",
    "  portfolio_data.order_snapshot\n",
    "    .pivot_table(columns = 'asset', values = 'order_units', index = 'price_date', aggfunc = 'sum')\n",
    "#     .divide(\n",
    "#       portfolio_data.order_snapshot\n",
    "#       .resample('1D')\n",
    "#       ['order_units'] \n",
    "#       .sum()\n",
    "#       , axis = 0\n",
    "#     )\n",
    ")\n",
    "# wide_asset_snapshot\n",
    "\n",
    "wide_asset_snapshot.plot();"
   ]
  },
  {
   "cell_type": "code",
   "execution_count": 197,
   "id": "402442bd-b626-4d2f-b1fd-cf667a40ef7a",
   "metadata": {},
   "outputs": [
    {
     "data": {
      "text/plain": [
       "order_date\n",
       "2021-04-06     70\n",
       "2021-04-07      0\n",
       "2021-04-08      0\n",
       "2021-04-09    256\n",
       "2021-04-10      0\n",
       "2021-04-11      0\n",
       "2021-04-12      0\n",
       "2021-04-13    360\n",
       "Freq: D, Name: order_units, dtype: int64"
      ]
     },
     "execution_count": 197,
     "metadata": {},
     "output_type": "execute_result"
    }
   ],
   "source": [
    "(\n",
    "      portfolio_data.order_snapshot\n",
    "      .resample('1D')\n",
    "      ['order_units'] \n",
    "      .sum()\n",
    "\n",
    "    )"
   ]
  },
  {
   "cell_type": "markdown",
   "id": "803d207e-ed35-4fa6-8f17-1bee263baf2f",
   "metadata": {},
   "source": [
    "# Annualized Returns"
   ]
  },
  {
   "cell_type": "markdown",
   "id": "178f32a4-104f-4668-b75a-2d25196b6ea4",
   "metadata": {},
   "source": [
    "## Daily"
   ]
  },
  {
   "cell_type": "code",
   "execution_count": 56,
   "id": "9280a87c-a8ee-4b70-9c63-c42752ee6fdb",
   "metadata": {},
   "outputs": [
    {
     "data": {
      "text/plain": [
       "11.298528717540075"
      ]
     },
     "execution_count": 56,
     "metadata": {},
     "output_type": "execute_result"
    }
   ],
   "source": [
    "n_days = portfolio_data.returns_snapshot['return_period_days'].max()\n",
    "p = (1 + portfolio_data.returns_snapshot['return']).product()\n",
    "p"
   ]
  },
  {
   "cell_type": "code",
   "execution_count": 77,
   "id": "5ae37186-6696-4e8a-a091-bbeea4039e15",
   "metadata": {},
   "outputs": [
    {
     "data": {
      "text/plain": [
       "11.298528717540075"
      ]
     },
     "execution_count": 77,
     "metadata": {},
     "output_type": "execute_result"
    }
   ],
   "source": [
    "(portfolio_data.returns_snapshot['return'] + 1).prod()"
   ]
  },
  {
   "cell_type": "code",
   "execution_count": 61,
   "id": "e29ebc4b-4140-46c5-83e1-85c519fa55f4",
   "metadata": {},
   "outputs": [
    {
     "data": {
      "text/plain": [
       "3.613861386138614"
      ]
     },
     "execution_count": 61,
     "metadata": {},
     "output_type": "execute_result"
    }
   ],
   "source": [
    "365 / n_days"
   ]
  },
  {
   "cell_type": "code",
   "execution_count": 62,
   "id": "1cc46d99-8cca-4230-b9b6-33eec7cd2020",
   "metadata": {},
   "outputs": [
    {
     "data": {
      "text/plain": [
       "6388.621911916307"
      ]
     },
     "execution_count": 62,
     "metadata": {},
     "output_type": "execute_result"
    }
   ],
   "source": [
    "(1 + portfolio_data.returns_snapshot['return']).product() ** (365 / n_days) - 1"
   ]
  },
  {
   "cell_type": "code",
   "execution_count": 55,
   "id": "ecac39f5-f729-450a-8690-06f551c7994d",
   "metadata": {},
   "outputs": [
    {
     "data": {
      "image/png": "[encoded data removed]",
      "text/plain": [
       "<Figure size 432x288 with 2 Axes>"
      ]
     },
     "metadata": {
      "needs_background": "light"
     },
     "output_type": "display_data"
    }
   ],
   "source": [
    "portfolio_data.returns_snapshot.hist();"
   ]
  },
  {
   "cell_type": "code",
   "execution_count": null,
   "id": "276f6e2a-74e6-43e4-8693-b4e27126fbf6",
   "metadata": {},
   "outputs": [],
   "source": [
    "por"
   ]
  },
  {
   "cell_type": "code",
   "execution_count": 109,
   "id": "506f7cd6-78dc-4232-8be3-58c6f210bf93",
   "metadata": {},
   "outputs": [
    {
     "data": {
      "text/plain": [
       "price_date\n",
       "1978-12-29    0.281245\n",
       "1978-12-29    0.338003\n",
       "1978-12-29    0.286204\n",
       "1979-01-02    0.281245\n",
       "1979-01-02    0.338003\n",
       "                ...   \n",
       "2021-07-15    0.281245\n",
       "2021-07-15    0.338003\n",
       "2021-07-16    0.338003\n",
       "2021-07-16    0.281245\n",
       "2021-07-16    0.286204\n",
       "Name: asset, Length: 31995, dtype: float64"
      ]
     },
     "execution_count": 109,
     "metadata": {},
     "output_type": "execute_result"
    }
   ],
   "source": [
    "\n",
    "\n"
   ]
  },
  {
   "cell_type": "code",
   "execution_count": 114,
   "id": "20d975e1-cc68-4066-82f5-26de30413e8a",
   "metadata": {},
   "outputs": [],
   "source": [
    "import pandas as pd"
   ]
  },
  {
   "cell_type": "code",
   "execution_count": 236,
   "id": "440e7d4f-28f5-487a-bb0b-485f2315729f",
   "metadata": {},
   "outputs": [
    {
     "data": {
      "text/plain": [
       "price_date\n",
       "2016-01-04    0.000000\n",
       "2016-01-05    0.002302\n",
       "2016-01-06   -0.017404\n",
       "2016-01-07   -0.022055\n",
       "2016-01-08   -0.005488\n",
       "                ...   \n",
       "2021-07-12    0.005844\n",
       "2021-07-13   -0.004069\n",
       "2021-07-14    0.001785\n",
       "2021-07-15   -0.003773\n",
       "2021-07-16    0.000462\n",
       "Length: 1394, dtype: float64"
      ]
     },
     "execution_count": 236,
     "metadata": {},
     "output_type": "execute_result"
    }
   ],
   "source": []
  },
  {
   "cell_type": "code",
   "execution_count": 242,
   "id": "43014f14-c536-4e37-ab45-e8d2056f7e4c",
   "metadata": {},
   "outputs": [
    {
     "data": {
      "text/plain": [
       "0"
      ]
     },
     "execution_count": 242,
     "metadata": {},
     "output_type": "execute_result"
    }
   ],
   "source": [
    "x = (\n",
    "  current_alloc_returns_df\n",
    "    .unstack(level = 1)\n",
    "    ['weighted_return']\n",
    "    .sum(axis = 1)\n",
    ")\n",
    "\n",
    "np.isinf(x).sum()\n"
   ]
  },
  {
   "cell_type": "code",
   "execution_count": 367,
   "id": "b8b4c7d2-4004-426a-8301-8f5ad857a468",
   "metadata": {},
   "outputs": [
    {
     "name": "stdout",
     "output_type": "stream",
     "text": [
      "[*********************100%***********************]  3 of 3 completed\n"
     ]
    },
    {
     "name": "stderr",
     "output_type": "stream",
     "text": [
      "/Users/calvindelima/projects/investing/.venv/lib/python3.8/site-packages/pandas/core/generic.py:4153: PerformanceWarning:\n",
      "\n",
      "dropping on a non-lexsorted multi-index without a level parameter may impact performance.\n",
      "\n"
     ]
    }
   ],
   "source": [
    "start = '1990-01-01'\n",
    "\n",
    "current_alloc_returns_df = (\n",
    "  PortfolioData(orders_df, assets = ['SOXX', 'DHR', 'COST'])\n",
    "    .prices_snapshot\n",
    "    .loc[start:]\n",
    "    .sort_index()\n",
    "    .assign(\n",
    "      weight = lambda df: df['asset'].map(portfolio_data.current_allocation),\n",
    "      \n",
    "      asset_1d_return = lambda df: df.groupby('asset')['unit_price_usd'].apply(returns.compute_period_returns, periods = 1),\n",
    "      asset_30d_return = lambda df: df.groupby('asset')['unit_price_usd'].apply(returns.compute_period_returns, periods = 30),\n",
    "      asset_365d_return = lambda df: df.groupby('asset')['unit_price_usd'].apply(returns.compute_period_returns, periods = 365),\n",
    "      asset_730d_return = lambda df: df.groupby('asset')['unit_price_usd'].apply(returns.compute_period_returns, periods = 730),\n",
    "      asset_3650d_return = lambda df: df.groupby('asset')['unit_price_usd'].apply(returns.compute_period_returns, periods = 3650),\n",
    "      \n",
    "      weighted_1d_return = lambda df: df['asset_1d_return'] * df['weight'],\n",
    "      weighted_30d_return = lambda df: df['asset_30d_return'] * df['weight'],\n",
    "      weighted_365d_return = lambda df: df['asset_365d_return'] * df['weight'],\n",
    "      weighted_730d_return = lambda df: df['asset_730d_return'] * df['weight'],\n",
    "      weighted_3650d_return = lambda df: df['asset_3650d_return'] * df['weight'],\n",
    "    )\n",
    "    .reset_index()\n",
    "    .set_index(['price_date', 'asset'])\n",
    ")\n",
    "\n",
    "# current_alloc_365_returns = (\n",
    "#   current_alloc_returns_df\n",
    "#     .unstack(level = 1)\n",
    "#     ['weighted_365d_return']\n",
    "#     .sum(axis = 1)\n",
    "#     .replace(0, np.nan)\n",
    "#     .dropna()\n",
    "# )\n",
    "\n",
    "current_alloc_730d_returns = (\n",
    "  current_alloc_returns_df\n",
    "    .unstack(level = 1)\n",
    "    ['weighted_730d_return']\n",
    "    .sum(axis = 1)\n",
    "    .replace(0, np.nan)\n",
    "    .dropna()\n",
    ")\n",
    "\n",
    "current_alloc_365d_returns = (\n",
    "  current_alloc_returns_df\n",
    "    .unstack(level = 1)\n",
    "    ['weighted_365d_return']\n",
    "    .sum(axis = 1)\n",
    "    .replace(0, np.nan)\n",
    "    .dropna()\n",
    ")\n",
    "\n",
    "current_alloc_3650d_returns = (\n",
    "  current_alloc_returns_df\n",
    "    .unstack(level = 1)\n",
    "    ['weighted_3650d_return']\n",
    "    .sum(axis = 1)\n",
    "    .replace(0, np.nan)\n",
    "    .dropna()\n",
    ")\n",
    "\n",
    "assert (np.isinf(current_alloc_365_returns).sum()) == 0\n",
    "\n",
    "# returns_365d[(returns_365d < 150) & (returns_365d > -600)].plot();\n",
    "\n",
    "# current_alloc_returns"
   ]
  },
  {
   "cell_type": "markdown",
   "id": "8c200957-ca04-44ca-aaba-039e9cb560cf",
   "metadata": {},
   "source": [
    "# Backtesting Experiments - August 2"
   ]
  },
  {
   "cell_type": "code",
   "execution_count": 383,
   "id": "d954453e-04e9-4bf7-b6aa-a133ec771ca4",
   "metadata": {},
   "outputs": [],
   "source": [
    "import matplotlib.ticker as mtick"
   ]
  },
  {
   "cell_type": "code",
   "execution_count": 391,
   "id": "71e98868-32fe-4f3a-81b8-eb8b95dc76fd",
   "metadata": {
    "tags": []
   },
   "outputs": [
    {
     "data": {
      "image/png": "[encoded data removed]",
      "text/plain": [
       "<Figure size 1080x288 with 2 Axes>"
      ]
     },
     "metadata": {
      "needs_background": "light"
     },
     "output_type": "display_data"
    }
   ],
   "source": [
    "fig = plt.figure(figsize = (15, 4))\n",
    "plt.subplot(121)\n",
    "ax = current_alloc_730d_returns.plot();\n",
    "ax.set_title('2 Year (730 day) Returns')\n",
    "ax.set_xlabel('Return Date')\n",
    "ax.axhline(0.45, color = 'darkred', ls = '--');\n",
    "ax.yaxis.set_major_formatter(mtick.PercentFormatter(xmax = 1))\n",
    "plt.subplot(122)\n",
    "ax = sns.histplot(current_alloc_730d_returns);\n",
    "ax.set_title('2 Year (730 day) Return Distribution');\n",
    "ax.xaxis.set_major_formatter(mtick.PercentFormatter(xmax = 1))\n",
    "ax.axvline(0.45, color = 'darkred', ls = '--');"
   ]
  },
  {
   "cell_type": "markdown",
   "id": "64dc0f52-41cd-4262-b052-b7ba89ba9f3e",
   "metadata": {},
   "source": [
    "We can see how are current allocation has performed for a target of two years (730 days) for the snapshot as of ____ as:\n",
    "\n",
    "* Series of period-on-period (YoY) returns\n",
    "* Distribution of period-on-period (YoY) returns\n",
    "\n",
    "In the distribution, we see three clear regimes which can probably be approximated by a gaussian mixture model. The most likely value at ~40% was our target so this is nice to see, unless we actually chose the target after we chose the portfolio (i.e. we peaked). Luckily, it aligns with what we actually need at the end of the holding period."
   ]
  },
  {
   "cell_type": "code",
   "execution_count": 404,
   "id": "cd60b259-1adf-4e33-bc8c-560559471818",
   "metadata": {},
   "outputs": [
    {
     "name": "stdout",
     "output_type": "stream",
     "text": [
      "3694 3529\n",
      "0.4885781531219715\n"
     ]
    }
   ],
   "source": [
    "print((current_alloc_730d_returns < 0.45).sum(), (current_alloc_730d_returns >= 0.45).sum())\n",
    "print((current_alloc_730d_returns >= 0.45).sum() / len(current_alloc_730d_returns))"
   ]
  },
  {
   "cell_type": "code",
   "execution_count": 402,
   "id": "e2ad5012-782d-4f41-a349-92586d69ddb2",
   "metadata": {},
   "outputs": [
    {
     "name": "stdout",
     "output_type": "stream",
     "text": [
      "2752 4471\n",
      "0.6189948774747335\n"
     ]
    }
   ],
   "source": [
    "print((current_alloc_730d_returns < 0.35).sum(), (current_alloc_730d_returns >= 0.35).sum())\n",
    "print((current_alloc_730d_returns >= 0.35).sum() / len(current_alloc_730d_returns))"
   ]
  },
  {
   "cell_type": "code",
   "execution_count": 371,
   "id": "ce7e17f9-63b2-4c03-916f-98e20694be4d",
   "metadata": {},
   "outputs": [
    {
     "data": {
      "image/png": "[encoded data removed]",
      "text/plain": [
       "<Figure size 432x288 with 1 Axes>"
      ]
     },
     "metadata": {
      "needs_background": "light"
     },
     "output_type": "display_data"
    }
   ],
   "source": [
    "sns.histplot(current_alloc_3650d_returns);"
   ]
  },
  {
   "cell_type": "code",
   "execution_count": 366,
   "id": "dc41b287-ceb5-423b-b19e-12e8f6fb9df6",
   "metadata": {},
   "outputs": [
    {
     "data": {
      "image/png": "[encoded data removed]",
      "text/plain": [
       "<Figure size 432x288 with 1 Axes>"
      ]
     },
     "metadata": {
      "needs_background": "light"
     },
     "output_type": "display_data"
    }
   ],
   "source": [
    "current_alloc_365d_returns.plot();"
   ]
  },
  {
   "cell_type": "code",
   "execution_count": 368,
   "id": "93313c9d-ddef-41ba-a67c-6e03e4538abe",
   "metadata": {},
   "outputs": [
    {
     "data": {
      "image/png": "[encoded data removed]",
      "text/plain": [
       "<Figure size 432x288 with 1 Axes>"
      ]
     },
     "metadata": {
      "needs_background": "light"
     },
     "output_type": "display_data"
    }
   ],
   "source": [
    "current_alloc_365d_returns.plot();"
   ]
  },
  {
   "cell_type": "code",
   "execution_count": 364,
   "id": "6a6fb9ba-f3e1-4461-8660-c5dedfe56467",
   "metadata": {},
   "outputs": [
    {
     "data": {
      "image/png": "[encoded data removed]",
      "text/plain": [
       "<Figure size 432x288 with 1 Axes>"
      ]
     },
     "metadata": {
      "needs_background": "light"
     },
     "output_type": "display_data"
    }
   ],
   "source": [
    "current_alloc_3650d_returns.resample('12M').mean().plot();"
   ]
  },
  {
   "cell_type": "code",
   "execution_count": 347,
   "id": "8536a197-9283-4df3-9e12-18bd8d3d5db3",
   "metadata": {},
   "outputs": [
    {
     "data": {
      "image/png": "[encoded data removed]",
      "text/plain": [
       "<Figure size 432x288 with 1 Axes>"
      ]
     },
     "metadata": {
      "needs_background": "light"
     },
     "output_type": "display_data"
    }
   ],
   "source": [
    "sns.histplot(current_alloc_730d_returns);"
   ]
  },
  {
   "cell_type": "code",
   "execution_count": 352,
   "id": "ad2f68f4-8133-44eb-b320-a7306da25888",
   "metadata": {},
   "outputs": [
    {
     "data": {
      "image/png": "[encoded data removed]",
      "text/plain": [
       "<Figure size 432x288 with 1 Axes>"
      ]
     },
     "metadata": {
      "needs_background": "light"
     },
     "output_type": "display_data"
    }
   ],
   "source": [
    "sns.histplot(current_alloc_365d_returns);"
   ]
  },
  {
   "cell_type": "code",
   "execution_count": 365,
   "id": "ef3bef6d-196f-48ff-b7a0-b4184864aa09",
   "metadata": {},
   "outputs": [
    {
     "data": {
      "image/png": "[encoded data removed]",
      "text/plain": [
       "<Figure size 432x288 with 1 Axes>"
      ]
     },
     "metadata": {
      "needs_background": "light"
     },
     "output_type": "display_data"
    }
   ],
   "source": [
    "sns.histplot(current_alloc_3650d_returns);"
   ]
  },
  {
   "cell_type": "code",
   "execution_count": 306,
   "id": "14a3ec8e-343b-4888-99ad-ddfdca916283",
   "metadata": {},
   "outputs": [
    {
     "data": {
      "text/plain": [
       "0.11727515157533164"
      ]
     },
     "execution_count": 306,
     "metadata": {},
     "output_type": "execute_result"
    }
   ],
   "source": [
    "returns.annualize_returns(current_alloc_returns_df['weighted_1d_return'], 365)"
   ]
  },
  {
   "cell_type": "code",
   "execution_count": 315,
   "id": "19025391-6e54-4bee-bc58-679c5ec3dc7b",
   "metadata": {},
   "outputs": [
    {
     "data": {
      "text/plain": [
       "0.12843660156901393"
      ]
     },
     "execution_count": 315,
     "metadata": {},
     "output_type": "execute_result"
    }
   ],
   "source": [
    "returns.annualize_returns(current_alloc_returns_df['weighted_730d_return'], 1)"
   ]
  },
  {
   "cell_type": "code",
   "execution_count": 272,
   "id": "b7b442ba-875a-49cc-adb9-ad97007ff234",
   "metadata": {},
   "outputs": [],
   "source": [
    "a = (\n",
    "  current_alloc_returns_df\n",
    "    .unstack(level = 1)\n",
    "    ['weighted_return']\n",
    "    .sum(axis = 1)\n",
    "    .replace(0, np.nan)\n",
    "    .dropna()\n",
    ")"
   ]
  },
  {
   "cell_type": "code",
   "execution_count": 265,
   "id": "663a63e0-4e5a-4431-80c7-1844706eba48",
   "metadata": {},
   "outputs": [
    {
     "data": {
      "text/plain": [
       "-0.00310719476"
      ]
     },
     "execution_count": 265,
     "metadata": {},
     "output_type": "execute_result"
    }
   ],
   "source": [
    "-0.011048*0.281245"
   ]
  },
  {
   "cell_type": "code",
   "execution_count": 257,
   "id": "e5c62850-ed67-491b-85a8-14ece28dba78",
   "metadata": {},
   "outputs": [
    {
     "data": {
      "text/plain": [
       "price_date\n",
       "2016-01-04         NaN\n",
       "2016-01-04         NaN\n",
       "2016-01-04         NaN\n",
       "2016-01-05    0.002343\n",
       "2016-01-05    0.004693\n",
       "2016-01-05    0.000887\n",
       "2016-01-06   -0.010340\n",
       "2016-01-06   -0.011048\n",
       "2016-01-06   -0.033541\n",
       "2016-01-07   -0.022514\n",
       "Name: unit_price_usd, dtype: float64"
      ]
     },
     "execution_count": 257,
     "metadata": {},
     "output_type": "execute_result"
    }
   ],
   "source": [
    "(\n",
    "  portfolio_data\n",
    "    .prices_snapshot\n",
    "    .loc[start:]\n",
    "    .sort_index()\n",
    "    .groupby('asset')['unit_price_usd'].apply(pd.Series.pct_change).head(10)\n",
    ")"
   ]
  },
  {
   "cell_type": "code",
   "execution_count": 248,
   "id": "ca3fdade-ccf5-4e02-b81d-d8f9f5012fc0",
   "metadata": {},
   "outputs": [],
   "source": [
    "ix = pd.IndexSlice"
   ]
  },
  {
   "cell_type": "code",
   "execution_count": 258,
   "id": "3167c60c-7d65-414d-9412-ec4ae25dacd5",
   "metadata": {},
   "outputs": [
    {
     "data": {
      "text/plain": [
       "price_date  asset\n",
       "2016-01-04  COST          NaN\n",
       "2016-01-05  COST     0.002343\n",
       "2016-01-06  COST    -0.010340\n",
       "2016-01-07  COST    -0.022514\n",
       "2016-01-08  COST    -0.006748\n",
       "Name: unit_price_usd, dtype: float64"
      ]
     },
     "execution_count": 258,
     "metadata": {},
     "output_type": "execute_result"
    }
   ],
   "source": [
    "current_alloc_returns_df.loc[ix[:, ['COST']], 'unit_price_usd'].pct_change().head()"
   ]
  },
  {
   "cell_type": "code",
   "execution_count": 228,
   "id": "66a4061d-2b1e-40bf-a3e1-30dd6ad7fb4b",
   "metadata": {},
   "outputs": [
    {
     "data": {
      "text/plain": [
       "0.000658894476765771"
      ]
     },
     "execution_count": 228,
     "metadata": {},
     "output_type": "execute_result"
    }
   ],
   "source": [
    "(150.906914 / 150.554199 - 1) * 0.281245"
   ]
  },
  {
   "cell_type": "code",
   "execution_count": 231,
   "id": "13728b64-efe7-45e8-ab0d-27bf00f87919",
   "metadata": {},
   "outputs": [
    {
     "data": {
      "text/plain": [
       "0.0002539644945312642"
      ]
     },
     "execution_count": 231,
     "metadata": {},
     "output_type": "execute_result"
    }
   ],
   "source": [
    "(85.740734\t / 85.664719\t - 1) * 0.286204"
   ]
  },
  {
   "cell_type": "code",
   "execution_count": 82,
   "id": "9cc81b7d-d9fd-403e-8c84-f911f0df9d85",
   "metadata": {},
   "outputs": [
    {
     "data": {
      "text/plain": [
       "asset\n",
       "COST    0.281245\n",
       "DHR     0.338003\n",
       "SOXX    0.286204\n",
       "Name: 2021-07-16 00:00:00, dtype: float64"
      ]
     },
     "execution_count": 82,
     "metadata": {},
     "output_type": "execute_result"
    }
   ],
   "source": [
    "portfolio_data.current_allocation.map()"
   ]
  },
  {
   "cell_type": "code",
   "execution_count": 52,
   "id": "754ba44d-71ea-4519-a697-0c9cde38fe16",
   "metadata": {},
   "outputs": [
    {
     "data": {
      "text/plain": [
       "3.613861386138614"
      ]
     },
     "execution_count": 52,
     "metadata": {},
     "output_type": "execute_result"
    }
   ],
   "source": [
    "365 / n_days"
   ]
  },
  {
   "cell_type": "code",
   "execution_count": 45,
   "id": "da200faf-4d50-49f8-b1ce-7247e808e7a5",
   "metadata": {},
   "outputs": [
    {
     "data": {
      "text/html": [
       "<div>\n",
       "<style scoped>\n",
       "    .dataframe tbody tr th:only-of-type {\n",
       "        vertical-align: middle;\n",
       "    }\n",
       "\n",
       "    .dataframe tbody tr th {\n",
       "        vertical-align: top;\n",
       "    }\n",
       "\n",
       "    .dataframe thead th {\n",
       "        text-align: right;\n",
       "    }\n",
       "</style>\n",
       "<table border=\"1\" class=\"dataframe\">\n",
       "  <thead>\n",
       "    <tr style=\"text-align: right;\">\n",
       "      <th></th>\n",
       "      <th>return</th>\n",
       "      <th>return_period_days</th>\n",
       "    </tr>\n",
       "    <tr>\n",
       "      <th>snapshot_date</th>\n",
       "      <th></th>\n",
       "      <th></th>\n",
       "    </tr>\n",
       "  </thead>\n",
       "  <tbody>\n",
       "    <tr>\n",
       "      <th>2021-04-06</th>\n",
       "      <td>-0.001513</td>\n",
       "      <td>0</td>\n",
       "    </tr>\n",
       "    <tr>\n",
       "      <th>2021-04-07</th>\n",
       "      <td>-0.001842</td>\n",
       "      <td>1</td>\n",
       "    </tr>\n",
       "    <tr>\n",
       "      <th>2021-04-08</th>\n",
       "      <td>0.004176</td>\n",
       "      <td>2</td>\n",
       "    </tr>\n",
       "    <tr>\n",
       "      <th>2021-04-09</th>\n",
       "      <td>-0.002294</td>\n",
       "      <td>3</td>\n",
       "    </tr>\n",
       "    <tr>\n",
       "      <th>2021-04-12</th>\n",
       "      <td>0.000933</td>\n",
       "      <td>6</td>\n",
       "    </tr>\n",
       "    <tr>\n",
       "      <th>...</th>\n",
       "      <td>...</td>\n",
       "      <td>...</td>\n",
       "    </tr>\n",
       "    <tr>\n",
       "      <th>2021-07-12</th>\n",
       "      <td>0.107244</td>\n",
       "      <td>97</td>\n",
       "    </tr>\n",
       "    <tr>\n",
       "      <th>2021-07-13</th>\n",
       "      <td>0.101970</td>\n",
       "      <td>98</td>\n",
       "    </tr>\n",
       "    <tr>\n",
       "      <th>2021-07-14</th>\n",
       "      <td>0.103780</td>\n",
       "      <td>99</td>\n",
       "    </tr>\n",
       "    <tr>\n",
       "      <th>2021-07-15</th>\n",
       "      <td>0.101402</td>\n",
       "      <td>100</td>\n",
       "    </tr>\n",
       "    <tr>\n",
       "      <th>2021-07-16</th>\n",
       "      <td>0.104421</td>\n",
       "      <td>101</td>\n",
       "    </tr>\n",
       "  </tbody>\n",
       "</table>\n",
       "<p>72 rows × 2 columns</p>\n",
       "</div>"
      ],
      "text/plain": [
       "                 return  return_period_days\n",
       "snapshot_date                              \n",
       "2021-04-06    -0.001513                   0\n",
       "2021-04-07    -0.001842                   1\n",
       "2021-04-08     0.004176                   2\n",
       "2021-04-09    -0.002294                   3\n",
       "2021-04-12     0.000933                   6\n",
       "...                 ...                 ...\n",
       "2021-07-12     0.107244                  97\n",
       "2021-07-13     0.101970                  98\n",
       "2021-07-14     0.103780                  99\n",
       "2021-07-15     0.101402                 100\n",
       "2021-07-16     0.104421                 101\n",
       "\n",
       "[72 rows x 2 columns]"
      ]
     },
     "execution_count": 45,
     "metadata": {},
     "output_type": "execute_result"
    }
   ],
   "source": [
    "portfolio_data.returns_snapshot"
   ]
  },
  {
   "cell_type": "markdown",
   "id": "66971593-075f-4cf7-9c1f-5d207bf39e8b",
   "metadata": {},
   "source": [
    "## Monthly"
   ]
  },
  {
   "cell_type": "code",
   "execution_count": 41,
   "id": "d399d932-3263-4722-97c9-e4acfa64fe03",
   "metadata": {},
   "outputs": [
    {
     "data": {
      "text/plain": [
       "snapshot_date\n",
       "2021-04-06   -0.001513\n",
       "2021-04-07   -0.001842\n",
       "2021-04-08    0.004176\n",
       "2021-04-09   -0.002294\n",
       "2021-04-12    0.000933\n",
       "                ...   \n",
       "2021-07-12    0.107244\n",
       "2021-07-13    0.101970\n",
       "2021-07-14    0.103780\n",
       "2021-07-15    0.101402\n",
       "2021-07-16    0.104421\n",
       "Name: return, Length: 72, dtype: float64"
      ]
     },
     "execution_count": 41,
     "metadata": {},
     "output_type": "execute_result"
    }
   ],
   "source": [
    "portfolio_data.returns_snapshot['return']"
   ]
  },
  {
   "cell_type": "code",
   "execution_count": 40,
   "id": "5d6885e8-ac62-45db-9e58-e37da22a4923",
   "metadata": {},
   "outputs": [
    {
     "data": {
      "text/plain": [
       "217888.34301504534"
      ]
     },
     "execution_count": 40,
     "metadata": {},
     "output_type": "execute_result"
    }
   ],
   "source": [
    "returns.annualize_returns(portfolio_data.returns_snapshot['return'], 365)"
   ]
  },
  {
   "cell_type": "code",
   "execution_count": 38,
   "id": "08c5b4d7-d7b8-4528-96cc-67d994912c5a",
   "metadata": {},
   "outputs": [
    {
     "data": {
      "text/html": [
       "<div>\n",
       "<style scoped>\n",
       "    .dataframe tbody tr th:only-of-type {\n",
       "        vertical-align: middle;\n",
       "    }\n",
       "\n",
       "    .dataframe tbody tr th {\n",
       "        vertical-align: top;\n",
       "    }\n",
       "\n",
       "    .dataframe thead th {\n",
       "        text-align: right;\n",
       "    }\n",
       "</style>\n",
       "<table border=\"1\" class=\"dataframe\">\n",
       "  <thead>\n",
       "    <tr style=\"text-align: right;\">\n",
       "      <th></th>\n",
       "      <th>return</th>\n",
       "      <th>return_period_days</th>\n",
       "    </tr>\n",
       "    <tr>\n",
       "      <th>snapshot_date</th>\n",
       "      <th></th>\n",
       "      <th></th>\n",
       "    </tr>\n",
       "  </thead>\n",
       "  <tbody>\n",
       "    <tr>\n",
       "      <th>2021-04-06</th>\n",
       "      <td>-0.001513</td>\n",
       "      <td>0</td>\n",
       "    </tr>\n",
       "    <tr>\n",
       "      <th>2021-04-07</th>\n",
       "      <td>-0.001842</td>\n",
       "      <td>1</td>\n",
       "    </tr>\n",
       "    <tr>\n",
       "      <th>2021-04-08</th>\n",
       "      <td>0.004176</td>\n",
       "      <td>2</td>\n",
       "    </tr>\n",
       "    <tr>\n",
       "      <th>2021-04-09</th>\n",
       "      <td>-0.002294</td>\n",
       "      <td>3</td>\n",
       "    </tr>\n",
       "    <tr>\n",
       "      <th>2021-04-12</th>\n",
       "      <td>0.000933</td>\n",
       "      <td>6</td>\n",
       "    </tr>\n",
       "    <tr>\n",
       "      <th>...</th>\n",
       "      <td>...</td>\n",
       "      <td>...</td>\n",
       "    </tr>\n",
       "    <tr>\n",
       "      <th>2021-07-12</th>\n",
       "      <td>0.107244</td>\n",
       "      <td>97</td>\n",
       "    </tr>\n",
       "    <tr>\n",
       "      <th>2021-07-13</th>\n",
       "      <td>0.101970</td>\n",
       "      <td>98</td>\n",
       "    </tr>\n",
       "    <tr>\n",
       "      <th>2021-07-14</th>\n",
       "      <td>0.103780</td>\n",
       "      <td>99</td>\n",
       "    </tr>\n",
       "    <tr>\n",
       "      <th>2021-07-15</th>\n",
       "      <td>0.101402</td>\n",
       "      <td>100</td>\n",
       "    </tr>\n",
       "    <tr>\n",
       "      <th>2021-07-16</th>\n",
       "      <td>0.104421</td>\n",
       "      <td>101</td>\n",
       "    </tr>\n",
       "  </tbody>\n",
       "</table>\n",
       "<p>72 rows × 2 columns</p>\n",
       "</div>"
      ],
      "text/plain": [
       "                 return  return_period_days\n",
       "snapshot_date                              \n",
       "2021-04-06    -0.001513                   0\n",
       "2021-04-07    -0.001842                   1\n",
       "2021-04-08     0.004176                   2\n",
       "2021-04-09    -0.002294                   3\n",
       "2021-04-12     0.000933                   6\n",
       "...                 ...                 ...\n",
       "2021-07-12     0.107244                  97\n",
       "2021-07-13     0.101970                  98\n",
       "2021-07-14     0.103780                  99\n",
       "2021-07-15     0.101402                 100\n",
       "2021-07-16     0.104421                 101\n",
       "\n",
       "[72 rows x 2 columns]"
      ]
     },
     "execution_count": 38,
     "metadata": {},
     "output_type": "execute_result"
    }
   ],
   "source": [
    "portfolio_data.returns_snapshot"
   ]
  }
 ],
 "metadata": {
  "kernelspec": {
   "display_name": "Python 3",
   "language": "python",
   "name": "python3"
  },
  "language_info": {
   "codemirror_mode": {
    "name": "ipython",
    "version": 3
   },
   "file_extension": ".py",
   "mimetype": "text/x-python",
   "name": "python",
   "nbconvert_exporter": "python",
   "pygments_lexer": "ipython3",
   "version": "3.8.3"
  }
 },
 "nbformat": 4,
 "nbformat_minor": 5
}
