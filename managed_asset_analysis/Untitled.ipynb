{
 "cells": [
  {
   "cell_type": "code",
   "execution_count": 53,
   "id": "based-newton",
   "metadata": {},
   "outputs": [],
   "source": [
    "import re\n",
    "import pandas as pd\n",
    "from bs4 import BeautifulSoup"
   ]
  },
  {
   "cell_type": "code",
   "execution_count": 6,
   "id": "corporate-tuesday",
   "metadata": {},
   "outputs": [],
   "source": [
    "with open('prices.html', 'r') as f:\n",
    "  contents = f.read()\n",
    "  soup = BeautifulSoup(contents)"
   ]
  },
  {
   "cell_type": "code",
   "execution_count": 66,
   "id": "surprising-advertising",
   "metadata": {},
   "outputs": [
    {
     "data": {
      "text/plain": [
       "3568"
      ]
     },
     "execution_count": 66,
     "metadata": {},
     "output_type": "execute_result"
    }
   ],
   "source": [
    "date_regex = re.compile(r'\\w{3} \\d{2}, \\d{4}')\n",
    "dates = soup.find_all(text = date_regex)\n",
    "len(dates)"
   ]
  },
  {
   "cell_type": "code",
   "execution_count": 67,
   "id": "prime-album",
   "metadata": {},
   "outputs": [],
   "source": [
    "def clean_date(date: str) -> str:\n",
    "  a = re.sub('\\n\\s{10}', '', date)\n",
    "  b = re.sub('\\n\\s{8}', '', a)\n",
    "  return b"
   ]
  },
  {
   "cell_type": "code",
   "execution_count": 68,
   "id": "colored-wages",
   "metadata": {},
   "outputs": [
    {
     "data": {
      "text/plain": [
       "0       Apr 27, 2011\n",
       "1       Apr 27, 2011\n",
       "2       Apr 28, 2011\n",
       "3       Apr 28, 2011\n",
       "4       Apr 29, 2011\n",
       "            ...     \n",
       "3563    Apr 22, 2021\n",
       "3564    Apr 23, 2021\n",
       "3565    Apr 23, 2021\n",
       "3566    Apr 26, 2021\n",
       "3567    Apr 26, 2021\n",
       "Length: 3568, dtype: object"
      ]
     },
     "execution_count": 68,
     "metadata": {},
     "output_type": "execute_result"
    }
   ],
   "source": [
    "clean_dates = pd.Series(dates).apply(clean_date)\n",
    "clean_dates"
   ]
  },
  {
   "cell_type": "code",
   "execution_count": 71,
   "id": "fewer-pathology",
   "metadata": {},
   "outputs": [
    {
     "data": {
      "text/plain": [
       "5019"
      ]
     },
     "execution_count": 71,
     "metadata": {},
     "output_type": "execute_result"
    }
   ],
   "source": [
    "dollar_regex = re.compile(r'\\$\\d.*\\.\\d{4}')\n",
    "dollars = soup.find_all(text = dollar_regex)\n",
    "len(dollars)"
   ]
  },
  {
   "cell_type": "code",
   "execution_count": 72,
   "id": "hourly-mexico",
   "metadata": {},
   "outputs": [],
   "source": [
    "def clean_dollars(dollar: str) -> str:\n",
    "  a = re.sub('\\n\\s{10}', '', dollar)\n",
    "  b = re.sub('\\n\\s{8}', '', a)\n",
    "  return b"
   ]
  },
  {
   "cell_type": "code",
   "execution_count": 73,
   "id": "acoustic-services",
   "metadata": {},
   "outputs": [],
   "source": [
    "dollars_clean = pd.Series(dollars).apply(clean_dollars)"
   ]
  },
  {
   "cell_type": "code",
   "execution_count": 75,
   "id": "regional-trading",
   "metadata": {},
   "outputs": [
    {
     "data": {
      "text/plain": [
       "1     $12.5919\n",
       "2     $12.5919\n",
       "3     $12.6169\n",
       "4     $12.6169\n",
       "5     $12.6397\n",
       "6     $12.6397\n",
       "7     $12.6632\n",
       "8     $12.6632\n",
       "9     $12.5513\n",
       "10    $12.5513\n",
       "11    $12.5015\n",
       "12    $12.5015\n",
       "13    $12.4271\n",
       "14    $12.4271\n",
       "15    $12.4831\n",
       "16    $12.4831\n",
       "17    $12.5280\n",
       "18    $12.5280\n",
       "19    $12.5304\n",
       "20    $12.5304\n",
       "21    $12.4055\n",
       "22    $12.4055\n",
       "23    $12.4046\n",
       "24    $12.4046\n",
       "25    $12.3836\n",
       "26    $12.3836\n",
       "27    $12.3998\n",
       "28    $12.3998\n",
       "29    $12.3927\n",
       "30    $12.3927\n",
       "31    $12.4860\n",
       "32    $12.4860\n",
       "33    $12.5112\n",
       "34    $12.5112\n",
       "35    $12.5117\n",
       "36    $12.5117\n",
       "37    $12.4384\n",
       "38    $12.4384\n",
       "39    $12.5354\n",
       "40    $12.5354\n",
       "41    $12.5773\n",
       "42    $12.5773\n",
       "43    $12.6145\n",
       "44    $12.6145\n",
       "45    $12.6259\n",
       "46    $12.6259\n",
       "47    $12.6424\n",
       "48    $12.6424\n",
       "49    $12.4786\n",
       "50    $12.4786\n",
       "dtype: object"
      ]
     },
     "execution_count": 75,
     "metadata": {},
     "output_type": "execute_result"
    }
   ],
   "source": [
    "dollars_clean.drop(0).head(50)"
   ]
  },
  {
   "cell_type": "code",
   "execution_count": 79,
   "id": "frozen-midnight",
   "metadata": {},
   "outputs": [
    {
     "data": {
      "text/plain": [
       "2458"
      ]
     },
     "execution_count": 79,
     "metadata": {},
     "output_type": "execute_result"
    }
   ],
   "source": [
    "dollars_unique = dollars_clean.unique()\n",
    "len(dollars_unique)"
   ]
  },
  {
   "cell_type": "code",
   "execution_count": 82,
   "id": "occupied-nudist",
   "metadata": {},
   "outputs": [
    {
     "data": {
      "text/plain": [
       "1784"
      ]
     },
     "execution_count": 82,
     "metadata": {},
     "output_type": "execute_result"
    }
   ],
   "source": [
    "dates_unique = clean_dates.unique()\n",
    "len(dates_unique)"
   ]
  },
  {
   "cell_type": "code",
   "execution_count": 81,
   "id": "under-device",
   "metadata": {},
   "outputs": [
    {
     "data": {
      "text/plain": [
       "3568"
      ]
     },
     "execution_count": 81,
     "metadata": {},
     "output_type": "execute_result"
    }
   ],
   "source": [
    "len(clean_dates)"
   ]
  },
  {
   "cell_type": "code",
   "execution_count": 77,
   "id": "mediterranean-omega",
   "metadata": {},
   "outputs": [
    {
     "data": {
      "text/plain": [
       "49    Jun 20, 2011\n",
       "50    Jun 21, 2011\n",
       "dtype: object"
      ]
     },
     "execution_count": 77,
     "metadata": {},
     "output_type": "execute_result"
    }
   ],
   "source": [
    "clean_dates.loc[49:50]"
   ]
  }
 ],
 "metadata": {
  "kernelspec": {
   "display_name": "Python 3",
   "language": "python",
   "name": "python3"
  },
  "language_info": {
   "codemirror_mode": {
    "name": "ipython",
    "version": 3
   },
   "file_extension": ".py",
   "mimetype": "text/x-python",
   "name": "python",
   "nbconvert_exporter": "python",
   "pygments_lexer": "ipython3",
   "version": "3.9.1"
  }
 },
 "nbformat": 4,
 "nbformat_minor": 5
}
