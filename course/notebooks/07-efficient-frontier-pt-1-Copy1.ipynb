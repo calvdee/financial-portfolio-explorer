{
 "cells": [
  {
   "cell_type": "code",
   "execution_count": 156,
   "id": "diverse-printing",
   "metadata": {},
   "outputs": [
    {
     "name": "stdout",
     "output_type": "stream",
     "text": [
      "The autoreload extension is already loaded. To reload it, use:\n",
      "  %reload_ext autoreload\n"
     ]
    }
   ],
   "source": [
    "%load_ext autoreload\n",
    "%autoreload 2\n",
    "\n",
    "import sys, os\n",
    "sys.path.insert(1, os.path.join(sys.path[0], '../..'))\n",
    "sys.path.insert(1, os.path.join(sys.path[0], '..'))"
   ]
  },
  {
   "cell_type": "code",
   "execution_count": 157,
   "id": "loaded-yorkshire",
   "metadata": {},
   "outputs": [],
   "source": [
    "import pandas as pd\n",
    "import numpy as np\n",
    "import seaborn as sns\n",
    "\n",
    "from scipy import stats\n",
    "from src import data\n",
    "from portfolio_design.src.data import get_monthly_market_data\n",
    "from portfolio_design.src import analysis as an\n",
    "from portfolio_design.src import edhec_risk_kit as erk\n",
    "\n",
    "%matplotlib inline"
   ]
  },
  {
   "cell_type": "code",
   "execution_count": 158,
   "id": "daily-renewal",
   "metadata": {},
   "outputs": [
    {
     "name": "stdout",
     "output_type": "stream",
     "text": [
      "[*********************100%***********************]  5 of 5 completed\n"
     ]
    },
    {
     "name": "stderr",
     "output_type": "stream",
     "text": [
      "/Users/calvindelima/projects/investing/.venv/lib/python3.9/site-packages/pandas/core/generic.py:4152: PerformanceWarning: dropping on a non-lexsorted multi-index without a level parameter may impact performance.\n",
      "  obj = obj._drop_axis(labels, axis, level=level, errors=errors)\n"
     ]
    },
    {
     "data": {
      "text/html": [
       "<div>\n",
       "<style scoped>\n",
       "    .dataframe tbody tr th:only-of-type {\n",
       "        vertical-align: middle;\n",
       "    }\n",
       "\n",
       "    .dataframe tbody tr th {\n",
       "        vertical-align: top;\n",
       "    }\n",
       "\n",
       "    .dataframe thead th {\n",
       "        text-align: right;\n",
       "    }\n",
       "</style>\n",
       "<table border=\"1\" class=\"dataframe\">\n",
       "  <thead>\n",
       "    <tr style=\"text-align: right;\">\n",
       "      <th></th>\n",
       "      <th>AC.TO</th>\n",
       "      <th>DIS</th>\n",
       "      <th>NVDA</th>\n",
       "      <th>SOXX</th>\n",
       "      <th>SPY</th>\n",
       "    </tr>\n",
       "    <tr>\n",
       "      <th>date</th>\n",
       "      <th></th>\n",
       "      <th></th>\n",
       "      <th></th>\n",
       "      <th></th>\n",
       "      <th></th>\n",
       "    </tr>\n",
       "  </thead>\n",
       "  <tbody>\n",
       "    <tr>\n",
       "      <th>1962-06-12</th>\n",
       "      <td>NaN</td>\n",
       "      <td>NaN</td>\n",
       "      <td>NaN</td>\n",
       "      <td>NaN</td>\n",
       "      <td>NaN</td>\n",
       "    </tr>\n",
       "    <tr>\n",
       "      <th>1962-09-11</th>\n",
       "      <td>NaN</td>\n",
       "      <td>NaN</td>\n",
       "      <td>NaN</td>\n",
       "      <td>NaN</td>\n",
       "      <td>NaN</td>\n",
       "    </tr>\n",
       "    <tr>\n",
       "      <th>1962-12-18</th>\n",
       "      <td>NaN</td>\n",
       "      <td>NaN</td>\n",
       "      <td>NaN</td>\n",
       "      <td>NaN</td>\n",
       "      <td>NaN</td>\n",
       "    </tr>\n",
       "    <tr>\n",
       "      <th>1963-03-12</th>\n",
       "      <td>NaN</td>\n",
       "      <td>NaN</td>\n",
       "      <td>NaN</td>\n",
       "      <td>NaN</td>\n",
       "      <td>NaN</td>\n",
       "    </tr>\n",
       "    <tr>\n",
       "      <th>1963-06-07</th>\n",
       "      <td>NaN</td>\n",
       "      <td>NaN</td>\n",
       "      <td>NaN</td>\n",
       "      <td>NaN</td>\n",
       "      <td>NaN</td>\n",
       "    </tr>\n",
       "  </tbody>\n",
       "</table>\n",
       "</div>"
      ],
      "text/plain": [
       "            AC.TO  DIS  NVDA  SOXX  SPY\n",
       "date                                   \n",
       "1962-06-12    NaN  NaN   NaN   NaN  NaN\n",
       "1962-09-11    NaN  NaN   NaN   NaN  NaN\n",
       "1962-12-18    NaN  NaN   NaN   NaN  NaN\n",
       "1963-03-12    NaN  NaN   NaN   NaN  NaN\n",
       "1963-06-07    NaN  NaN   NaN   NaN  NaN"
      ]
     },
     "execution_count": 158,
     "metadata": {},
     "output_type": "execute_result"
    }
   ],
   "source": [
    "md_df = get_monthly_market_data(\n",
    "  tickers = ['AC.TO', 'SOXX', 'DIS', 'NVDA', 'SPY'],\n",
    "  interval = '1mo',\n",
    "  returns_only = False\n",
    ").ffill(axis = 0)\n",
    "\n",
    "r_df = (md_df['adjusted_close'] / md_df['open'] - 1).ffill(axis = 0)\n",
    "\n",
    "r_df.head()"
   ]
  },
  {
   "cell_type": "code",
   "execution_count": 159,
   "id": "southern-brunei",
   "metadata": {},
   "outputs": [],
   "source": [
    "r_pre_df = r_df['2015':'2020-01-01']\n",
    "r_post_df = r_df['2020-02-01':]"
   ]
  },
  {
   "cell_type": "code",
   "execution_count": 161,
   "id": "sweet-honolulu",
   "metadata": {},
   "outputs": [
    {
     "data": {
      "text/plain": [
       "AC.TO    0.251549\n",
       "DIS     -0.338582\n",
       "NVDA     0.336359\n",
       "SOXX    -0.296009\n",
       "SPY     -0.524859\n",
       "dtype: float64"
      ]
     },
     "execution_count": 161,
     "metadata": {},
     "output_type": "execute_result"
    }
   ],
   "source": [
    "er_pre = erk.annualize_rets(r_pre_df, 12)\n",
    "er_pre"
   ]
  },
  {
   "cell_type": "code",
   "execution_count": 162,
   "id": "scenic-extra",
   "metadata": {},
   "outputs": [
    {
     "data": {
      "text/plain": [
       "AC.TO   -0.350884\n",
       "DIS      0.244896\n",
       "NVDA     0.745721\n",
       "SOXX     0.363003\n",
       "SPY      0.041442\n",
       "dtype: float64"
      ]
     },
     "execution_count": 162,
     "metadata": {},
     "output_type": "execute_result"
    }
   ],
   "source": [
    "er_post = erk.annualize_rets(r_post_df, 12)\n",
    "er_post"
   ]
  },
  {
   "cell_type": "code",
   "execution_count": 163,
   "id": "normal-allocation",
   "metadata": {},
   "outputs": [],
   "source": [
    "er_pre_cov = r_pre_df.cov()\n",
    "er_post_cov = r_post_df.cov()\n",
    "er_pre_corr = r_pre_df.corr()\n",
    "er_post_corr = r_post_df.corr()"
   ]
  },
  {
   "cell_type": "code",
   "execution_count": 164,
   "id": "reserved-shareware",
   "metadata": {},
   "outputs": [
    {
     "data": {
      "text/html": [
       "<div>\n",
       "<style scoped>\n",
       "    .dataframe tbody tr th:only-of-type {\n",
       "        vertical-align: middle;\n",
       "    }\n",
       "\n",
       "    .dataframe tbody tr th {\n",
       "        vertical-align: top;\n",
       "    }\n",
       "\n",
       "    .dataframe thead th {\n",
       "        text-align: right;\n",
       "    }\n",
       "</style>\n",
       "<table border=\"1\" class=\"dataframe\">\n",
       "  <thead>\n",
       "    <tr style=\"text-align: right;\">\n",
       "      <th></th>\n",
       "      <th>AC.TO</th>\n",
       "      <th>DIS</th>\n",
       "      <th>NVDA</th>\n",
       "      <th>SOXX</th>\n",
       "      <th>SPY</th>\n",
       "    </tr>\n",
       "  </thead>\n",
       "  <tbody>\n",
       "    <tr>\n",
       "      <th>AC.TO</th>\n",
       "      <td>1.000000</td>\n",
       "      <td>0.129125</td>\n",
       "      <td>0.240478</td>\n",
       "      <td>0.297950</td>\n",
       "      <td>0.263414</td>\n",
       "    </tr>\n",
       "    <tr>\n",
       "      <th>DIS</th>\n",
       "      <td>0.129125</td>\n",
       "      <td>1.000000</td>\n",
       "      <td>0.050579</td>\n",
       "      <td>0.385495</td>\n",
       "      <td>0.618455</td>\n",
       "    </tr>\n",
       "    <tr>\n",
       "      <th>NVDA</th>\n",
       "      <td>0.240478</td>\n",
       "      <td>0.050579</td>\n",
       "      <td>1.000000</td>\n",
       "      <td>0.705225</td>\n",
       "      <td>0.417677</td>\n",
       "    </tr>\n",
       "    <tr>\n",
       "      <th>SOXX</th>\n",
       "      <td>0.297950</td>\n",
       "      <td>0.385495</td>\n",
       "      <td>0.705225</td>\n",
       "      <td>1.000000</td>\n",
       "      <td>0.784767</td>\n",
       "    </tr>\n",
       "    <tr>\n",
       "      <th>SPY</th>\n",
       "      <td>0.263414</td>\n",
       "      <td>0.618455</td>\n",
       "      <td>0.417677</td>\n",
       "      <td>0.784767</td>\n",
       "      <td>1.000000</td>\n",
       "    </tr>\n",
       "  </tbody>\n",
       "</table>\n",
       "</div>"
      ],
      "text/plain": [
       "          AC.TO       DIS      NVDA      SOXX       SPY\n",
       "AC.TO  1.000000  0.129125  0.240478  0.297950  0.263414\n",
       "DIS    0.129125  1.000000  0.050579  0.385495  0.618455\n",
       "NVDA   0.240478  0.050579  1.000000  0.705225  0.417677\n",
       "SOXX   0.297950  0.385495  0.705225  1.000000  0.784767\n",
       "SPY    0.263414  0.618455  0.417677  0.784767  1.000000"
      ]
     },
     "execution_count": 164,
     "metadata": {},
     "output_type": "execute_result"
    }
   ],
   "source": [
    "er_pre_corr"
   ]
  },
  {
   "cell_type": "code",
   "execution_count": 165,
   "id": "funky-baseline",
   "metadata": {},
   "outputs": [
    {
     "data": {
      "text/html": [
       "<div>\n",
       "<style scoped>\n",
       "    .dataframe tbody tr th:only-of-type {\n",
       "        vertical-align: middle;\n",
       "    }\n",
       "\n",
       "    .dataframe tbody tr th {\n",
       "        vertical-align: top;\n",
       "    }\n",
       "\n",
       "    .dataframe thead th {\n",
       "        text-align: right;\n",
       "    }\n",
       "</style>\n",
       "<table border=\"1\" class=\"dataframe\">\n",
       "  <thead>\n",
       "    <tr style=\"text-align: right;\">\n",
       "      <th></th>\n",
       "      <th>AC.TO</th>\n",
       "      <th>DIS</th>\n",
       "      <th>NVDA</th>\n",
       "      <th>SOXX</th>\n",
       "      <th>SPY</th>\n",
       "    </tr>\n",
       "  </thead>\n",
       "  <tbody>\n",
       "    <tr>\n",
       "      <th>AC.TO</th>\n",
       "      <td>0.076188</td>\n",
       "      <td>0.024690</td>\n",
       "      <td>0.005302</td>\n",
       "      <td>0.017885</td>\n",
       "      <td>0.015731</td>\n",
       "    </tr>\n",
       "    <tr>\n",
       "      <th>DIS</th>\n",
       "      <td>0.024690</td>\n",
       "      <td>0.015661</td>\n",
       "      <td>0.004515</td>\n",
       "      <td>0.008295</td>\n",
       "      <td>0.007985</td>\n",
       "    </tr>\n",
       "    <tr>\n",
       "      <th>NVDA</th>\n",
       "      <td>0.005302</td>\n",
       "      <td>0.004515</td>\n",
       "      <td>0.011933</td>\n",
       "      <td>0.004643</td>\n",
       "      <td>0.003716</td>\n",
       "    </tr>\n",
       "    <tr>\n",
       "      <th>SOXX</th>\n",
       "      <td>0.017885</td>\n",
       "      <td>0.008295</td>\n",
       "      <td>0.004643</td>\n",
       "      <td>0.007073</td>\n",
       "      <td>0.005817</td>\n",
       "    </tr>\n",
       "    <tr>\n",
       "      <th>SPY</th>\n",
       "      <td>0.015731</td>\n",
       "      <td>0.007985</td>\n",
       "      <td>0.003716</td>\n",
       "      <td>0.005817</td>\n",
       "      <td>0.005607</td>\n",
       "    </tr>\n",
       "  </tbody>\n",
       "</table>\n",
       "</div>"
      ],
      "text/plain": [
       "          AC.TO       DIS      NVDA      SOXX       SPY\n",
       "AC.TO  0.076188  0.024690  0.005302  0.017885  0.015731\n",
       "DIS    0.024690  0.015661  0.004515  0.008295  0.007985\n",
       "NVDA   0.005302  0.004515  0.011933  0.004643  0.003716\n",
       "SOXX   0.017885  0.008295  0.004643  0.007073  0.005817\n",
       "SPY    0.015731  0.007985  0.003716  0.005817  0.005607"
      ]
     },
     "execution_count": 165,
     "metadata": {},
     "output_type": "execute_result"
    }
   ],
   "source": [
    "er_post_cov"
   ]
  },
  {
   "cell_type": "code",
   "execution_count": 166,
   "id": "solid-knitting",
   "metadata": {},
   "outputs": [
    {
     "name": "stdout",
     "output_type": "stream",
     "text": [
      "-0.1428853626379627\n",
      "0.2610444607596141\n"
     ]
    }
   ],
   "source": [
    "weights = np.repeat(0.25, 5)\n",
    "print(erk.portfolio_return(weights, er_pre))\n",
    "print(erk.portfolio_return(weights, er_post))"
   ]
  },
  {
   "cell_type": "code",
   "execution_count": 167,
   "id": "collective-darkness",
   "metadata": {},
   "outputs": [
    {
     "name": "stdout",
     "output_type": "stream",
     "text": [
      "0.06920463428859316\n",
      "0.1400045693558858\n"
     ]
    }
   ],
   "source": [
    "print(erk.portfolio_vol(weights, er_pre_cov))\n",
    "print(erk.portfolio_vol(weights, er_post_cov))"
   ]
  },
  {
   "cell_type": "code",
   "execution_count": 168,
   "id": "compound-collaboration",
   "metadata": {},
   "outputs": [
    {
     "name": "stdout",
     "output_type": "stream",
     "text": [
      "0.06920463428859316\n",
      "0.1400045693558858\n"
     ]
    }
   ],
   "source": [
    "print(erk.portfolio_vol(weights, er_pre_cov))\n",
    "print(erk.portfolio_vol(weights, er_post_cov))"
   ]
  },
  {
   "cell_type": "code",
   "execution_count": 169,
   "id": "impressive-hamilton",
   "metadata": {},
   "outputs": [],
   "source": [
    "# s = ['Games', 'Fin']\n",
    "# ind = erk.get_ind_returns()\n",
    "# er = erk.annualize_rets(ind['1996':'2000'], 12)\n",
    "# cov = ind['1996':'2000'].cov()\n",
    "\n",
    "# rets = [erk.portfolio_return(w, er[s]) for w in weights]\n",
    "# vols = [erk.portfolio_vol(w, cov.loc[s, s]) for w in weights]\n",
    "\n",
    "# ef = pd.DataFrame({\n",
    "#   'R': rets,\n",
    "#   'V': vols\n",
    "# })\n",
    "# ef.plot.scatter(x = 'V', y = 'R');"
   ]
  },
  {
   "cell_type": "code",
   "execution_count": 178,
   "id": "physical-attempt",
   "metadata": {},
   "outputs": [
    {
     "data": {
      "text/plain": [
       "<AxesSubplot:xlabel='Volatility'>"
      ]
     },
     "execution_count": 178,
     "metadata": {},
     "output_type": "execute_result"
    },
    {
     "data": {
      "image/png": "[encoded data removed]",
      "text/plain": [
       "<Figure size 432x288 with 1 Axes>"
      ]
     },
     "metadata": {
      "needs_background": "light"
     },
     "output_type": "display_data"
    }
   ],
   "source": [
    "s = ['SPY', 'NVDA']\n",
    "er_s = er_post[s]\n",
    "er_s_cov = er_post_cov.loc[s, s]\n",
    "erk.plot_ef2(20, er_s, er_s_cov)"
   ]
  }
 ],
 "metadata": {
  "kernelspec": {
   "display_name": "Python 3",
   "language": "python",
   "name": "python3"
  },
  "language_info": {
   "codemirror_mode": {
    "name": "ipython",
    "version": 3
   },
   "file_extension": ".py",
   "mimetype": "text/x-python",
   "name": "python",
   "nbconvert_exporter": "python",
   "pygments_lexer": "ipython3",
   "version": "3.9.1"
  }
 },
 "nbformat": 4,
 "nbformat_minor": 5
}
