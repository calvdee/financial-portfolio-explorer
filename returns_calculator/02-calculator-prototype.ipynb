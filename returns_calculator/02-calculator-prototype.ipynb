{
 "cells": [
  {
   "cell_type": "code",
   "execution_count": 180,
   "id": "stainless-venezuela",
   "metadata": {},
   "outputs": [
    {
     "name": "stdout",
     "output_type": "stream",
     "text": [
      "The autoreload extension is already loaded. To reload it, use:\n",
      "  %reload_ext autoreload\n"
     ]
    }
   ],
   "source": [
    "%load_ext autoreload\n",
    "%autoreload 2\n",
    "\n",
    "import sys, os\n",
    "sys.path.insert(1, os.path.join(sys.path[0], '..'))\n",
    "sys.path.insert(1, os.path.join(sys.path[0], '.'))"
   ]
  },
  {
   "cell_type": "code",
   "execution_count": 181,
   "id": "technical-explosion",
   "metadata": {},
   "outputs": [],
   "source": [
    "import pandas as pd\n",
    "import seaborn as sns\n",
    "\n",
    "from src import data\n",
    "from datetime import date\n",
    "from io import StringIO\n"
   ]
  },
  {
   "cell_type": "markdown",
   "id": "naked-stereo",
   "metadata": {},
   "source": [
    "# Load Data"
   ]
  },
  {
   "cell_type": "code",
   "execution_count": 182,
   "id": "differential-cattle",
   "metadata": {},
   "outputs": [
    {
     "data": {
      "text/html": [
       "<div>\n",
       "<style scoped>\n",
       "    .dataframe tbody tr th:only-of-type {\n",
       "        vertical-align: middle;\n",
       "    }\n",
       "\n",
       "    .dataframe tbody tr th {\n",
       "        vertical-align: top;\n",
       "    }\n",
       "\n",
       "    .dataframe thead th {\n",
       "        text-align: right;\n",
       "    }\n",
       "</style>\n",
       "<table border=\"1\" class=\"dataframe\">\n",
       "  <thead>\n",
       "    <tr style=\"text-align: right;\">\n",
       "      <th></th>\n",
       "      <th>order_id</th>\n",
       "      <th>asset</th>\n",
       "      <th>order_date</th>\n",
       "      <th>unit_cost_usd</th>\n",
       "      <th>order_units</th>\n",
       "      <th>order_cost_usd</th>\n",
       "    </tr>\n",
       "  </thead>\n",
       "  <tbody>\n",
       "    <tr>\n",
       "      <th>0</th>\n",
       "      <td>1</td>\n",
       "      <td>COST</td>\n",
       "      <td>2021-04-06</td>\n",
       "      <td>360.12</td>\n",
       "      <td>2</td>\n",
       "      <td>720.24</td>\n",
       "    </tr>\n",
       "    <tr>\n",
       "      <th>1</th>\n",
       "      <td>2</td>\n",
       "      <td>COST</td>\n",
       "      <td>2021-04-09</td>\n",
       "      <td>363.21</td>\n",
       "      <td>1</td>\n",
       "      <td>363.21</td>\n",
       "    </tr>\n",
       "    <tr>\n",
       "      <th>2</th>\n",
       "      <td>3</td>\n",
       "      <td>COST</td>\n",
       "      <td>2021-04-13</td>\n",
       "      <td>365.21</td>\n",
       "      <td>3</td>\n",
       "      <td>1095.63</td>\n",
       "    </tr>\n",
       "    <tr>\n",
       "      <th>3</th>\n",
       "      <td>4</td>\n",
       "      <td>COUR</td>\n",
       "      <td>2021-04-05</td>\n",
       "      <td>49.61</td>\n",
       "      <td>16</td>\n",
       "      <td>793.76</td>\n",
       "    </tr>\n",
       "    <tr>\n",
       "      <th>4</th>\n",
       "      <td>5</td>\n",
       "      <td>DHR</td>\n",
       "      <td>2021-04-09</td>\n",
       "      <td>232.36</td>\n",
       "      <td>5</td>\n",
       "      <td>1161.80</td>\n",
       "    </tr>\n",
       "    <tr>\n",
       "      <th>5</th>\n",
       "      <td>6</td>\n",
       "      <td>DHR</td>\n",
       "      <td>2021-04-13</td>\n",
       "      <td>242.84</td>\n",
       "      <td>6</td>\n",
       "      <td>1457.04</td>\n",
       "    </tr>\n",
       "    <tr>\n",
       "      <th>6</th>\n",
       "      <td>7</td>\n",
       "      <td>SOXX</td>\n",
       "      <td>2021-04-09</td>\n",
       "      <td>446.80</td>\n",
       "      <td>2</td>\n",
       "      <td>893.60</td>\n",
       "    </tr>\n",
       "    <tr>\n",
       "      <th>7</th>\n",
       "      <td>8</td>\n",
       "      <td>SOXX</td>\n",
       "      <td>2021-04-13</td>\n",
       "      <td>441.30</td>\n",
       "      <td>3</td>\n",
       "      <td>1323.90</td>\n",
       "    </tr>\n",
       "  </tbody>\n",
       "</table>\n",
       "</div>"
      ],
      "text/plain": [
       "   order_id asset order_date  unit_cost_usd  order_units  order_cost_usd\n",
       "0         1  COST 2021-04-06         360.12            2          720.24\n",
       "1         2  COST 2021-04-09         363.21            1          363.21\n",
       "2         3  COST 2021-04-13         365.21            3         1095.63\n",
       "3         4  COUR 2021-04-05          49.61           16          793.76\n",
       "4         5   DHR 2021-04-09         232.36            5         1161.80\n",
       "5         6   DHR 2021-04-13         242.84            6         1457.04\n",
       "6         7  SOXX 2021-04-09         446.80            2          893.60\n",
       "7         8  SOXX 2021-04-13         441.30            3         1323.90"
      ]
     },
     "execution_count": 182,
     "metadata": {},
     "output_type": "execute_result"
    }
   ],
   "source": [
    "orders = StringIO(\"\"\"\n",
    "asset,order_date,unit_cost_usd,order_units,order_cost_usd\n",
    "COST,2021-04-06T09:30:01,360.12,2,720.24\n",
    "COST,2021-04-09T09:30:01,363.21,1,363.21\n",
    "COST,2021-04-13T09:30:02,365.21,3,1095.63\n",
    "COUR,2021-04-05T09:31:01,49.61,16,793.76\n",
    "DHR,2021-04-09T09:30:00,232.36,5,1161.8\n",
    "DHR,2021-04-13T09:30:00,242.84,6,1457.04\n",
    "SOXX,2021-04-09T09:30:02,446.8,2,893.6\n",
    "SOXX,2021-04-13T09:30:01,441.3,3,1323.9\n",
    "\"\"\")\n",
    "orders_df = (\n",
    "  pd\n",
    "    .read_csv(orders, parse_dates = ['order_date'])\n",
    "    .reset_index()\n",
    "    .rename(columns = {'index': 'order_id'})\n",
    "    .assign(\n",
    "      order_id = lambda df: df['order_id']+1,\n",
    "      order_date = lambda df: pd.to_datetime(df['order_date'].dt.date)\n",
    "    )\n",
    ")\n",
    "orders_df"
   ]
  },
  {
   "cell_type": "code",
   "execution_count": 183,
   "id": "aging-injection",
   "metadata": {},
   "outputs": [],
   "source": [
    "# orders = [\n",
    "#   #COST\t2021-04-06, 09:30:01\t360.12\t2\t720.24\n",
    "#   {\n",
    "#     'asset': 'COST',\n",
    "#     'order_date': date(2021, 4, 6),\n",
    "#     'order_id': 1,\n",
    "#     'order_units': 2,\n",
    "#     'unit_cost_usd': 360.12,\n",
    "#   },\n",
    "# ]"
   ]
  },
  {
   "cell_type": "code",
   "execution_count": 184,
   "id": "recent-lincoln",
   "metadata": {},
   "outputs": [
    {
     "name": "stdout",
     "output_type": "stream",
     "text": [
      "[*********************100%***********************]  4 of 4 completed\n"
     ]
    },
    {
     "name": "stderr",
     "output_type": "stream",
     "text": [
      "/Users/calvindelima/projects/investing/.venv/lib/python3.9/site-packages/pandas/core/generic.py:4152: PerformanceWarning: dropping on a non-lexsorted multi-index without a level parameter may impact performance.\n",
      "  obj = obj._drop_axis(labels, axis, level=level, errors=errors)\n"
     ]
    }
   ],
   "source": [
    "# orders_df = data.make_orders_df(orders)\n",
    "assets = list(orders_df['asset'].unique())\n",
    "prices_df = data.make_prices_df(assets)"
   ]
  },
  {
   "cell_type": "code",
   "execution_count": 185,
   "id": "attractive-impact",
   "metadata": {},
   "outputs": [],
   "source": [
    "order_value_snapshot_df = data.make_order_value_snapshot_df(\n",
    "  prices_df,\n",
    "  orders_df\n",
    ")\n",
    "asset_value_snapshot_df = data.make_asset_value_snapshot_df(\n",
    "  order_value_snapshot_df\n",
    ")\n",
    "portfolio_value_snapshot_df = data.make_portfolio_value_snapshot_df(\n",
    "  asset_value_snapshot_df\n",
    ")"
   ]
  },
  {
   "cell_type": "code",
   "execution_count": 186,
   "id": "addressed-hearing",
   "metadata": {},
   "outputs": [
    {
     "data": {
      "text/html": [
       "<div>\n",
       "<style scoped>\n",
       "    .dataframe tbody tr th:only-of-type {\n",
       "        vertical-align: middle;\n",
       "    }\n",
       "\n",
       "    .dataframe tbody tr th {\n",
       "        vertical-align: top;\n",
       "    }\n",
       "\n",
       "    .dataframe thead th {\n",
       "        text-align: right;\n",
       "    }\n",
       "</style>\n",
       "<table border=\"1\" class=\"dataframe\">\n",
       "  <thead>\n",
       "    <tr style=\"text-align: right;\">\n",
       "      <th></th>\n",
       "      <th>order_id</th>\n",
       "      <th>asset</th>\n",
       "      <th>order_date</th>\n",
       "      <th>unit_cost_usd</th>\n",
       "      <th>order_units</th>\n",
       "      <th>order_cost_usd</th>\n",
       "    </tr>\n",
       "  </thead>\n",
       "  <tbody>\n",
       "    <tr>\n",
       "      <th>0</th>\n",
       "      <td>1</td>\n",
       "      <td>COST</td>\n",
       "      <td>2021-04-06</td>\n",
       "      <td>360.12</td>\n",
       "      <td>2</td>\n",
       "      <td>720.24</td>\n",
       "    </tr>\n",
       "    <tr>\n",
       "      <th>1</th>\n",
       "      <td>2</td>\n",
       "      <td>COST</td>\n",
       "      <td>2021-04-09</td>\n",
       "      <td>363.21</td>\n",
       "      <td>1</td>\n",
       "      <td>363.21</td>\n",
       "    </tr>\n",
       "    <tr>\n",
       "      <th>2</th>\n",
       "      <td>3</td>\n",
       "      <td>COST</td>\n",
       "      <td>2021-04-13</td>\n",
       "      <td>365.21</td>\n",
       "      <td>3</td>\n",
       "      <td>1095.63</td>\n",
       "    </tr>\n",
       "    <tr>\n",
       "      <th>3</th>\n",
       "      <td>4</td>\n",
       "      <td>COUR</td>\n",
       "      <td>2021-04-05</td>\n",
       "      <td>49.61</td>\n",
       "      <td>16</td>\n",
       "      <td>793.76</td>\n",
       "    </tr>\n",
       "    <tr>\n",
       "      <th>4</th>\n",
       "      <td>5</td>\n",
       "      <td>DHR</td>\n",
       "      <td>2021-04-09</td>\n",
       "      <td>232.36</td>\n",
       "      <td>5</td>\n",
       "      <td>1161.80</td>\n",
       "    </tr>\n",
       "    <tr>\n",
       "      <th>5</th>\n",
       "      <td>6</td>\n",
       "      <td>DHR</td>\n",
       "      <td>2021-04-13</td>\n",
       "      <td>242.84</td>\n",
       "      <td>6</td>\n",
       "      <td>1457.04</td>\n",
       "    </tr>\n",
       "    <tr>\n",
       "      <th>6</th>\n",
       "      <td>7</td>\n",
       "      <td>SOXX</td>\n",
       "      <td>2021-04-09</td>\n",
       "      <td>446.80</td>\n",
       "      <td>2</td>\n",
       "      <td>893.60</td>\n",
       "    </tr>\n",
       "    <tr>\n",
       "      <th>7</th>\n",
       "      <td>8</td>\n",
       "      <td>SOXX</td>\n",
       "      <td>2021-04-13</td>\n",
       "      <td>441.30</td>\n",
       "      <td>3</td>\n",
       "      <td>1323.90</td>\n",
       "    </tr>\n",
       "  </tbody>\n",
       "</table>\n",
       "</div>"
      ],
      "text/plain": [
       "   order_id asset order_date  unit_cost_usd  order_units  order_cost_usd\n",
       "0         1  COST 2021-04-06         360.12            2          720.24\n",
       "1         2  COST 2021-04-09         363.21            1          363.21\n",
       "2         3  COST 2021-04-13         365.21            3         1095.63\n",
       "3         4  COUR 2021-04-05          49.61           16          793.76\n",
       "4         5   DHR 2021-04-09         232.36            5         1161.80\n",
       "5         6   DHR 2021-04-13         242.84            6         1457.04\n",
       "6         7  SOXX 2021-04-09         446.80            2          893.60\n",
       "7         8  SOXX 2021-04-13         441.30            3         1323.90"
      ]
     },
     "execution_count": 186,
     "metadata": {},
     "output_type": "execute_result"
    }
   ],
   "source": [
    "orders_df"
   ]
  },
  {
   "cell_type": "code",
   "execution_count": 187,
   "id": "transsexual-lesbian",
   "metadata": {},
   "outputs": [
    {
     "data": {
      "text/html": [
       "<div>\n",
       "<style scoped>\n",
       "    .dataframe tbody tr th:only-of-type {\n",
       "        vertical-align: middle;\n",
       "    }\n",
       "\n",
       "    .dataframe tbody tr th {\n",
       "        vertical-align: top;\n",
       "    }\n",
       "\n",
       "    .dataframe thead th {\n",
       "        text-align: right;\n",
       "    }\n",
       "</style>\n",
       "<table border=\"1\" class=\"dataframe\">\n",
       "  <thead>\n",
       "    <tr style=\"text-align: right;\">\n",
       "      <th></th>\n",
       "      <th>price_date</th>\n",
       "      <th>asset</th>\n",
       "      <th>unit_price_usd</th>\n",
       "    </tr>\n",
       "  </thead>\n",
       "  <tbody>\n",
       "    <tr>\n",
       "      <th>42683</th>\n",
       "      <td>2021-04-20</td>\n",
       "      <td>SOXX</td>\n",
       "      <td>426.300003</td>\n",
       "    </tr>\n",
       "    <tr>\n",
       "      <th>42684</th>\n",
       "      <td>2021-04-21</td>\n",
       "      <td>SOXX</td>\n",
       "      <td>429.664993</td>\n",
       "    </tr>\n",
       "    <tr>\n",
       "      <th>42685</th>\n",
       "      <td>2021-04-22</td>\n",
       "      <td>SOXX</td>\n",
       "      <td>429.875000</td>\n",
       "    </tr>\n",
       "    <tr>\n",
       "      <th>42686</th>\n",
       "      <td>2021-04-23</td>\n",
       "      <td>SOXX</td>\n",
       "      <td>430.339996</td>\n",
       "    </tr>\n",
       "    <tr>\n",
       "      <th>42687</th>\n",
       "      <td>2021-04-26</td>\n",
       "      <td>SOXX</td>\n",
       "      <td>437.600006</td>\n",
       "    </tr>\n",
       "  </tbody>\n",
       "</table>\n",
       "</div>"
      ],
      "text/plain": [
       "      price_date asset  unit_price_usd\n",
       "42683 2021-04-20  SOXX      426.300003\n",
       "42684 2021-04-21  SOXX      429.664993\n",
       "42685 2021-04-22  SOXX      429.875000\n",
       "42686 2021-04-23  SOXX      430.339996\n",
       "42687 2021-04-26  SOXX      437.600006"
      ]
     },
     "execution_count": 187,
     "metadata": {},
     "output_type": "execute_result"
    }
   ],
   "source": [
    "prices_df.tail(5)"
   ]
  },
  {
   "cell_type": "code",
   "execution_count": 188,
   "id": "quiet-concentration",
   "metadata": {},
   "outputs": [
    {
     "data": {
      "text/html": [
       "<div>\n",
       "<style scoped>\n",
       "    .dataframe tbody tr th:only-of-type {\n",
       "        vertical-align: middle;\n",
       "    }\n",
       "\n",
       "    .dataframe tbody tr th {\n",
       "        vertical-align: top;\n",
       "    }\n",
       "\n",
       "    .dataframe thead th {\n",
       "        text-align: right;\n",
       "    }\n",
       "</style>\n",
       "<table border=\"1\" class=\"dataframe\">\n",
       "  <thead>\n",
       "    <tr style=\"text-align: right;\">\n",
       "      <th></th>\n",
       "      <th>asset</th>\n",
       "      <th>price_date</th>\n",
       "      <th>order_date</th>\n",
       "      <th>order_id</th>\n",
       "      <th>order_units</th>\n",
       "      <th>unit_price_usd</th>\n",
       "      <th>order_cost_usd</th>\n",
       "      <th>order_value_usd</th>\n",
       "    </tr>\n",
       "  </thead>\n",
       "  <tbody>\n",
       "    <tr>\n",
       "      <th>31971</th>\n",
       "      <td>COST</td>\n",
       "      <td>2021-04-06</td>\n",
       "      <td>2021-04-06</td>\n",
       "      <td>1</td>\n",
       "      <td>2</td>\n",
       "      <td>359.959991</td>\n",
       "      <td>720.24</td>\n",
       "      <td>719.919983</td>\n",
       "    </tr>\n",
       "    <tr>\n",
       "      <th>31974</th>\n",
       "      <td>COST</td>\n",
       "      <td>2021-04-07</td>\n",
       "      <td>2021-04-06</td>\n",
       "      <td>1</td>\n",
       "      <td>2</td>\n",
       "      <td>359.839996</td>\n",
       "      <td>720.24</td>\n",
       "      <td>719.679993</td>\n",
       "    </tr>\n",
       "    <tr>\n",
       "      <th>31977</th>\n",
       "      <td>COST</td>\n",
       "      <td>2021-04-08</td>\n",
       "      <td>2021-04-06</td>\n",
       "      <td>1</td>\n",
       "      <td>2</td>\n",
       "      <td>362.009995</td>\n",
       "      <td>720.24</td>\n",
       "      <td>724.019989</td>\n",
       "    </tr>\n",
       "    <tr>\n",
       "      <th>31980</th>\n",
       "      <td>COST</td>\n",
       "      <td>2021-04-09</td>\n",
       "      <td>2021-04-06</td>\n",
       "      <td>1</td>\n",
       "      <td>2</td>\n",
       "      <td>362.059998</td>\n",
       "      <td>720.24</td>\n",
       "      <td>724.119995</td>\n",
       "    </tr>\n",
       "    <tr>\n",
       "      <th>31981</th>\n",
       "      <td>COST</td>\n",
       "      <td>2021-04-09</td>\n",
       "      <td>2021-04-09</td>\n",
       "      <td>2</td>\n",
       "      <td>1</td>\n",
       "      <td>362.059998</td>\n",
       "      <td>363.21</td>\n",
       "      <td>362.059998</td>\n",
       "    </tr>\n",
       "    <tr>\n",
       "      <th>...</th>\n",
       "      <td>...</td>\n",
       "      <td>...</td>\n",
       "      <td>...</td>\n",
       "      <td>...</td>\n",
       "      <td>...</td>\n",
       "      <td>...</td>\n",
       "      <td>...</td>\n",
       "      <td>...</td>\n",
       "    </tr>\n",
       "    <tr>\n",
       "      <th>85371</th>\n",
       "      <td>SOXX</td>\n",
       "      <td>2021-04-22</td>\n",
       "      <td>2021-04-13</td>\n",
       "      <td>8</td>\n",
       "      <td>3</td>\n",
       "      <td>429.875000</td>\n",
       "      <td>1323.90</td>\n",
       "      <td>1289.625000</td>\n",
       "    </tr>\n",
       "    <tr>\n",
       "      <th>85372</th>\n",
       "      <td>SOXX</td>\n",
       "      <td>2021-04-23</td>\n",
       "      <td>2021-04-09</td>\n",
       "      <td>7</td>\n",
       "      <td>2</td>\n",
       "      <td>430.339996</td>\n",
       "      <td>893.60</td>\n",
       "      <td>860.679993</td>\n",
       "    </tr>\n",
       "    <tr>\n",
       "      <th>85373</th>\n",
       "      <td>SOXX</td>\n",
       "      <td>2021-04-23</td>\n",
       "      <td>2021-04-13</td>\n",
       "      <td>8</td>\n",
       "      <td>3</td>\n",
       "      <td>430.339996</td>\n",
       "      <td>1323.90</td>\n",
       "      <td>1291.019989</td>\n",
       "    </tr>\n",
       "    <tr>\n",
       "      <th>85374</th>\n",
       "      <td>SOXX</td>\n",
       "      <td>2021-04-26</td>\n",
       "      <td>2021-04-09</td>\n",
       "      <td>7</td>\n",
       "      <td>2</td>\n",
       "      <td>437.600006</td>\n",
       "      <td>893.60</td>\n",
       "      <td>875.200012</td>\n",
       "    </tr>\n",
       "    <tr>\n",
       "      <th>85375</th>\n",
       "      <td>SOXX</td>\n",
       "      <td>2021-04-26</td>\n",
       "      <td>2021-04-13</td>\n",
       "      <td>8</td>\n",
       "      <td>3</td>\n",
       "      <td>437.600006</td>\n",
       "      <td>1323.90</td>\n",
       "      <td>1312.800018</td>\n",
       "    </tr>\n",
       "  </tbody>\n",
       "</table>\n",
       "<p>97 rows × 8 columns</p>\n",
       "</div>"
      ],
      "text/plain": [
       "      asset price_date order_date  order_id  order_units  unit_price_usd  \\\n",
       "31971  COST 2021-04-06 2021-04-06         1            2      359.959991   \n",
       "31974  COST 2021-04-07 2021-04-06         1            2      359.839996   \n",
       "31977  COST 2021-04-08 2021-04-06         1            2      362.009995   \n",
       "31980  COST 2021-04-09 2021-04-06         1            2      362.059998   \n",
       "31981  COST 2021-04-09 2021-04-09         2            1      362.059998   \n",
       "...     ...        ...        ...       ...          ...             ...   \n",
       "85371  SOXX 2021-04-22 2021-04-13         8            3      429.875000   \n",
       "85372  SOXX 2021-04-23 2021-04-09         7            2      430.339996   \n",
       "85373  SOXX 2021-04-23 2021-04-13         8            3      430.339996   \n",
       "85374  SOXX 2021-04-26 2021-04-09         7            2      437.600006   \n",
       "85375  SOXX 2021-04-26 2021-04-13         8            3      437.600006   \n",
       "\n",
       "       order_cost_usd  order_value_usd  \n",
       "31971          720.24       719.919983  \n",
       "31974          720.24       719.679993  \n",
       "31977          720.24       724.019989  \n",
       "31980          720.24       724.119995  \n",
       "31981          363.21       362.059998  \n",
       "...               ...              ...  \n",
       "85371         1323.90      1289.625000  \n",
       "85372          893.60       860.679993  \n",
       "85373         1323.90      1291.019989  \n",
       "85374          893.60       875.200012  \n",
       "85375         1323.90      1312.800018  \n",
       "\n",
       "[97 rows x 8 columns]"
      ]
     },
     "execution_count": 188,
     "metadata": {},
     "output_type": "execute_result"
    }
   ],
   "source": [
    "order_value_snapshot_df"
   ]
  },
  {
   "cell_type": "code",
   "execution_count": 189,
   "id": "historic-tuning",
   "metadata": {},
   "outputs": [
    {
     "name": "stderr",
     "output_type": "stream",
     "text": [
      "<ipython-input-189-b1c77f89d5a3>:22: UserWarning: FixedFormatter should only be used together with FixedLocator\n",
      "  ax.set_xticklabels(ax.get_xticklabels(), rotation=45);\n"
     ]
    },
    {
     "data": {
      "image/png": "[encoded data removed]",
      "text/plain": [
       "<Figure size 838x720 with 4 Axes>"
      ]
     },
     "metadata": {
      "needs_background": "light"
     },
     "output_type": "display_data"
    }
   ],
   "source": [
    "plot_df = (\n",
    "  asset_value_snapshot_df\n",
    "    .melt(\n",
    "      id_vars = ['asset', 'snapshot_date'],\n",
    "      var_name = 'price_type'\n",
    "    )\n",
    ")\n",
    "\n",
    "# plot_df\n",
    "\n",
    "g = sns.relplot(\n",
    "  data = plot_df,\n",
    "  col = 'asset',\n",
    "  col_wrap = 2,\n",
    "  x = 'snapshot_date',\n",
    "  y = 'value',\n",
    "  hue = 'price_type',\n",
    "  kind = 'line'\n",
    ");\n",
    "\n",
    "for ax in g.axes.ravel():\n",
    "  ax.set_xticklabels(ax.get_xticklabels(), rotation=45);"
   ]
  },
  {
   "cell_type": "code",
   "execution_count": 190,
   "id": "legendary-founder",
   "metadata": {},
   "outputs": [
    {
     "data": {
      "image/png": "[encoded data removed]",
      "text/plain": [
       "<Figure size 1008x432 with 1 Axes>"
      ]
     },
     "metadata": {
      "needs_background": "light"
     },
     "output_type": "display_data"
    }
   ],
   "source": [
    "(\n",
    "  portfolio_value_snapshot_df\n",
    "    .set_index('snapshot_date')\n",
    "    .plot(figsize = (14, 6))\n",
    ");"
   ]
  },
  {
   "cell_type": "code",
   "execution_count": 203,
   "id": "refined-borough",
   "metadata": {},
   "outputs": [
    {
     "data": {
      "image/png": "[encoded data removed]",
      "text/plain": [
       "<Figure size 1008x432 with 1 Axes>"
      ]
     },
     "metadata": {
      "needs_background": "light"
     },
     "output_type": "display_data"
    }
   ],
   "source": [
    "(\n",
    "  portfolio_value_snapshot_df\n",
    "    .set_index('snapshot_date')\n",
    "    .assign(percent_return = lambda df: df['portfolio_value_usd'] / df['portfolio_cost_usd'] - 1)\n",
    "    ['percent_return']\n",
    "    .plot(figsize = (14, 6), ls = '-')\n",
    ");"
   ]
  },
  {
   "cell_type": "code",
   "execution_count": 204,
   "id": "blond-politics",
   "metadata": {},
   "outputs": [],
   "source": [
    "portfolio_return_series = (\n",
    "  portfolio_value_snapshot_df\n",
    "    .assign(\n",
    "      percent_return = lambda df: df['portfolio_value_usd'] / df['portfolio_cost_usd'] - 1\n",
    "    )\n",
    "    .set_index('snapshot_date')\n",
    "    ['percent_return']\n",
    ")\n",
    "# portfolio_return_series"
   ]
  },
  {
   "cell_type": "code",
   "execution_count": 207,
   "id": "assigned-verse",
   "metadata": {},
   "outputs": [
    {
     "data": {
      "text/plain": [
       "<matplotlib.lines.Line2D at 0x1329aad00>"
      ]
     },
     "execution_count": 207,
     "metadata": {},
     "output_type": "execute_result"
    },
    {
     "data": {
      "image/png": "[encoded data removed]",
      "text/plain": [
       "<Figure size 432x288 with 1 Axes>"
      ]
     },
     "metadata": {
      "needs_background": "light"
     },
     "output_type": "display_data"
    }
   ],
   "source": [
    "portfolio_return_series.pct_change().plot();\n",
    "plt.axhline(0, color = 'red')"
   ]
  }
 ],
 "metadata": {
  "kernelspec": {
   "display_name": "Python 3",
   "language": "python",
   "name": "python3"
  },
  "language_info": {
   "codemirror_mode": {
    "name": "ipython",
    "version": 3
   },
   "file_extension": ".py",
   "mimetype": "text/x-python",
   "name": "python",
   "nbconvert_exporter": "python",
   "pygments_lexer": "ipython3",
   "version": "3.9.1"
  }
 },
 "nbformat": 4,
 "nbformat_minor": 5
}
