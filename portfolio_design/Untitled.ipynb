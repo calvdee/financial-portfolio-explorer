{
 "cells": [
  {
   "cell_type": "code",
   "execution_count": 384,
   "id": "extensive-category",
   "metadata": {},
   "outputs": [
    {
     "name": "stdout",
     "output_type": "stream",
     "text": [
      "The autoreload extension is already loaded. To reload it, use:\n",
      "  %reload_ext autoreload\n"
     ]
    }
   ],
   "source": [
    "%load_ext autoreload\n",
    "%autoreload 2\n",
    "\n",
    "import sys, os\n",
    "sys.path.insert(1, os.path.join(sys.path[0], '..'))"
   ]
  },
  {
   "cell_type": "code",
   "execution_count": 387,
   "id": "adolescent-testimony",
   "metadata": {},
   "outputs": [],
   "source": [
    "from portfolio_design.src.portfolio_builder.portfolio import Portfolio"
   ]
  },
  {
   "cell_type": "markdown",
   "id": "expressed-canvas",
   "metadata": {},
   "source": [
    "# Investment Parameters"
   ]
  },
  {
   "cell_type": "markdown",
   "id": "equipped-birmingham",
   "metadata": {},
   "source": [
    "**How long is the period you want to invest for?**"
   ]
  },
  {
   "cell_type": "code",
   "execution_count": 352,
   "id": "according-chuck",
   "metadata": {},
   "outputs": [
    {
     "name": "stdout",
     "output_type": "stream",
     "text": [
      "Your investment horizon is 2 years or 24 months\n"
     ]
    }
   ],
   "source": [
    "H_years = 2\n",
    "H_months = H_years * 12\n",
    "print(f'Your investment horizon is {H_years} years or {H_months} months')"
   ]
  },
  {
   "cell_type": "markdown",
   "id": "voluntary-interstate",
   "metadata": {},
   "source": [
    "**How much do you need at the end of the investment?**"
   ]
  },
  {
   "cell_type": "code",
   "execution_count": 353,
   "id": "convertible-image",
   "metadata": {},
   "outputs": [],
   "source": [
    "T = 14000"
   ]
  },
  {
   "cell_type": "markdown",
   "id": "imported-mailing",
   "metadata": {},
   "source": [
    "**How much will you contribute to the investment?**"
   ]
  },
  {
   "cell_type": "code",
   "execution_count": 380,
   "id": "superior-timing",
   "metadata": {},
   "outputs": [
    {
     "name": "stdout",
     "output_type": "stream",
     "text": [
      "You will need to generate a total return of 40.0% or 1.4% per month\n"
     ]
    }
   ],
   "source": [
    "initial_investment = 10000\n",
    "T_return = T / initial_investment - 1\n",
    "T_monthly_return = (1 + T_return)**(1 / H_months) - 1\n",
    "\n",
    "print(f'You will need to generate a total return of {T_return:.1%} or {T_monthly_return:.1%} per month')"
   ]
  },
  {
   "cell_type": "code",
   "execution_count": 381,
   "id": "valid-dressing",
   "metadata": {},
   "outputs": [
    {
     "data": {
      "text/plain": [
       "583.3333333333334"
      ]
     },
     "execution_count": 381,
     "metadata": {},
     "output_type": "execute_result"
    }
   ],
   "source": [
    "payment_per_month = T / H_months\n",
    "payment_per_month"
   ]
  },
  {
   "cell_type": "markdown",
   "id": "precise-blink",
   "metadata": {},
   "source": [
    "# Portfolio Parameters"
   ]
  },
  {
   "cell_type": "markdown",
   "id": "potential-helen",
   "metadata": {},
   "source": [
    "**List the assets in the proposed portfolio:**"
   ]
  },
  {
   "cell_type": "code",
   "execution_count": 511,
   "id": "dimensional-sudan",
   "metadata": {},
   "outputs": [
    {
     "name": "stdout",
     "output_type": "stream",
     "text": [
      "[*********************100%***********************]  3 of 3 completed\n"
     ]
    },
    {
     "name": "stderr",
     "output_type": "stream",
     "text": [
      "/Users/calvindelima/projects/investing/.venv/lib/python3.9/site-packages/pandas/core/generic.py:4152: PerformanceWarning: dropping on a non-lexsorted multi-index without a level parameter may impact performance.\n",
      "  obj = obj._drop_axis(labels, axis, level=level, errors=errors)\n"
     ]
    }
   ],
   "source": [
    "portfolio_assets = [\n",
    "  'DHR',\n",
    "  'COST',\n",
    "  'SOXX'\n",
    "]\n",
    "\n",
    "portfolio = Portfolio(portfolio_assets)"
   ]
  },
  {
   "cell_type": "markdown",
   "id": "intense-asset",
   "metadata": {},
   "source": [
    "# Portfolio Stats"
   ]
  },
  {
   "cell_type": "markdown",
   "id": "stone-level",
   "metadata": {},
   "source": [
    "## Returns"
   ]
  },
  {
   "cell_type": "code",
   "execution_count": 509,
   "id": "mighty-order",
   "metadata": {},
   "outputs": [
    {
     "name": "stdout",
     "output_type": "stream",
     "text": [
      "Your expected rate of return for an equal weighted portfolio is 36.4%\n",
      "\n",
      "Your expected return on an equal weighted portfolio is 4e+03\n",
      "\n",
      "Your expected annualized return for an equal weighted portfolio is 22.0%\n"
     ]
    }
   ],
   "source": [
    "portfolio_return_stats = portfolio.compute_return_stats(H_months)\n",
    "portfolio_rate_of_return = portfolio_return_stats['mean'].mean().round(3)\n",
    "portfolio_return = portfolio_rate_of_return * initial_investment\n",
    "portfolio_annualized_return = portfolio.compute_annualized_returns(\n",
    "  from_date = '2015-01-01',\n",
    "  n_annual_periods = 1\n",
    ").mean()\n",
    "\n",
    "\n",
    "print(\n",
    "  f'Your expected rate of return for an equal weighted portfolio is {portfolio_rate_of_return:.1%}'\n",
    ")\n",
    "print()\n",
    "print(\n",
    "  f'Your expected return on an equal weighted portfolio is {portfolio_return:.1}'\n",
    ")\n",
    "print()\n",
    "print(\n",
    "  f'Your expected annualized return for an equal weighted portfolio is {portfolio_annualized_return:.1%}'\n",
    ")"
   ]
  },
  {
   "cell_type": "code",
   "execution_count": 521,
   "id": "wound-advance",
   "metadata": {},
   "outputs": [
    {
     "name": "stdout",
     "output_type": "stream",
     "text": [
      "Your expected risk-adjusted rate of return for an equal weighted portfolio is 11.7%\n"
     ]
    }
   ],
   "source": [
    "sharpe_ratios = portfolio.compute_risk_adjusted_returns(\n",
    "  from_date = '2015-01-01',\n",
    "  riskfree_rate = 0.00374\n",
    ")\n",
    "sharpe_ratio_mean = sharpe_ratios.mean().round(3) - 1\n",
    "print(\n",
    "  f'Your expected risk-adjusted rate of return for an equal weighted portfolio is {sharpe_ratio_mean:.1%}'\n",
    ")"
   ]
  },
  {
   "cell_type": "markdown",
   "id": "southern-inclusion",
   "metadata": {},
   "source": [
    "## Volatility"
   ]
  },
  {
   "cell_type": "code",
   "execution_count": 491,
   "id": "german-rebound",
   "metadata": {},
   "outputs": [
    {
     "data": {
      "image/png": "[encoded data removed]",
      "text/plain": [
       "<Figure size 432x288 with 1 Axes>"
      ]
     },
     "metadata": {
      "needs_background": "light"
     },
     "output_type": "display_data"
    }
   ],
   "source": [
    "portfolio_volatility = portfolio.compute_volatility(H_months, as_percent = True)\n",
    "portfolio_volatility.plot.bar();"
   ]
  }
 ],
 "metadata": {
  "kernelspec": {
   "display_name": "Python 3",
   "language": "python",
   "name": "python3"
  },
  "language_info": {
   "codemirror_mode": {
    "name": "ipython",
    "version": 3
   },
   "file_extension": ".py",
   "mimetype": "text/x-python",
   "name": "python",
   "nbconvert_exporter": "python",
   "pygments_lexer": "ipython3",
   "version": "3.9.1"
  }
 },
 "nbformat": 4,
 "nbformat_minor": 5
}
